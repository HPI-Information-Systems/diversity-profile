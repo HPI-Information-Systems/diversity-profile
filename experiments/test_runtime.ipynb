{
  "cells": [
    {
      "cell_type": "code",
      "execution_count": null,
      "metadata": {},
      "outputs": [],
      "source": [
        "import pandas as pd\n",
        "import numpy as np\n",
        "import matplotlib.pyplot as plt\n",
        "import plotly.express as px\n",
        "import plotly.graph_objects as go\n",
        "\n",
        "import itertools\n",
        "import random\n",
        "import os\n",
        "import sys\n",
        "import pickle\n",
        "\n",
        "import src.pipe as pipe\n",
        "import src.label_gen as label_gen\n",
        "import src.entropy as entropy\n",
        "import src.coverage as cov\n",
        "import src.occurence_estimation as occ"
      ]
    },
    {
      "cell_type": "code",
      "execution_count": 4,
      "metadata": {},
      "outputs": [],
      "source": [
        "from time import time\n",
        "from tqdm import tqdm"
      ]
    },
    {
      "cell_type": "markdown",
      "metadata": {},
      "source": [
        "### Load Test Datasets\n",
        "- ACSIncome (data/df_ACSIncome.csv)\n",
        "- IMDb Top 7000 Movies (data/imdb.csv)\n",
        "- BlueNile (data/df_diamonds.csv)"
      ]
    },
    {
      "cell_type": "code",
      "execution_count": 5,
      "metadata": {},
      "outputs": [],
      "source": [
        "acs_income = pd.read_csv(\"data/df_ACSIncome_enc_num.csv\")"
      ]
    },
    {
      "cell_type": "code",
      "execution_count": 6,
      "metadata": {},
      "outputs": [
        {
          "data": {
            "text/plain": [
              "200664"
            ]
          },
          "execution_count": 6,
          "metadata": {},
          "output_type": "execute_result"
        }
      ],
      "source": [
        "len(acs_income.value_counts())"
      ]
    },
    {
      "cell_type": "code",
      "execution_count": 7,
      "metadata": {},
      "outputs": [],
      "source": [
        "blue_nile = pd.read_csv(\"data/df_diamonds_enc_num.csv\")"
      ]
    },
    {
      "cell_type": "code",
      "execution_count": 8,
      "metadata": {},
      "outputs": [],
      "source": [
        "uk_roadsafety = pd.read_csv(\"data/df_uk_road_accident_enc_num.csv\")"
      ]
    },
    {
      "cell_type": "code",
      "execution_count": 9,
      "metadata": {},
      "outputs": [
        {
          "data": {
            "text/plain": [
              "84998143"
            ]
          },
          "execution_count": 9,
          "metadata": {},
          "output_type": "execute_result"
        }
      ],
      "source": [
        "cov.combinatorial_sum(occ.get_cardinalities(uk_roadsafety))"
      ]
    },
    {
      "cell_type": "markdown",
      "metadata": {},
      "source": [
        "### Perform Runtime Tests"
      ]
    },
    {
      "cell_type": "code",
      "execution_count": 10,
      "metadata": {},
      "outputs": [],
      "source": [
        "def get_itemdict_of_combinatorial_sum(df):\n",
        "    unique_values = {col: df[col].unique() for col in df.columns}\n",
        "    cardinality = [f\"{col}#{len(unique_values[col])}\" for col in unique_values.keys()]\n",
        "    card_ps = itertools.chain.from_iterable(\n",
        "        itertools.combinations(cardinality, r) for r in range(2, len(cardinality) + 1)\n",
        "    )\n",
        "\n",
        "    cardinality_combinations = {\n",
        "        tuple(col.split(\"#\")[0] for col in i): cov.combinatorial_sum([int(col.split(\"#\")[1]) for col in i])\n",
        "        for i in tqdm(card_ps)\n",
        "    }\n",
        "\n",
        "    # Sorting the combinations by their combinatorial sum values\n",
        "    cardinality_combinations = dict(sorted(cardinality_combinations.items(), key=lambda item: item[1]))\n",
        "\n",
        "    selected_combinations = {}\n",
        "    # sample the cardinality_combinations dictionary to get 12 combinations with an even distribution of the combinatory sum values\n",
        "    for i in range(0, len(cardinality_combinations), int(len(cardinality_combinations)/12)):\n",
        "        selected_combinations[list(cardinality_combinations.keys())[i]] = list(cardinality_combinations.values())[i:i+1][-1]\n",
        "    \n",
        "    #check if all combination length are represented else add the largest combination for that length\n",
        "    for i in range(2, len(cardinality)+1):\n",
        "        if i not in [len(key) for key in selected_combinations.keys()]:\n",
        "            selected_combinations[list(cardinality_combinations.keys())[i-1]] = list(cardinality_combinations.values())[i-1:i][-1]\n",
        "\n",
        "    #add the three last elements of the cardinality_combinations dictionary if combinatorial sum not already in selected_combinations\n",
        "    for i in range(len(cardinality_combinations)-3, len(cardinality_combinations)):\n",
        "        if list(cardinality_combinations.values())[i] not in selected_combinations.values():\n",
        "            selected_combinations[list(cardinality_combinations.keys())[i]] = list(cardinality_combinations.values())[i:i+1][-1]\n",
        "\n",
        "    #sort cardinality combinations by value\n",
        "    selected_combinations = dict(sorted(selected_combinations.items(), key=lambda item: item[1]))\n",
        "\n",
        "    return selected_combinations"
      ]
    },
    {
      "cell_type": "code",
      "execution_count": 11,
      "metadata": {},
      "outputs": [],
      "source": [
        "def rowbased_runtime_performance(name, df, buckets, max_level=None):\n",
        "    runtime_dict = {}\n",
        "    output_dict = {}\n",
        "    for cols, combination_size in buckets.items():\n",
        "        t = time()\n",
        "        freq_count_rows, keys_rows = occ.calc_occurences_countmin_rowbased_traversal(df[list(cols)], max_level=max_level, width=True)\n",
        "        runtime = time() - t\n",
        "        memory_size_keys = sum([sys.getsizeof(v) for v in keys_rows.values()])\n",
        "        memory_size_cms = freq_count_rows.size()\n",
        "        no_of_keys = sum(len(v) for v in keys_rows.values())\n",
        "        runtime_dict[no_of_keys] = [runtime, combination_size, memory_size_keys, memory_size_cms]\n",
        "        output_dict[no_of_keys] = [freq_count_rows, keys_rows]\n",
        "    with open(f\"results/{name}_rowbased_output.pkl\", \"wb\") as f:\n",
        "        pickle.dump(output_dict, f)\n",
        "    del freq_count_rows, keys_rows\n",
        "    return runtime_dict"
      ]
    },
    {
      "cell_type": "code",
      "execution_count": 12,
      "metadata": {},
      "outputs": [],
      "source": [
        "def columnbased_runtime_performance(name, df, buckets, max_level=None):\n",
        "    runtime_dict = {}\n",
        "    output_dict = {}\n",
        "    for cols, combination_size in buckets.items():\n",
        "        t = time()\n",
        "        freq_count_cols, keys_cols = occ.calc_occurences_countmin_columnbased_groupby(df[list(cols)], max_level=max_level, width=True)\n",
        "        runtime = time() - t\n",
        "        memory_size_keys = sum([sys.getsizeof(v) for v in keys_cols.values()])\n",
        "        memory_size_cms = freq_count_cols.size()\n",
        "        no_of_keys = sum(len(v) for v in keys_cols.values())\n",
        "        runtime_dict[no_of_keys] = [runtime, combination_size, memory_size_keys, memory_size_cms]\n",
        "        output_dict[no_of_keys] = [freq_count_cols, keys_cols]\n",
        "    with open(f\"results/{name}_columnbased_output.pkl\", \"wb\") as f:\n",
        "        pickle.dump(output_dict, f)\n",
        "    del freq_count_cols, keys_cols\n",
        "    return runtime_dict"
      ]
    },
    {
      "cell_type": "code",
      "execution_count": 13,
      "metadata": {},
      "outputs": [],
      "source": [
        "def exact_runtime_performance(name, df, buckets, max_level=None):\n",
        "    runtime_dict = {}\n",
        "    output_dict = {}\n",
        "    for cols, combination_size in buckets.items():\n",
        "        t = time()\n",
        "        freq_count_cols, keys_cols = occ.calculate_rowbased_exact(df[list(cols)], max_level=max_level)\n",
        "        runtime = time() - t\n",
        "        memory_size_keys = sum([sys.getsizeof(v) for v in keys_cols.values()])\n",
        "        memory_size_dict = sys.getsizeof(freq_count_cols)\n",
        "        no_of_keys = sum(len(v) for v in keys_cols.values())\n",
        "        runtime_dict[no_of_keys] = [runtime, combination_size, memory_size_keys, memory_size_dict]\n",
        "        output_dict[no_of_keys] = [freq_count_cols, keys_cols, ]\n",
        "    with open(f\"results/{name}_exact_output.pkl\", \"wb\") as f:\n",
        "        pickle.dump(output_dict, f)\n",
        "    del freq_count_cols, keys_cols\n",
        "    return runtime_dict"
      ]
    },
    {
      "cell_type": "code",
      "execution_count": 14,
      "metadata": {},
      "outputs": [],
      "source": [
        "def calculate_runtime_values(name, df, buckets, max_level):\n",
        "    runtime_dict_rows = {}\n",
        "    runtime_dict_columns = {}\n",
        "    # Group-By Rowbased CountMin Sketch [Proposed Approach]\n",
        "    # Dependent on no. of unique rows in the dataset (base patterns)\n",
        "    runtime_dict_rows = rowbased_runtime_performance(name, df, buckets, max_level=max_level)\n",
        "    # Group-By Columnbased CountMin Sketch [Baseline Approach]\n",
        "    # Dependent on no. of unique combinations in the dataset\n",
        "    runtime_dict_columns = columnbased_runtime_performance(name, df, buckets, max_level=max_level)\n",
        "    # runtime_dict_exact = exact_runtime_performance(name, df, buckets, max_level=max_level)\n",
        "    runtime_dict_exact = {}\n",
        "    return runtime_dict_rows, runtime_dict_columns, runtime_dict_exact"
      ]
    },
    {
      "cell_type": "code",
      "execution_count": 129,
      "metadata": {},
      "outputs": [],
      "source": [
        "def visualize_runtime_experiment(name, runtime_dict_rows, runtime_dict_columns, runtime_dict_exact):   \n",
        "    #visualize runtime_dict as line scatterplot for each bucket and logaritmic x-axis using runtime[0] and show runtime[1] as bars behind the lineplot\n",
        "    fig = go.Figure()\n",
        "    fig.add_trace(go.Scatter(x=[i for i in runtime_dict_rows.keys()], y=[i[0] for i in runtime_dict_rows.values()], mode='lines+markers', name='Runtime (Rowbased CMS)', line=dict(color='red')))\n",
        "    #visualize runtime_dict_columns as line scatterplot\n",
        "    fig.add_trace(go.Scatter(x=[i for i in runtime_dict_columns.keys()], y=[i[0] for i in runtime_dict_columns.values()], mode='lines+markers', name='Runtime (Columnbased CMS)', line=dict(color='grey')))\n",
        "    #visualize runtime_dict_exact as line scatterplot\n",
        "    fig.add_trace(go.Scatter(x=[i for i in runtime_dict_exact.keys()], y=[i for i in runtime_dict_exact.values()], mode='lines+markers', name='Runtime (DataCube)', line=dict(color='black')))\n",
        "    # cut off y axis at max runtime of runtime_dict_columns or min of runtime_dict_exact, whichever is higher\n",
        "    max_value = max([max([i[0] for i in runtime_dict_columns.values()]), min(runtime_dict_exact.values())])\n",
        "    fig.update_yaxes(range=[0, 1.1*max_value])\n",
        "    fig.update_layout(title=f'Runtime of Proposed Approach for {name}', xaxis_title='Number of Patterns', yaxis_title='Runtime (s)', xaxis_type=\"log\")\n",
        "    fig.show()"
      ]
    },
    {
      "cell_type": "code",
      "execution_count": 165,
      "metadata": {},
      "outputs": [],
      "source": [
        "def get_pattern_length_viz_data_runtime(dict_output):\n",
        "    runtime_output_uk_viz = {}\n",
        "    for k, _v in dict_output.items():\n",
        "        pattern_length = len(_v[-1])\n",
        "        if pattern_length in runtime_output_uk_viz.keys():\n",
        "            if _v[0] > runtime_output_uk_viz[pattern_length]:\n",
        "                runtime_output_uk_viz[pattern_length] = _v[0]\n",
        "        else:\n",
        "            runtime_output_uk_viz.setdefault(pattern_length, _v[0])\n",
        "    return runtime_output_uk_viz"
      ]
    },
    {
      "cell_type": "code",
      "execution_count": 181,
      "metadata": {},
      "outputs": [],
      "source": [
        "def get_combination_length_viz_data_runtime(dict_output):\n",
        "    runtime_output_uk_viz = {}\n",
        "    for k, _v in dict_output.items():\n",
        "        runtime_output_uk_viz.setdefault(k, _v[0])\n",
        "    return runtime_output_uk_viz"
      ]
    },
    {
      "cell_type": "code",
      "execution_count": 189,
      "metadata": {},
      "outputs": [],
      "source": [
        "def visualize_runtime_pattern_experiment(name, runtime_dict_rows, runtime_dict_columns, runtime_dict_exact):\n",
        "    #visualize runtime_dict as line scatterplot for each bucket and logaritmic x-axis using runtime[0] and show runtime[1] as bars behind the lineplot\n",
        "    fig = go.Figure()\n",
        "    runtime_dict_rows = get_combination_length_viz_data_runtime(runtime_dict_rows)\n",
        "    fig.add_trace(go.Scatter(x=[i for i in runtime_dict_rows.keys()], y=[i for i in runtime_dict_rows.values()], mode='lines+markers', name='Runtime (Rowbased CMS)', line=dict(color='red')))\n",
        "    #visualize runtime_dict_columns as line scatterplot\n",
        "    runtime_dict_columns = get_combination_length_viz_data_runtime(runtime_dict_columns)\n",
        "    fig.add_trace(go.Scatter(x=[i for i in runtime_dict_columns.keys()], y=[i for i in runtime_dict_columns.values()], mode='lines+markers', name='Runtime (Columnbased CMS)', line=dict(color='grey')))\n",
        "    #visualize runtime_dict_exact as line scatterplot\n",
        "    runtime_dict_exact = get_combination_length_viz_data_runtime(runtime_dict_exact)\n",
        "    fig.add_trace(go.Scatter(x=[i for i in runtime_dict_exact.keys()], y=[i for i in runtime_dict_exact.values()], mode='lines+markers', name='Runtime (DataCube)', line=dict(color='black')))\n",
        "    # cut off y axis at max runtime of runtime_dict_columns or min of runtime_dict_exact, whichever is higher\n",
        "    # max_value = max([max([i for i in runtime_dict_columns.values()]), min(runtime_dict_exact.values())])\n",
        "    # fig.update_yaxes(range=[0, 1.1*max_value])\n",
        "    fig.update_layout(title=f'Runtime of Proposed Approach for {name}', xaxis_title='Number of Patterns', yaxis_title='Runtime (s)', xaxis_type=\"log\", yaxis_type=\"log\")\n",
        "    fig.show()"
      ]
    },
    {
      "cell_type": "code",
      "execution_count": 16,
      "metadata": {},
      "outputs": [],
      "source": [
        "def visualize_memory_size_experiment(name, runtime_dict_rows, runtime_dict_columns, runtime_dict_exact):\n",
        "    fig = go.Figure()\n",
        "    fig.add_trace(go.Scatter(x=[i for i in runtime_dict_rows.keys()], y=[i[3]/1000000 for i in runtime_dict_rows.values()], mode='lines+markers', name='Memory Size (Rowbased CMS)', line=dict(color='red')))\n",
        "    fig.add_trace(go.Scatter(x=[i for i in runtime_dict_columns.keys()], y=[i[3]/1000000 for i in runtime_dict_columns.values()], mode='lines+markers', name='Memory Size (Columnbased CMS)', line=dict(color='grey')))\n",
        "    # fig.add_trace(go.Scatter(x=[i for i in runtime_dict_exact.keys()], y=[i[3]/1000000 for i in runtime_dict_exact.values()], mode='lines+markers', name='Memory Size (Rowbased Dict)', line=dict(color='black')))\n",
        "    fig.update_layout(title=f'Memory Size of Proposed Approach for {name}', xaxis_title='Combinatorial Space')\n",
        "    fig.update_layout(yaxis=dict(title='Memory Size (MB)', overlaying='y', side='left'))\n",
        "    fig.update_layout(xaxis_type=\"log\")\n",
        "    fig.show()"
      ]
    },
    {
      "cell_type": "code",
      "execution_count": 85,
      "metadata": {},
      "outputs": [],
      "source": [
        "def visualize_no_of_combinations(name, buckets, runtime_dict_rows):\n",
        "    fig = go.Figure()\n",
        "    fig.add_trace(go.Bar(x=[str(len(i)) for i in buckets.keys()], y=[i[1] for i in runtime_dict_rows.values()], name='Number of Possible Patterns'))\n",
        "    fig.add_trace(go.Bar(x=[str(len(i)) for i in buckets.keys()], y=[i for i in runtime_dict_rows.keys()], name='Number of Existing Patterns', marker_color='grey'))\n",
        "    fig.update_layout(title=f'Number of Combinations for Proposed Approach for {name}', xaxis_title='Number of Keys')\n",
        "    fig.update_layout(yaxis=dict(title='Number of Patterns', overlaying='y', side='left', type='log'))\n",
        "    fig.update_layout(xaxis=dict(title='Number of Columns', overlaying='x', side='bottom'))\n",
        "    fig.update_xaxes(type='category')\n",
        "    fig.show()"
      ]
    },
    {
      "cell_type": "markdown",
      "metadata": {},
      "source": [
        "#### Frequency Count\n",
        "\n",
        "Check Runtime for different with growing combination size?!"
      ]
    },
    {
      "cell_type": "markdown",
      "metadata": {},
      "source": [
        "#### Create DataCube results\n",
        "##### Create SQL queries to execute in PostgreSQL"
      ]
    },
    {
      "cell_type": "code",
      "execution_count": 274,
      "metadata": {},
      "outputs": [],
      "source": [
        "# Given data\n",
        "data = pd.read_csv(\"results/data_cube_pattern_runtime_results.csv\", dtype={'dataset': str, 'no_attr': int, 'cols': str}, delimiter=\";\")"
      ]
    },
    {
      "cell_type": "code",
      "execution_count": 275,
      "metadata": {},
      "outputs": [],
      "source": [
        "#data to list of lists\n",
        "data = data.values.tolist()"
      ]
    },
    {
      "cell_type": "code",
      "execution_count": null,
      "metadata": {},
      "outputs": [],
      "source": [
        "# Function to generate SQL queries\n",
        "def generate_sql_query(row):\n",
        "    table_name, _, columns,_ = row\n",
        "    columns = columns.strip(\"()\").replace(\"'\", \"\").split(', ')\n",
        "    \n",
        "    # Constructing the SELECT statement\n",
        "    select_statement = '\\\",\\n\\t\\\"'.join(columns)\n",
        "    \n",
        "    # Constructing the GROUP BY statement\n",
        "    group_by_statement = \"GROUP BY\\n\\tCUBE(\\\"\" + '\\\",\\n\\t\\\"'.join(columns) + \"\\\")\"\n",
        "    \n",
        "    # Constructing the SQL query\n",
        "    sql_query = f'SELECT\\n\\t\\\"{select_statement}\\\",\\n\\tCOUNT(*)\\nFROM \\\"{table_name}\\\"\\n{group_by_statement}\\n\\n'\n",
        "    \n",
        "    return sql_query\n",
        "\n",
        "# Generating SQL queries for each row in the data\n",
        "for row in data:\n",
        "    sql_query = generate_sql_query(row)\n",
        "    print(sql_query)"
      ]
    },
    {
      "cell_type": "markdown",
      "metadata": {},
      "source": [
        "Load DataCube results"
      ]
    },
    {
      "cell_type": "code",
      "execution_count": null,
      "metadata": {},
      "outputs": [],
      "source": [
        "import ast\n",
        "dc_results = pd.read_csv(\"results/data_cube_pattern_runtime_results.csv\", dtype={'dataset': str, 'no_attr': int, 'cols': object}, delimiter=\";\", thousands=\",\", converters={'cols': ast.literal_eval})\n",
        "#get ACSIncome results in dict with no_keys as key and runtime as value\n",
        "acs_income_runtime_dict_dc = {row[1]: [row[3], row[2]] for row in dc_results.values if row[0] == \"ACSIncome\"}\n",
        "#sort by key\n",
        "acs_income_runtime_dict_dc = dict(sorted(acs_income_runtime_dict_dc.items()))\n",
        "#get BlueNile results in dict with no_keys as key and runtime as value\n",
        "blue_nile_runtime_dict_dc = {row[1]: [row[3], row[2]] for row in dc_results.values if row[0] == \"BlueNile\"}\n",
        "#sort by key\n",
        "blue_nile_runtime_dict_dc = dict(sorted(blue_nile_runtime_dict_dc.items()))\n",
        "#get UKRoadSafety results in dict with no_keys as key and runtime as value\n",
        "uk_roadsafety_runtime_dict_dc = {row[1]: [row[3], row[2]] for row in dc_results.values if row[0] == \"UKRoadSafety\"}\n",
        "#sort by key\n",
        "uk_roadsafety_runtime_dict_dc = dict(sorted(uk_roadsafety_runtime_dict_dc.items()))"
      ]
    },
    {
      "cell_type": "code",
      "execution_count": 281,
      "metadata": {},
      "outputs": [
        {
          "name": "stdout",
          "output_type": "stream",
          "text": [
            "(2, 1.8)\n",
            "(3, 3.7)\n",
            "(4, 9.6)\n",
            "(5, 31.0)\n",
            "(6, 144.0)\n",
            "(7, 230.0)\n",
            "(8, 560.0)\n",
            "(9, 1155.0)\n"
          ]
        }
      ],
      "source": [
        "for k, v in acs_income_runtime_dict_dc.items():\n",
        "    print(f\"({k}, {v[0]})\")"
      ]
    },
    {
      "cell_type": "markdown",
      "metadata": {},
      "source": [
        "#### Combination Size"
      ]
    },
    {
      "cell_type": "markdown",
      "metadata": {},
      "source": [
        "##### ACSIncome"
      ]
    },
    {
      "cell_type": "code",
      "execution_count": 56,
      "metadata": {},
      "outputs": [
        {
          "name": "stderr",
          "output_type": "stream",
          "text": [
            "502it [00:00, 34449.29it/s]\n"
          ]
        }
      ],
      "source": [
        "acs_income_buckets = get_itemdict_of_combinatorial_sum(acs_income)"
      ]
    },
    {
      "cell_type": "code",
      "execution_count": 83,
      "metadata": {},
      "outputs": [
        {
          "name": "stdout",
          "output_type": "stream",
          "text": [
            "[3, 7, 16, 5, 2, 50, 9, 50, 3]\n"
          ]
        }
      ],
      "source": [
        "acs_income_cardinality = [len(acs_income[col].unique()) for col in acs_income.columns]\n",
        "print(acs_income_cardinality)"
      ]
    },
    {
      "cell_type": "code",
      "execution_count": null,
      "metadata": {},
      "outputs": [],
      "source": [
        "acs_runtime_dict_rows, acs_runtime_dict_columns, acs_runtime_dict_exact = calculate_runtime_values(\"acs_income\", acs_income, acs_income_buckets, max_level=None)"
      ]
    },
    {
      "cell_type": "code",
      "execution_count": null,
      "metadata": {},
      "outputs": [],
      "source": [
        "visualize_runtime_experiment(\"ACSIncome\", acs_runtime_dict_rows, acs_runtime_dict_columns, acs_runtime_dict_exact)"
      ]
    },
    {
      "cell_type": "code",
      "execution_count": 98,
      "metadata": {},
      "outputs": [],
      "source": [
        "with open('results_server/ACSIncome_columnbased_runtime_freq_output_2023-10-16.pkl', 'rb') as f:\n",
        "    acs_runtime_dict_columns_s = pickle.load(f)\n",
        "with open('results_server/ACSIncome_rowbased_runtime_freq_output_2023-10-16.pkl', 'rb') as f:\n",
        "    acs_runtime_dict_rows_s = pickle.load(f)\n",
        "# with open('results_server/ACSIncome_exact_runtime_freq_output_2023-10-16.pkl', 'rb') as f:\n",
        "    # acs_runtime_dict_exact_s ={}"
      ]
    },
    {
      "cell_type": "code",
      "execution_count": 190,
      "metadata": {},
      "outputs": [
        {
          "data": {
            "application/vnd.plotly.v1+json": {
              "config": {
                "plotlyServerURL": "https://plot.ly"
              },
              "data": [
                {
                  "line": {
                    "color": "red"
                  },
                  "mode": "lines+markers",
                  "name": "Runtime (Rowbased CMS)",
                  "type": "scatter",
                  "x": [
                    11,
                    23,
                    29,
                    31,
                    203,
                    795,
                    2370,
                    4522,
                    12032,
                    19613,
                    26522,
                    58332,
                    72501,
                    293705,
                    532163,
                    1428222,
                    3674383,
                    3830436,
                    9339813
                  ],
                  "y": [
                    0.18604636192321777,
                    0.18899083137512207,
                    0.18976259231567383,
                    0.18676090240478516,
                    0.27157139778137207,
                    0.2098555564880371,
                    0.37121129035949707,
                    0.3960440158843994,
                    0.5564713478088379,
                    0.6842141151428223,
                    0.7028703689575195,
                    1.178659439086914,
                    1.2279362678527832,
                    5.744197368621826,
                    9.212841033935547,
                    23.181114673614502,
                    67.09959435462952,
                    69.1482081413269,
                    196.45074248313904
                  ]
                },
                {
                  "line": {
                    "color": "grey"
                  },
                  "mode": "lines+markers",
                  "name": "Runtime (Columnbased CMS)",
                  "type": "scatter",
                  "x": [
                    11,
                    23,
                    29,
                    31,
                    203,
                    795,
                    2370,
                    4522,
                    12032,
                    19613,
                    26522,
                    58332,
                    72501,
                    293705,
                    532163,
                    1428222,
                    3674383,
                    3830436,
                    9339813
                  ],
                  "y": [
                    0.42577648162841797,
                    0.4013681411743164,
                    0.4024045467376709,
                    0.39040565490722656,
                    1.0067307949066162,
                    0.4358534812927246,
                    2.374760389328003,
                    2.4188997745513916,
                    5.515735626220703,
                    5.576550722122192,
                    5.557877779006958,
                    5.800347566604614,
                    5.748585224151611,
                    30.05010724067688,
                    31.085249185562134,
                    39.63964128494263,
                    110.1231849193573,
                    135.71436762809753,
                    391.58150911331177
                  ]
                },
                {
                  "line": {
                    "color": "black"
                  },
                  "mode": "lines+markers",
                  "name": "Runtime (DataCube)",
                  "type": "scatter",
                  "x": [
                    11,
                    23,
                    29,
                    31,
                    203,
                    795,
                    2370,
                    4522,
                    12032,
                    19613,
                    26522,
                    58332,
                    72501,
                    142822,
                    293705,
                    532163,
                    3674383,
                    3830436,
                    9339813
                  ],
                  "y": [
                    1.6,
                    1.5,
                    1.5,
                    1.5,
                    3.7,
                    1.8,
                    9.7,
                    9.6,
                    23,
                    23,
                    23,
                    31,
                    28,
                    230,
                    219,
                    181,
                    560,
                    null,
                    1110
                  ]
                }
              ],
              "layout": {
                "template": {
                  "data": {
                    "candlestick": [
                      {
                        "decreasing": {
                          "line": {
                            "color": "#000033"
                          }
                        },
                        "increasing": {
                          "line": {
                            "color": "#000032"
                          }
                        },
                        "type": "candlestick"
                      }
                    ],
                    "contour": [
                      {
                        "colorscale": [
                          [
                            0,
                            "#000011"
                          ],
                          [
                            0.1111111111111111,
                            "#000012"
                          ],
                          [
                            0.2222222222222222,
                            "#000013"
                          ],
                          [
                            0.3333333333333333,
                            "#000014"
                          ],
                          [
                            0.4444444444444444,
                            "#000015"
                          ],
                          [
                            0.5555555555555556,
                            "#000016"
                          ],
                          [
                            0.6666666666666666,
                            "#000017"
                          ],
                          [
                            0.7777777777777778,
                            "#000018"
                          ],
                          [
                            0.8888888888888888,
                            "#000019"
                          ],
                          [
                            1,
                            "#000020"
                          ]
                        ],
                        "type": "contour"
                      }
                    ],
                    "contourcarpet": [
                      {
                        "colorscale": [
                          [
                            0,
                            "#000011"
                          ],
                          [
                            0.1111111111111111,
                            "#000012"
                          ],
                          [
                            0.2222222222222222,
                            "#000013"
                          ],
                          [
                            0.3333333333333333,
                            "#000014"
                          ],
                          [
                            0.4444444444444444,
                            "#000015"
                          ],
                          [
                            0.5555555555555556,
                            "#000016"
                          ],
                          [
                            0.6666666666666666,
                            "#000017"
                          ],
                          [
                            0.7777777777777778,
                            "#000018"
                          ],
                          [
                            0.8888888888888888,
                            "#000019"
                          ],
                          [
                            1,
                            "#000020"
                          ]
                        ],
                        "type": "contourcarpet"
                      }
                    ],
                    "heatmap": [
                      {
                        "colorscale": [
                          [
                            0,
                            "#000011"
                          ],
                          [
                            0.1111111111111111,
                            "#000012"
                          ],
                          [
                            0.2222222222222222,
                            "#000013"
                          ],
                          [
                            0.3333333333333333,
                            "#000014"
                          ],
                          [
                            0.4444444444444444,
                            "#000015"
                          ],
                          [
                            0.5555555555555556,
                            "#000016"
                          ],
                          [
                            0.6666666666666666,
                            "#000017"
                          ],
                          [
                            0.7777777777777778,
                            "#000018"
                          ],
                          [
                            0.8888888888888888,
                            "#000019"
                          ],
                          [
                            1,
                            "#000020"
                          ]
                        ],
                        "type": "heatmap"
                      }
                    ],
                    "histogram2d": [
                      {
                        "colorscale": [
                          [
                            0,
                            "#000011"
                          ],
                          [
                            0.1111111111111111,
                            "#000012"
                          ],
                          [
                            0.2222222222222222,
                            "#000013"
                          ],
                          [
                            0.3333333333333333,
                            "#000014"
                          ],
                          [
                            0.4444444444444444,
                            "#000015"
                          ],
                          [
                            0.5555555555555556,
                            "#000016"
                          ],
                          [
                            0.6666666666666666,
                            "#000017"
                          ],
                          [
                            0.7777777777777778,
                            "#000018"
                          ],
                          [
                            0.8888888888888888,
                            "#000019"
                          ],
                          [
                            1,
                            "#000020"
                          ]
                        ],
                        "type": "histogram2d"
                      }
                    ],
                    "icicle": [
                      {
                        "textfont": {
                          "color": "white"
                        },
                        "type": "icicle"
                      }
                    ],
                    "sankey": [
                      {
                        "textfont": {
                          "color": "#000036"
                        },
                        "type": "sankey"
                      }
                    ],
                    "scatter": [
                      {
                        "marker": {
                          "line": {
                            "width": 0
                          }
                        },
                        "type": "scatter"
                      }
                    ],
                    "table": [
                      {
                        "cells": {
                          "fill": {
                            "color": "#000038"
                          },
                          "font": {
                            "color": "#000037"
                          },
                          "line": {
                            "color": "#000039"
                          }
                        },
                        "header": {
                          "fill": {
                            "color": "#000040"
                          },
                          "font": {
                            "color": "#000036"
                          },
                          "line": {
                            "color": "#000039"
                          }
                        },
                        "type": "table"
                      }
                    ],
                    "waterfall": [
                      {
                        "connector": {
                          "line": {
                            "color": "#000036",
                            "width": 2
                          }
                        },
                        "decreasing": {
                          "marker": {
                            "color": "#000033"
                          }
                        },
                        "increasing": {
                          "marker": {
                            "color": "#000032"
                          }
                        },
                        "totals": {
                          "marker": {
                            "color": "#000034"
                          }
                        },
                        "type": "waterfall"
                      }
                    ]
                  },
                  "layout": {
                    "coloraxis": {
                      "colorscale": [
                        [
                          0,
                          "#000011"
                        ],
                        [
                          0.1111111111111111,
                          "#000012"
                        ],
                        [
                          0.2222222222222222,
                          "#000013"
                        ],
                        [
                          0.3333333333333333,
                          "#000014"
                        ],
                        [
                          0.4444444444444444,
                          "#000015"
                        ],
                        [
                          0.5555555555555556,
                          "#000016"
                        ],
                        [
                          0.6666666666666666,
                          "#000017"
                        ],
                        [
                          0.7777777777777778,
                          "#000018"
                        ],
                        [
                          0.8888888888888888,
                          "#000019"
                        ],
                        [
                          1,
                          "#000020"
                        ]
                      ]
                    },
                    "colorscale": {
                      "diverging": [
                        [
                          0,
                          "#000021"
                        ],
                        [
                          0.1,
                          "#000022"
                        ],
                        [
                          0.2,
                          "#000023"
                        ],
                        [
                          0.3,
                          "#000024"
                        ],
                        [
                          0.4,
                          "#000025"
                        ],
                        [
                          0.5,
                          "#000026"
                        ],
                        [
                          0.6,
                          "#000027"
                        ],
                        [
                          0.7,
                          "#000028"
                        ],
                        [
                          0.8,
                          "#000029"
                        ],
                        [
                          0.9,
                          "#000030"
                        ],
                        [
                          1,
                          "#000031"
                        ]
                      ],
                      "sequential": [
                        [
                          0,
                          "#000011"
                        ],
                        [
                          0.1111111111111111,
                          "#000012"
                        ],
                        [
                          0.2222222222222222,
                          "#000013"
                        ],
                        [
                          0.3333333333333333,
                          "#000014"
                        ],
                        [
                          0.4444444444444444,
                          "#000015"
                        ],
                        [
                          0.5555555555555556,
                          "#000016"
                        ],
                        [
                          0.6666666666666666,
                          "#000017"
                        ],
                        [
                          0.7777777777777778,
                          "#000018"
                        ],
                        [
                          0.8888888888888888,
                          "#000019"
                        ],
                        [
                          1,
                          "#000020"
                        ]
                      ],
                      "sequentialminus": [
                        [
                          0,
                          "#000011"
                        ],
                        [
                          0.1111111111111111,
                          "#000012"
                        ],
                        [
                          0.2222222222222222,
                          "#000013"
                        ],
                        [
                          0.3333333333333333,
                          "#000014"
                        ],
                        [
                          0.4444444444444444,
                          "#000015"
                        ],
                        [
                          0.5555555555555556,
                          "#000016"
                        ],
                        [
                          0.6666666666666666,
                          "#000017"
                        ],
                        [
                          0.7777777777777778,
                          "#000018"
                        ],
                        [
                          0.8888888888888888,
                          "#000019"
                        ],
                        [
                          1,
                          "#000020"
                        ]
                      ]
                    },
                    "colorway": [
                      "#000001",
                      "#000002",
                      "#000003",
                      "#000004",
                      "#000005",
                      "#000006",
                      "#000007",
                      "#000008",
                      "#000009",
                      "#000010"
                    ]
                  }
                },
                "title": {
                  "text": "Runtime of Proposed Approach for ACSIncome"
                },
                "xaxis": {
                  "title": {
                    "text": "Number of Patterns"
                  },
                  "type": "log"
                },
                "yaxis": {
                  "title": {
                    "text": "Runtime (s)"
                  },
                  "type": "log"
                }
              }
            }
          },
          "metadata": {},
          "output_type": "display_data"
        }
      ],
      "source": [
        "visualize_runtime_pattern_experiment(\"ACSIncome\", acs_runtime_dict_rows_s, acs_runtime_dict_columns_s, acs_income_runtime_dict_dc)"
      ]
    },
    {
      "cell_type": "code",
      "execution_count": 180,
      "metadata": {},
      "outputs": [
        {
          "data": {
            "application/vnd.plotly.v1+json": {
              "config": {
                "plotlyServerURL": "https://plot.ly"
              },
              "data": [
                {
                  "name": "Number of Possible Patterns",
                  "type": "bar",
                  "x": [
                    "2",
                    "2",
                    "2",
                    "2",
                    "3",
                    "2",
                    "4",
                    "4",
                    "5",
                    "5",
                    "5",
                    "5",
                    "5",
                    "7",
                    "7",
                    "7",
                    "8",
                    "8",
                    "9"
                  ],
                  "y": [
                    11,
                    23,
                    29,
                    31,
                    203,
                    866,
                    2447,
                    6119,
                    14687,
                    32639,
                    73439,
                    166463,
                    416159,
                    1175039,
                    4993919,
                    63672479,
                    254689919,
                    339586559,
                    1018759679
                  ]
                },
                {
                  "marker": {
                    "color": "grey"
                  },
                  "name": "Number of Existing Patterns",
                  "type": "bar",
                  "x": [
                    "2",
                    "2",
                    "2",
                    "2",
                    "3",
                    "2",
                    "4",
                    "4",
                    "5",
                    "5",
                    "5",
                    "5",
                    "5",
                    "7",
                    "7",
                    "7",
                    "8",
                    "8",
                    "9"
                  ],
                  "y": [
                    11,
                    23,
                    29,
                    31,
                    203,
                    795,
                    2370,
                    4522,
                    12032,
                    19613,
                    26522,
                    58332,
                    72501,
                    293705,
                    532163,
                    1428222,
                    3674383,
                    3830436,
                    9339813
                  ]
                }
              ],
              "layout": {
                "template": {
                  "data": {
                    "candlestick": [
                      {
                        "decreasing": {
                          "line": {
                            "color": "#000033"
                          }
                        },
                        "increasing": {
                          "line": {
                            "color": "#000032"
                          }
                        },
                        "type": "candlestick"
                      }
                    ],
                    "contour": [
                      {
                        "colorscale": [
                          [
                            0,
                            "#000011"
                          ],
                          [
                            0.1111111111111111,
                            "#000012"
                          ],
                          [
                            0.2222222222222222,
                            "#000013"
                          ],
                          [
                            0.3333333333333333,
                            "#000014"
                          ],
                          [
                            0.4444444444444444,
                            "#000015"
                          ],
                          [
                            0.5555555555555556,
                            "#000016"
                          ],
                          [
                            0.6666666666666666,
                            "#000017"
                          ],
                          [
                            0.7777777777777778,
                            "#000018"
                          ],
                          [
                            0.8888888888888888,
                            "#000019"
                          ],
                          [
                            1,
                            "#000020"
                          ]
                        ],
                        "type": "contour"
                      }
                    ],
                    "contourcarpet": [
                      {
                        "colorscale": [
                          [
                            0,
                            "#000011"
                          ],
                          [
                            0.1111111111111111,
                            "#000012"
                          ],
                          [
                            0.2222222222222222,
                            "#000013"
                          ],
                          [
                            0.3333333333333333,
                            "#000014"
                          ],
                          [
                            0.4444444444444444,
                            "#000015"
                          ],
                          [
                            0.5555555555555556,
                            "#000016"
                          ],
                          [
                            0.6666666666666666,
                            "#000017"
                          ],
                          [
                            0.7777777777777778,
                            "#000018"
                          ],
                          [
                            0.8888888888888888,
                            "#000019"
                          ],
                          [
                            1,
                            "#000020"
                          ]
                        ],
                        "type": "contourcarpet"
                      }
                    ],
                    "heatmap": [
                      {
                        "colorscale": [
                          [
                            0,
                            "#000011"
                          ],
                          [
                            0.1111111111111111,
                            "#000012"
                          ],
                          [
                            0.2222222222222222,
                            "#000013"
                          ],
                          [
                            0.3333333333333333,
                            "#000014"
                          ],
                          [
                            0.4444444444444444,
                            "#000015"
                          ],
                          [
                            0.5555555555555556,
                            "#000016"
                          ],
                          [
                            0.6666666666666666,
                            "#000017"
                          ],
                          [
                            0.7777777777777778,
                            "#000018"
                          ],
                          [
                            0.8888888888888888,
                            "#000019"
                          ],
                          [
                            1,
                            "#000020"
                          ]
                        ],
                        "type": "heatmap"
                      }
                    ],
                    "histogram2d": [
                      {
                        "colorscale": [
                          [
                            0,
                            "#000011"
                          ],
                          [
                            0.1111111111111111,
                            "#000012"
                          ],
                          [
                            0.2222222222222222,
                            "#000013"
                          ],
                          [
                            0.3333333333333333,
                            "#000014"
                          ],
                          [
                            0.4444444444444444,
                            "#000015"
                          ],
                          [
                            0.5555555555555556,
                            "#000016"
                          ],
                          [
                            0.6666666666666666,
                            "#000017"
                          ],
                          [
                            0.7777777777777778,
                            "#000018"
                          ],
                          [
                            0.8888888888888888,
                            "#000019"
                          ],
                          [
                            1,
                            "#000020"
                          ]
                        ],
                        "type": "histogram2d"
                      }
                    ],
                    "icicle": [
                      {
                        "textfont": {
                          "color": "white"
                        },
                        "type": "icicle"
                      }
                    ],
                    "sankey": [
                      {
                        "textfont": {
                          "color": "#000036"
                        },
                        "type": "sankey"
                      }
                    ],
                    "scatter": [
                      {
                        "marker": {
                          "line": {
                            "width": 0
                          }
                        },
                        "type": "scatter"
                      }
                    ],
                    "table": [
                      {
                        "cells": {
                          "fill": {
                            "color": "#000038"
                          },
                          "font": {
                            "color": "#000037"
                          },
                          "line": {
                            "color": "#000039"
                          }
                        },
                        "header": {
                          "fill": {
                            "color": "#000040"
                          },
                          "font": {
                            "color": "#000036"
                          },
                          "line": {
                            "color": "#000039"
                          }
                        },
                        "type": "table"
                      }
                    ],
                    "waterfall": [
                      {
                        "connector": {
                          "line": {
                            "color": "#000036",
                            "width": 2
                          }
                        },
                        "decreasing": {
                          "marker": {
                            "color": "#000033"
                          }
                        },
                        "increasing": {
                          "marker": {
                            "color": "#000032"
                          }
                        },
                        "totals": {
                          "marker": {
                            "color": "#000034"
                          }
                        },
                        "type": "waterfall"
                      }
                    ]
                  },
                  "layout": {
                    "coloraxis": {
                      "colorscale": [
                        [
                          0,
                          "#000011"
                        ],
                        [
                          0.1111111111111111,
                          "#000012"
                        ],
                        [
                          0.2222222222222222,
                          "#000013"
                        ],
                        [
                          0.3333333333333333,
                          "#000014"
                        ],
                        [
                          0.4444444444444444,
                          "#000015"
                        ],
                        [
                          0.5555555555555556,
                          "#000016"
                        ],
                        [
                          0.6666666666666666,
                          "#000017"
                        ],
                        [
                          0.7777777777777778,
                          "#000018"
                        ],
                        [
                          0.8888888888888888,
                          "#000019"
                        ],
                        [
                          1,
                          "#000020"
                        ]
                      ]
                    },
                    "colorscale": {
                      "diverging": [
                        [
                          0,
                          "#000021"
                        ],
                        [
                          0.1,
                          "#000022"
                        ],
                        [
                          0.2,
                          "#000023"
                        ],
                        [
                          0.3,
                          "#000024"
                        ],
                        [
                          0.4,
                          "#000025"
                        ],
                        [
                          0.5,
                          "#000026"
                        ],
                        [
                          0.6,
                          "#000027"
                        ],
                        [
                          0.7,
                          "#000028"
                        ],
                        [
                          0.8,
                          "#000029"
                        ],
                        [
                          0.9,
                          "#000030"
                        ],
                        [
                          1,
                          "#000031"
                        ]
                      ],
                      "sequential": [
                        [
                          0,
                          "#000011"
                        ],
                        [
                          0.1111111111111111,
                          "#000012"
                        ],
                        [
                          0.2222222222222222,
                          "#000013"
                        ],
                        [
                          0.3333333333333333,
                          "#000014"
                        ],
                        [
                          0.4444444444444444,
                          "#000015"
                        ],
                        [
                          0.5555555555555556,
                          "#000016"
                        ],
                        [
                          0.6666666666666666,
                          "#000017"
                        ],
                        [
                          0.7777777777777778,
                          "#000018"
                        ],
                        [
                          0.8888888888888888,
                          "#000019"
                        ],
                        [
                          1,
                          "#000020"
                        ]
                      ],
                      "sequentialminus": [
                        [
                          0,
                          "#000011"
                        ],
                        [
                          0.1111111111111111,
                          "#000012"
                        ],
                        [
                          0.2222222222222222,
                          "#000013"
                        ],
                        [
                          0.3333333333333333,
                          "#000014"
                        ],
                        [
                          0.4444444444444444,
                          "#000015"
                        ],
                        [
                          0.5555555555555556,
                          "#000016"
                        ],
                        [
                          0.6666666666666666,
                          "#000017"
                        ],
                        [
                          0.7777777777777778,
                          "#000018"
                        ],
                        [
                          0.8888888888888888,
                          "#000019"
                        ],
                        [
                          1,
                          "#000020"
                        ]
                      ]
                    },
                    "colorway": [
                      "#000001",
                      "#000002",
                      "#000003",
                      "#000004",
                      "#000005",
                      "#000006",
                      "#000007",
                      "#000008",
                      "#000009",
                      "#000010"
                    ]
                  }
                },
                "title": {
                  "text": "Number of Combinations for Proposed Approach for ACSIncome"
                },
                "xaxis": {
                  "overlaying": "x",
                  "side": "bottom",
                  "title": {
                    "text": "Number of Columns"
                  },
                  "type": "category"
                },
                "yaxis": {
                  "overlaying": "y",
                  "side": "left",
                  "title": {
                    "text": "Number of Patterns"
                  },
                  "type": "log"
                }
              }
            }
          },
          "metadata": {},
          "output_type": "display_data"
        }
      ],
      "source": [
        "#show number of potential combinations for every number of keys with plotly\n",
        "visualize_no_of_combinations(\"ACSIncome\", acs_income_buckets, acs_runtime_dict_rows_s)"
      ]
    },
    {
      "cell_type": "markdown",
      "metadata": {},
      "source": [
        "Check Memory Size for growing combination size?!\n",
        "\n",
        "-  memory of CMS = ( width * depth * cell_size ) + HLL size\n",
        "    - width is the width of the CMS and power of 2\n",
        "    - depth is the depth of the CMS and defaults to 8\n",
        "    - cell_size is the size of each cell in bytes and defaults to 4\n",
        "    - HLL size is the size of the HyperLogLog used for cardinality estimation and defaults to 64KB"
      ]
    },
    {
      "cell_type": "code",
      "execution_count": null,
      "metadata": {},
      "outputs": [],
      "source": [
        "#visualize memory size im MegaBytes as lineplot with markers \n",
        "visualize_memory_size_experiment(\"ACSIncome\", acs_runtime_dict_rows, acs_runtime_dict_columns, acs_income_runtime_dict_exact)"
      ]
    },
    {
      "cell_type": "markdown",
      "metadata": {},
      "source": [
        "##### BlueNile"
      ]
    },
    {
      "cell_type": "markdown",
      "metadata": {},
      "source": [
        "Runtime Viz"
      ]
    },
    {
      "cell_type": "code",
      "execution_count": 21,
      "metadata": {},
      "outputs": [
        {
          "name": "stderr",
          "output_type": "stream",
          "text": [
            "120it [00:00, 54571.88it/s]\n"
          ]
        }
      ],
      "source": [
        "bluenile_buckets = get_itemdict_of_combinatorial_sum(blue_nile)"
      ]
    },
    {
      "cell_type": "code",
      "execution_count": null,
      "metadata": {},
      "outputs": [],
      "source": [
        "bluenile_runtime_dict_rows, bluenile_runtime_dict_columns, bluenile_runtime_dict_exact = calculate_runtime_values(\"BlueNile\", blue_nile, bluenile_buckets, max_level=None)"
      ]
    },
    {
      "cell_type": "code",
      "execution_count": 77,
      "metadata": {},
      "outputs": [],
      "source": [
        "with open('results_server/BlueNile_columnbased_runtime_freq_output_2023-10-16.pkl', 'rb') as f:\n",
        "    bluenile_runtime_dict_columns_s = pickle.load(f)\n",
        "# with open('results_server/BlueNile_exact_runtime_freq_output_2023-10-16.pkl', 'rb') as f:\n",
        "    bluenile_runtime_dict_exact_s = {}\n",
        "with open('results_server/BlueNile_rowbased_runtime_freq_output_2023-10-16.pkl', 'rb') as f:\n",
        "    bluenile_runtime_dict_rows_s = pickle.load(f)"
      ]
    },
    {
      "cell_type": "code",
      "execution_count": 150,
      "metadata": {},
      "outputs": [
        {
          "data": {
            "application/vnd.plotly.v1+json": {
              "config": {
                "plotlyServerURL": "https://plot.ly"
              },
              "data": [
                {
                  "line": {
                    "color": "red"
                  },
                  "mode": "lines+markers",
                  "name": "Runtime (Rowbased CMS)",
                  "type": "scatter",
                  "x": [
                    15,
                    33,
                    34,
                    43,
                    96,
                    147,
                    376,
                    390,
                    792,
                    1221,
                    2223,
                    2449,
                    8913,
                    15828,
                    43089,
                    129194
                  ],
                  "y": [
                    0.014041423797607422,
                    0.010967731475830078,
                    0.010948419570922852,
                    0.011045455932617188,
                    0.011275529861450195,
                    0.01609039306640625,
                    0.01721334457397461,
                    0.017140626907348633,
                    0.02002882957458496,
                    0.028911590576171875,
                    0.03794980049133301,
                    0.03779458999633789,
                    0.12943100929260254,
                    0.21024465560913086,
                    0.5960707664489746,
                    1.9321601390838623
                  ]
                },
                {
                  "line": {
                    "color": "grey"
                  },
                  "mode": "lines+markers",
                  "name": "Runtime (Columnbased CMS)",
                  "type": "scatter",
                  "x": [
                    15,
                    33,
                    34,
                    43,
                    96,
                    147,
                    376,
                    390,
                    792,
                    1221,
                    2223,
                    2449,
                    8913,
                    15828,
                    43089,
                    129194
                  ],
                  "y": [
                    0.030066490173339844,
                    0.02754807472229004,
                    0.02717876434326172,
                    0.027884244918823242,
                    0.02756476402282715,
                    0.06881237030029297,
                    0.06720662117004395,
                    0.06729865074157715,
                    0.06786417961120605,
                    0.15877366065979004,
                    0.16405534744262695,
                    0.16319751739501953,
                    0.3899521827697754,
                    0.40435361862182617,
                    0.9863603115081787,
                    2.306396484375
                  ]
                },
                {
                  "line": {
                    "color": "black"
                  },
                  "mode": "lines+markers",
                  "name": "Runtime (DataCube)",
                  "type": "scatter",
                  "x": [
                    15,
                    33,
                    34,
                    43,
                    96,
                    147,
                    376,
                    390,
                    792,
                    1221,
                    2223,
                    2449,
                    8913,
                    15828,
                    43089,
                    129194
                  ],
                  "y": [
                    0.1,
                    0.08,
                    0.1,
                    0.1,
                    0.1,
                    0.25,
                    0.244,
                    0.26,
                    0.26,
                    0.7,
                    0.9,
                    0.9,
                    2,
                    1.9,
                    5.1,
                    14
                  ]
                }
              ],
              "layout": {
                "template": {
                  "data": {
                    "candlestick": [
                      {
                        "decreasing": {
                          "line": {
                            "color": "#000033"
                          }
                        },
                        "increasing": {
                          "line": {
                            "color": "#000032"
                          }
                        },
                        "type": "candlestick"
                      }
                    ],
                    "contour": [
                      {
                        "colorscale": [
                          [
                            0,
                            "#000011"
                          ],
                          [
                            0.1111111111111111,
                            "#000012"
                          ],
                          [
                            0.2222222222222222,
                            "#000013"
                          ],
                          [
                            0.3333333333333333,
                            "#000014"
                          ],
                          [
                            0.4444444444444444,
                            "#000015"
                          ],
                          [
                            0.5555555555555556,
                            "#000016"
                          ],
                          [
                            0.6666666666666666,
                            "#000017"
                          ],
                          [
                            0.7777777777777778,
                            "#000018"
                          ],
                          [
                            0.8888888888888888,
                            "#000019"
                          ],
                          [
                            1,
                            "#000020"
                          ]
                        ],
                        "type": "contour"
                      }
                    ],
                    "contourcarpet": [
                      {
                        "colorscale": [
                          [
                            0,
                            "#000011"
                          ],
                          [
                            0.1111111111111111,
                            "#000012"
                          ],
                          [
                            0.2222222222222222,
                            "#000013"
                          ],
                          [
                            0.3333333333333333,
                            "#000014"
                          ],
                          [
                            0.4444444444444444,
                            "#000015"
                          ],
                          [
                            0.5555555555555556,
                            "#000016"
                          ],
                          [
                            0.6666666666666666,
                            "#000017"
                          ],
                          [
                            0.7777777777777778,
                            "#000018"
                          ],
                          [
                            0.8888888888888888,
                            "#000019"
                          ],
                          [
                            1,
                            "#000020"
                          ]
                        ],
                        "type": "contourcarpet"
                      }
                    ],
                    "heatmap": [
                      {
                        "colorscale": [
                          [
                            0,
                            "#000011"
                          ],
                          [
                            0.1111111111111111,
                            "#000012"
                          ],
                          [
                            0.2222222222222222,
                            "#000013"
                          ],
                          [
                            0.3333333333333333,
                            "#000014"
                          ],
                          [
                            0.4444444444444444,
                            "#000015"
                          ],
                          [
                            0.5555555555555556,
                            "#000016"
                          ],
                          [
                            0.6666666666666666,
                            "#000017"
                          ],
                          [
                            0.7777777777777778,
                            "#000018"
                          ],
                          [
                            0.8888888888888888,
                            "#000019"
                          ],
                          [
                            1,
                            "#000020"
                          ]
                        ],
                        "type": "heatmap"
                      }
                    ],
                    "histogram2d": [
                      {
                        "colorscale": [
                          [
                            0,
                            "#000011"
                          ],
                          [
                            0.1111111111111111,
                            "#000012"
                          ],
                          [
                            0.2222222222222222,
                            "#000013"
                          ],
                          [
                            0.3333333333333333,
                            "#000014"
                          ],
                          [
                            0.4444444444444444,
                            "#000015"
                          ],
                          [
                            0.5555555555555556,
                            "#000016"
                          ],
                          [
                            0.6666666666666666,
                            "#000017"
                          ],
                          [
                            0.7777777777777778,
                            "#000018"
                          ],
                          [
                            0.8888888888888888,
                            "#000019"
                          ],
                          [
                            1,
                            "#000020"
                          ]
                        ],
                        "type": "histogram2d"
                      }
                    ],
                    "icicle": [
                      {
                        "textfont": {
                          "color": "white"
                        },
                        "type": "icicle"
                      }
                    ],
                    "sankey": [
                      {
                        "textfont": {
                          "color": "#000036"
                        },
                        "type": "sankey"
                      }
                    ],
                    "scatter": [
                      {
                        "marker": {
                          "line": {
                            "width": 0
                          }
                        },
                        "type": "scatter"
                      }
                    ],
                    "table": [
                      {
                        "cells": {
                          "fill": {
                            "color": "#000038"
                          },
                          "font": {
                            "color": "#000037"
                          },
                          "line": {
                            "color": "#000039"
                          }
                        },
                        "header": {
                          "fill": {
                            "color": "#000040"
                          },
                          "font": {
                            "color": "#000036"
                          },
                          "line": {
                            "color": "#000039"
                          }
                        },
                        "type": "table"
                      }
                    ],
                    "waterfall": [
                      {
                        "connector": {
                          "line": {
                            "color": "#000036",
                            "width": 2
                          }
                        },
                        "decreasing": {
                          "marker": {
                            "color": "#000033"
                          }
                        },
                        "increasing": {
                          "marker": {
                            "color": "#000032"
                          }
                        },
                        "totals": {
                          "marker": {
                            "color": "#000034"
                          }
                        },
                        "type": "waterfall"
                      }
                    ]
                  },
                  "layout": {
                    "coloraxis": {
                      "colorscale": [
                        [
                          0,
                          "#000011"
                        ],
                        [
                          0.1111111111111111,
                          "#000012"
                        ],
                        [
                          0.2222222222222222,
                          "#000013"
                        ],
                        [
                          0.3333333333333333,
                          "#000014"
                        ],
                        [
                          0.4444444444444444,
                          "#000015"
                        ],
                        [
                          0.5555555555555556,
                          "#000016"
                        ],
                        [
                          0.6666666666666666,
                          "#000017"
                        ],
                        [
                          0.7777777777777778,
                          "#000018"
                        ],
                        [
                          0.8888888888888888,
                          "#000019"
                        ],
                        [
                          1,
                          "#000020"
                        ]
                      ]
                    },
                    "colorscale": {
                      "diverging": [
                        [
                          0,
                          "#000021"
                        ],
                        [
                          0.1,
                          "#000022"
                        ],
                        [
                          0.2,
                          "#000023"
                        ],
                        [
                          0.3,
                          "#000024"
                        ],
                        [
                          0.4,
                          "#000025"
                        ],
                        [
                          0.5,
                          "#000026"
                        ],
                        [
                          0.6,
                          "#000027"
                        ],
                        [
                          0.7,
                          "#000028"
                        ],
                        [
                          0.8,
                          "#000029"
                        ],
                        [
                          0.9,
                          "#000030"
                        ],
                        [
                          1,
                          "#000031"
                        ]
                      ],
                      "sequential": [
                        [
                          0,
                          "#000011"
                        ],
                        [
                          0.1111111111111111,
                          "#000012"
                        ],
                        [
                          0.2222222222222222,
                          "#000013"
                        ],
                        [
                          0.3333333333333333,
                          "#000014"
                        ],
                        [
                          0.4444444444444444,
                          "#000015"
                        ],
                        [
                          0.5555555555555556,
                          "#000016"
                        ],
                        [
                          0.6666666666666666,
                          "#000017"
                        ],
                        [
                          0.7777777777777778,
                          "#000018"
                        ],
                        [
                          0.8888888888888888,
                          "#000019"
                        ],
                        [
                          1,
                          "#000020"
                        ]
                      ],
                      "sequentialminus": [
                        [
                          0,
                          "#000011"
                        ],
                        [
                          0.1111111111111111,
                          "#000012"
                        ],
                        [
                          0.2222222222222222,
                          "#000013"
                        ],
                        [
                          0.3333333333333333,
                          "#000014"
                        ],
                        [
                          0.4444444444444444,
                          "#000015"
                        ],
                        [
                          0.5555555555555556,
                          "#000016"
                        ],
                        [
                          0.6666666666666666,
                          "#000017"
                        ],
                        [
                          0.7777777777777778,
                          "#000018"
                        ],
                        [
                          0.8888888888888888,
                          "#000019"
                        ],
                        [
                          1,
                          "#000020"
                        ]
                      ]
                    },
                    "colorway": [
                      "#000001",
                      "#000002",
                      "#000003",
                      "#000004",
                      "#000005",
                      "#000006",
                      "#000007",
                      "#000008",
                      "#000009",
                      "#000010"
                    ]
                  }
                },
                "title": {
                  "text": "Runtime of Proposed Approach for Blue Nile"
                },
                "xaxis": {
                  "title": {
                    "text": "Number of Patterns"
                  },
                  "type": "log"
                },
                "yaxis": {
                  "range": [
                    0,
                    2.5370361328125
                  ],
                  "title": {
                    "text": "Runtime (s)"
                  }
                }
              }
            }
          },
          "metadata": {},
          "output_type": "display_data"
        }
      ],
      "source": [
        "visualize_runtime_experiment(\"Blue Nile\", bluenile_runtime_dict_rows_s, bluenile_runtime_dict_columns_s, blue_nile_runtime_dict_dc)"
      ]
    },
    {
      "cell_type": "markdown",
      "metadata": {},
      "source": [
        "Number of Patterns"
      ]
    },
    {
      "cell_type": "code",
      "execution_count": null,
      "metadata": {},
      "outputs": [],
      "source": []
    },
    {
      "cell_type": "code",
      "execution_count": null,
      "metadata": {},
      "outputs": [],
      "source": [
        "visualize_runtime_experiment(\"Blue Nile\", bluenile_runtime_dict_rows, bluenile_runtime_dict_columns, bluenile_runtime_dict_exact)"
      ]
    },
    {
      "cell_type": "code",
      "execution_count": 149,
      "metadata": {},
      "outputs": [
        {
          "data": {
            "application/vnd.plotly.v1+json": {
              "config": {
                "plotlyServerURL": "https://plot.ly"
              },
              "data": [
                {
                  "name": "Number of Possible Patterns",
                  "type": "bar",
                  "x": [
                    "2",
                    "2",
                    "2",
                    "2",
                    "2",
                    "3",
                    "3",
                    "3",
                    "3",
                    "4",
                    "4",
                    "4",
                    "5",
                    "5",
                    "6",
                    "7"
                  ],
                  "y": [
                    15,
                    35,
                    35,
                    44,
                    116,
                    219,
                    395,
                    584,
                    1286,
                    1979,
                    3743,
                    6434,
                    15839,
                    41183,
                    205919,
                    823679
                  ]
                },
                {
                  "marker": {
                    "color": "grey"
                  },
                  "name": "Number of Existing Patterns",
                  "type": "bar",
                  "x": [
                    "2",
                    "2",
                    "2",
                    "2",
                    "2",
                    "3",
                    "3",
                    "3",
                    "3",
                    "4",
                    "4",
                    "4",
                    "5",
                    "5",
                    "6",
                    "7"
                  ],
                  "y": [
                    15,
                    33,
                    34,
                    43,
                    96,
                    147,
                    376,
                    390,
                    792,
                    1221,
                    2223,
                    2449,
                    8913,
                    15828,
                    43089,
                    129194
                  ]
                }
              ],
              "layout": {
                "template": {
                  "data": {
                    "candlestick": [
                      {
                        "decreasing": {
                          "line": {
                            "color": "#000033"
                          }
                        },
                        "increasing": {
                          "line": {
                            "color": "#000032"
                          }
                        },
                        "type": "candlestick"
                      }
                    ],
                    "contour": [
                      {
                        "colorscale": [
                          [
                            0,
                            "#000011"
                          ],
                          [
                            0.1111111111111111,
                            "#000012"
                          ],
                          [
                            0.2222222222222222,
                            "#000013"
                          ],
                          [
                            0.3333333333333333,
                            "#000014"
                          ],
                          [
                            0.4444444444444444,
                            "#000015"
                          ],
                          [
                            0.5555555555555556,
                            "#000016"
                          ],
                          [
                            0.6666666666666666,
                            "#000017"
                          ],
                          [
                            0.7777777777777778,
                            "#000018"
                          ],
                          [
                            0.8888888888888888,
                            "#000019"
                          ],
                          [
                            1,
                            "#000020"
                          ]
                        ],
                        "type": "contour"
                      }
                    ],
                    "contourcarpet": [
                      {
                        "colorscale": [
                          [
                            0,
                            "#000011"
                          ],
                          [
                            0.1111111111111111,
                            "#000012"
                          ],
                          [
                            0.2222222222222222,
                            "#000013"
                          ],
                          [
                            0.3333333333333333,
                            "#000014"
                          ],
                          [
                            0.4444444444444444,
                            "#000015"
                          ],
                          [
                            0.5555555555555556,
                            "#000016"
                          ],
                          [
                            0.6666666666666666,
                            "#000017"
                          ],
                          [
                            0.7777777777777778,
                            "#000018"
                          ],
                          [
                            0.8888888888888888,
                            "#000019"
                          ],
                          [
                            1,
                            "#000020"
                          ]
                        ],
                        "type": "contourcarpet"
                      }
                    ],
                    "heatmap": [
                      {
                        "colorscale": [
                          [
                            0,
                            "#000011"
                          ],
                          [
                            0.1111111111111111,
                            "#000012"
                          ],
                          [
                            0.2222222222222222,
                            "#000013"
                          ],
                          [
                            0.3333333333333333,
                            "#000014"
                          ],
                          [
                            0.4444444444444444,
                            "#000015"
                          ],
                          [
                            0.5555555555555556,
                            "#000016"
                          ],
                          [
                            0.6666666666666666,
                            "#000017"
                          ],
                          [
                            0.7777777777777778,
                            "#000018"
                          ],
                          [
                            0.8888888888888888,
                            "#000019"
                          ],
                          [
                            1,
                            "#000020"
                          ]
                        ],
                        "type": "heatmap"
                      }
                    ],
                    "histogram2d": [
                      {
                        "colorscale": [
                          [
                            0,
                            "#000011"
                          ],
                          [
                            0.1111111111111111,
                            "#000012"
                          ],
                          [
                            0.2222222222222222,
                            "#000013"
                          ],
                          [
                            0.3333333333333333,
                            "#000014"
                          ],
                          [
                            0.4444444444444444,
                            "#000015"
                          ],
                          [
                            0.5555555555555556,
                            "#000016"
                          ],
                          [
                            0.6666666666666666,
                            "#000017"
                          ],
                          [
                            0.7777777777777778,
                            "#000018"
                          ],
                          [
                            0.8888888888888888,
                            "#000019"
                          ],
                          [
                            1,
                            "#000020"
                          ]
                        ],
                        "type": "histogram2d"
                      }
                    ],
                    "icicle": [
                      {
                        "textfont": {
                          "color": "white"
                        },
                        "type": "icicle"
                      }
                    ],
                    "sankey": [
                      {
                        "textfont": {
                          "color": "#000036"
                        },
                        "type": "sankey"
                      }
                    ],
                    "scatter": [
                      {
                        "marker": {
                          "line": {
                            "width": 0
                          }
                        },
                        "type": "scatter"
                      }
                    ],
                    "table": [
                      {
                        "cells": {
                          "fill": {
                            "color": "#000038"
                          },
                          "font": {
                            "color": "#000037"
                          },
                          "line": {
                            "color": "#000039"
                          }
                        },
                        "header": {
                          "fill": {
                            "color": "#000040"
                          },
                          "font": {
                            "color": "#000036"
                          },
                          "line": {
                            "color": "#000039"
                          }
                        },
                        "type": "table"
                      }
                    ],
                    "waterfall": [
                      {
                        "connector": {
                          "line": {
                            "color": "#000036",
                            "width": 2
                          }
                        },
                        "decreasing": {
                          "marker": {
                            "color": "#000033"
                          }
                        },
                        "increasing": {
                          "marker": {
                            "color": "#000032"
                          }
                        },
                        "totals": {
                          "marker": {
                            "color": "#000034"
                          }
                        },
                        "type": "waterfall"
                      }
                    ]
                  },
                  "layout": {
                    "coloraxis": {
                      "colorscale": [
                        [
                          0,
                          "#000011"
                        ],
                        [
                          0.1111111111111111,
                          "#000012"
                        ],
                        [
                          0.2222222222222222,
                          "#000013"
                        ],
                        [
                          0.3333333333333333,
                          "#000014"
                        ],
                        [
                          0.4444444444444444,
                          "#000015"
                        ],
                        [
                          0.5555555555555556,
                          "#000016"
                        ],
                        [
                          0.6666666666666666,
                          "#000017"
                        ],
                        [
                          0.7777777777777778,
                          "#000018"
                        ],
                        [
                          0.8888888888888888,
                          "#000019"
                        ],
                        [
                          1,
                          "#000020"
                        ]
                      ]
                    },
                    "colorscale": {
                      "diverging": [
                        [
                          0,
                          "#000021"
                        ],
                        [
                          0.1,
                          "#000022"
                        ],
                        [
                          0.2,
                          "#000023"
                        ],
                        [
                          0.3,
                          "#000024"
                        ],
                        [
                          0.4,
                          "#000025"
                        ],
                        [
                          0.5,
                          "#000026"
                        ],
                        [
                          0.6,
                          "#000027"
                        ],
                        [
                          0.7,
                          "#000028"
                        ],
                        [
                          0.8,
                          "#000029"
                        ],
                        [
                          0.9,
                          "#000030"
                        ],
                        [
                          1,
                          "#000031"
                        ]
                      ],
                      "sequential": [
                        [
                          0,
                          "#000011"
                        ],
                        [
                          0.1111111111111111,
                          "#000012"
                        ],
                        [
                          0.2222222222222222,
                          "#000013"
                        ],
                        [
                          0.3333333333333333,
                          "#000014"
                        ],
                        [
                          0.4444444444444444,
                          "#000015"
                        ],
                        [
                          0.5555555555555556,
                          "#000016"
                        ],
                        [
                          0.6666666666666666,
                          "#000017"
                        ],
                        [
                          0.7777777777777778,
                          "#000018"
                        ],
                        [
                          0.8888888888888888,
                          "#000019"
                        ],
                        [
                          1,
                          "#000020"
                        ]
                      ],
                      "sequentialminus": [
                        [
                          0,
                          "#000011"
                        ],
                        [
                          0.1111111111111111,
                          "#000012"
                        ],
                        [
                          0.2222222222222222,
                          "#000013"
                        ],
                        [
                          0.3333333333333333,
                          "#000014"
                        ],
                        [
                          0.4444444444444444,
                          "#000015"
                        ],
                        [
                          0.5555555555555556,
                          "#000016"
                        ],
                        [
                          0.6666666666666666,
                          "#000017"
                        ],
                        [
                          0.7777777777777778,
                          "#000018"
                        ],
                        [
                          0.8888888888888888,
                          "#000019"
                        ],
                        [
                          1,
                          "#000020"
                        ]
                      ]
                    },
                    "colorway": [
                      "#000001",
                      "#000002",
                      "#000003",
                      "#000004",
                      "#000005",
                      "#000006",
                      "#000007",
                      "#000008",
                      "#000009",
                      "#000010"
                    ]
                  }
                },
                "title": {
                  "text": "Number of Combinations for Proposed Approach for BlueNile"
                },
                "xaxis": {
                  "overlaying": "x",
                  "side": "bottom",
                  "title": {
                    "text": "Number of Columns"
                  },
                  "type": "category"
                },
                "yaxis": {
                  "overlaying": "y",
                  "side": "left",
                  "title": {
                    "text": "Number of Patterns"
                  },
                  "type": "log"
                }
              }
            }
          },
          "metadata": {},
          "output_type": "display_data"
        }
      ],
      "source": [
        "visualize_no_of_combinations(\"BlueNile\", bluenile_buckets, bluenile_runtime_dict_rows_s)"
      ]
    },
    {
      "cell_type": "code",
      "execution_count": null,
      "metadata": {},
      "outputs": [],
      "source": [
        "visualize_memory_size_experiment(\"BlueNile\", bluenile_runtime_dict_rows, bluenile_runtime_dict_columns, bluenile_runtime_dict_exact)"
      ]
    },
    {
      "cell_type": "markdown",
      "metadata": {},
      "source": [
        "##### UK Road Safety Data"
      ]
    },
    {
      "cell_type": "markdown",
      "metadata": {},
      "source": [
        "Runtime Viz"
      ]
    },
    {
      "cell_type": "code",
      "execution_count": 136,
      "metadata": {},
      "outputs": [
        {
          "name": "stderr",
          "output_type": "stream",
          "text": [
            "502it [00:00, 36660.82it/s]\n"
          ]
        }
      ],
      "source": [
        "uk_roadsafety_buckets = get_itemdict_of_combinatorial_sum(uk_roadsafety)"
      ]
    },
    {
      "cell_type": "code",
      "execution_count": null,
      "metadata": {},
      "outputs": [],
      "source": [
        "uk_runtime_dict_rows, uk_runtime_dict_columns, uk_runtime_dict_exact = calculate_runtime_values(\"UK Road Safety\", uk_roadsafety, uk_roadsafety_buckets, max_level=None)"
      ]
    },
    {
      "cell_type": "code",
      "execution_count": 141,
      "metadata": {},
      "outputs": [],
      "source": [
        "with open('results_server/UKRoadSafety_columnbased_runtime_freq_output_2023-10-16.pkl', 'rb') as f:\n",
        "    uk_runtime_dict_columns_s = pickle.load(f)\n",
        "# with open('results_server/UKRoadSafety_exact_runtime_freq_output_2023-10-16.pkl', 'rb') as f:\n",
        "    # uk_runtime_dict_exact_s = pickle.load(f)\n",
        "with open('results_server/UKRoadSafety_rowbased_runtime_freq_output_2023-10-16.pkl', 'rb') as f:\n",
        "    uk_runtime_dict_rows_s = pickle.load(f)"
      ]
    },
    {
      "cell_type": "code",
      "execution_count": 148,
      "metadata": {},
      "outputs": [
        {
          "data": {
            "application/vnd.plotly.v1+json": {
              "config": {
                "plotlyServerURL": "https://plot.ly"
              },
              "data": [
                {
                  "line": {
                    "color": "red"
                  },
                  "mode": "lines+markers",
                  "name": "Runtime (Rowbased CMS)",
                  "type": "scatter",
                  "x": [
                    14,
                    29,
                    31,
                    129,
                    447,
                    722,
                    1157,
                    2601,
                    7398,
                    10677,
                    12343,
                    17346,
                    35607,
                    114779,
                    522774,
                    1383556,
                    3723646
                  ],
                  "y": [
                    0.1967463493347168,
                    0.19426727294921875,
                    0.19381284713745117,
                    0.28466200828552246,
                    0.291384220123291,
                    0.2939643859863281,
                    0.38257598876953125,
                    0.39165520668029785,
                    0.4527451992034912,
                    0.5871105194091797,
                    0.6118626594543457,
                    0.7580573558807373,
                    1.0110206604003906,
                    2.721536874771118,
                    11.310907363891602,
                    34.653101682662964,
                    105.63371872901917
                  ]
                },
                {
                  "line": {
                    "color": "grey"
                  },
                  "mode": "lines+markers",
                  "name": "Runtime (Columnbased CMS)",
                  "type": "scatter",
                  "x": [
                    14,
                    29,
                    31,
                    129,
                    447,
                    722,
                    1157,
                    2601,
                    7398,
                    10677,
                    12343,
                    17346,
                    35607,
                    114779,
                    522774,
                    1383556,
                    3723646
                  ],
                  "y": [
                    0.5007426738739014,
                    0.4892454147338867,
                    0.4911658763885498,
                    1.2158420085906982,
                    1.2090449333190918,
                    1.2103374004364014,
                    2.90281343460083,
                    2.884817123413086,
                    2.880084276199341,
                    6.6919403076171875,
                    6.769325494766235,
                    15.47938585281372,
                    15.497034549713135,
                    15.832863569259644,
                    84.33949303627014,
                    110.05119514465332,
                    265.0748188495636
                  ]
                },
                {
                  "line": {
                    "color": "black"
                  },
                  "mode": "lines+markers",
                  "name": "Runtime (DataCube)",
                  "type": "scatter",
                  "x": [
                    14,
                    29,
                    31,
                    129,
                    447,
                    722,
                    1157,
                    2601,
                    7398,
                    10677,
                    12343,
                    17346,
                    35607,
                    114779,
                    522774,
                    1383556,
                    3723646
                  ],
                  "y": [
                    2.4,
                    2.2,
                    2.2,
                    5.2,
                    4.6,
                    4.2,
                    12,
                    11,
                    15,
                    37,
                    37,
                    72,
                    72,
                    65,
                    512,
                    672,
                    1594
                  ]
                }
              ],
              "layout": {
                "template": {
                  "data": {
                    "candlestick": [
                      {
                        "decreasing": {
                          "line": {
                            "color": "#000033"
                          }
                        },
                        "increasing": {
                          "line": {
                            "color": "#000032"
                          }
                        },
                        "type": "candlestick"
                      }
                    ],
                    "contour": [
                      {
                        "colorscale": [
                          [
                            0,
                            "#000011"
                          ],
                          [
                            0.1111111111111111,
                            "#000012"
                          ],
                          [
                            0.2222222222222222,
                            "#000013"
                          ],
                          [
                            0.3333333333333333,
                            "#000014"
                          ],
                          [
                            0.4444444444444444,
                            "#000015"
                          ],
                          [
                            0.5555555555555556,
                            "#000016"
                          ],
                          [
                            0.6666666666666666,
                            "#000017"
                          ],
                          [
                            0.7777777777777778,
                            "#000018"
                          ],
                          [
                            0.8888888888888888,
                            "#000019"
                          ],
                          [
                            1,
                            "#000020"
                          ]
                        ],
                        "type": "contour"
                      }
                    ],
                    "contourcarpet": [
                      {
                        "colorscale": [
                          [
                            0,
                            "#000011"
                          ],
                          [
                            0.1111111111111111,
                            "#000012"
                          ],
                          [
                            0.2222222222222222,
                            "#000013"
                          ],
                          [
                            0.3333333333333333,
                            "#000014"
                          ],
                          [
                            0.4444444444444444,
                            "#000015"
                          ],
                          [
                            0.5555555555555556,
                            "#000016"
                          ],
                          [
                            0.6666666666666666,
                            "#000017"
                          ],
                          [
                            0.7777777777777778,
                            "#000018"
                          ],
                          [
                            0.8888888888888888,
                            "#000019"
                          ],
                          [
                            1,
                            "#000020"
                          ]
                        ],
                        "type": "contourcarpet"
                      }
                    ],
                    "heatmap": [
                      {
                        "colorscale": [
                          [
                            0,
                            "#000011"
                          ],
                          [
                            0.1111111111111111,
                            "#000012"
                          ],
                          [
                            0.2222222222222222,
                            "#000013"
                          ],
                          [
                            0.3333333333333333,
                            "#000014"
                          ],
                          [
                            0.4444444444444444,
                            "#000015"
                          ],
                          [
                            0.5555555555555556,
                            "#000016"
                          ],
                          [
                            0.6666666666666666,
                            "#000017"
                          ],
                          [
                            0.7777777777777778,
                            "#000018"
                          ],
                          [
                            0.8888888888888888,
                            "#000019"
                          ],
                          [
                            1,
                            "#000020"
                          ]
                        ],
                        "type": "heatmap"
                      }
                    ],
                    "histogram2d": [
                      {
                        "colorscale": [
                          [
                            0,
                            "#000011"
                          ],
                          [
                            0.1111111111111111,
                            "#000012"
                          ],
                          [
                            0.2222222222222222,
                            "#000013"
                          ],
                          [
                            0.3333333333333333,
                            "#000014"
                          ],
                          [
                            0.4444444444444444,
                            "#000015"
                          ],
                          [
                            0.5555555555555556,
                            "#000016"
                          ],
                          [
                            0.6666666666666666,
                            "#000017"
                          ],
                          [
                            0.7777777777777778,
                            "#000018"
                          ],
                          [
                            0.8888888888888888,
                            "#000019"
                          ],
                          [
                            1,
                            "#000020"
                          ]
                        ],
                        "type": "histogram2d"
                      }
                    ],
                    "icicle": [
                      {
                        "textfont": {
                          "color": "white"
                        },
                        "type": "icicle"
                      }
                    ],
                    "sankey": [
                      {
                        "textfont": {
                          "color": "#000036"
                        },
                        "type": "sankey"
                      }
                    ],
                    "scatter": [
                      {
                        "marker": {
                          "line": {
                            "width": 0
                          }
                        },
                        "type": "scatter"
                      }
                    ],
                    "table": [
                      {
                        "cells": {
                          "fill": {
                            "color": "#000038"
                          },
                          "font": {
                            "color": "#000037"
                          },
                          "line": {
                            "color": "#000039"
                          }
                        },
                        "header": {
                          "fill": {
                            "color": "#000040"
                          },
                          "font": {
                            "color": "#000036"
                          },
                          "line": {
                            "color": "#000039"
                          }
                        },
                        "type": "table"
                      }
                    ],
                    "waterfall": [
                      {
                        "connector": {
                          "line": {
                            "color": "#000036",
                            "width": 2
                          }
                        },
                        "decreasing": {
                          "marker": {
                            "color": "#000033"
                          }
                        },
                        "increasing": {
                          "marker": {
                            "color": "#000032"
                          }
                        },
                        "totals": {
                          "marker": {
                            "color": "#000034"
                          }
                        },
                        "type": "waterfall"
                      }
                    ]
                  },
                  "layout": {
                    "coloraxis": {
                      "colorscale": [
                        [
                          0,
                          "#000011"
                        ],
                        [
                          0.1111111111111111,
                          "#000012"
                        ],
                        [
                          0.2222222222222222,
                          "#000013"
                        ],
                        [
                          0.3333333333333333,
                          "#000014"
                        ],
                        [
                          0.4444444444444444,
                          "#000015"
                        ],
                        [
                          0.5555555555555556,
                          "#000016"
                        ],
                        [
                          0.6666666666666666,
                          "#000017"
                        ],
                        [
                          0.7777777777777778,
                          "#000018"
                        ],
                        [
                          0.8888888888888888,
                          "#000019"
                        ],
                        [
                          1,
                          "#000020"
                        ]
                      ]
                    },
                    "colorscale": {
                      "diverging": [
                        [
                          0,
                          "#000021"
                        ],
                        [
                          0.1,
                          "#000022"
                        ],
                        [
                          0.2,
                          "#000023"
                        ],
                        [
                          0.3,
                          "#000024"
                        ],
                        [
                          0.4,
                          "#000025"
                        ],
                        [
                          0.5,
                          "#000026"
                        ],
                        [
                          0.6,
                          "#000027"
                        ],
                        [
                          0.7,
                          "#000028"
                        ],
                        [
                          0.8,
                          "#000029"
                        ],
                        [
                          0.9,
                          "#000030"
                        ],
                        [
                          1,
                          "#000031"
                        ]
                      ],
                      "sequential": [
                        [
                          0,
                          "#000011"
                        ],
                        [
                          0.1111111111111111,
                          "#000012"
                        ],
                        [
                          0.2222222222222222,
                          "#000013"
                        ],
                        [
                          0.3333333333333333,
                          "#000014"
                        ],
                        [
                          0.4444444444444444,
                          "#000015"
                        ],
                        [
                          0.5555555555555556,
                          "#000016"
                        ],
                        [
                          0.6666666666666666,
                          "#000017"
                        ],
                        [
                          0.7777777777777778,
                          "#000018"
                        ],
                        [
                          0.8888888888888888,
                          "#000019"
                        ],
                        [
                          1,
                          "#000020"
                        ]
                      ],
                      "sequentialminus": [
                        [
                          0,
                          "#000011"
                        ],
                        [
                          0.1111111111111111,
                          "#000012"
                        ],
                        [
                          0.2222222222222222,
                          "#000013"
                        ],
                        [
                          0.3333333333333333,
                          "#000014"
                        ],
                        [
                          0.4444444444444444,
                          "#000015"
                        ],
                        [
                          0.5555555555555556,
                          "#000016"
                        ],
                        [
                          0.6666666666666666,
                          "#000017"
                        ],
                        [
                          0.7777777777777778,
                          "#000018"
                        ],
                        [
                          0.8888888888888888,
                          "#000019"
                        ],
                        [
                          1,
                          "#000020"
                        ]
                      ]
                    },
                    "colorway": [
                      "#000001",
                      "#000002",
                      "#000003",
                      "#000004",
                      "#000005",
                      "#000006",
                      "#000007",
                      "#000008",
                      "#000009",
                      "#000010"
                    ]
                  }
                },
                "title": {
                  "text": "Runtime of Proposed Approach for UK RoadSafety"
                },
                "xaxis": {
                  "title": {
                    "text": "Number of Patterns"
                  },
                  "type": "log"
                },
                "yaxis": {
                  "range": [
                    0,
                    291.58230073452
                  ],
                  "title": {
                    "text": "Runtime (s)"
                  }
                }
              }
            }
          },
          "metadata": {},
          "output_type": "display_data"
        }
      ],
      "source": [
        "visualize_runtime_experiment(\"UK RoadSafety\", uk_runtime_dict_rows_s, uk_runtime_dict_columns_s, uk_roadsafety_runtime_dict_dc)"
      ]
    },
    {
      "cell_type": "markdown",
      "metadata": {},
      "source": [
        "#### No. of Attributes of Interest"
      ]
    },
    {
      "cell_type": "markdown",
      "metadata": {},
      "source": [
        "UK Road Safety Data"
      ]
    },
    {
      "cell_type": "code",
      "execution_count": 234,
      "metadata": {},
      "outputs": [],
      "source": [
        "with open(\"results_server/UKRoadSafety_rowbased_runtime_freq_output_pattern_2023-10-17.pkl\", \"rb\") as f:\n",
        "    uk_runtime_dict_rows_pattern = pickle.load(f)\n",
        "with open(\"results_server/UKRoadSafety_columnbased_runtime_freq_output_pattern_2023-10-17.pkl\", \"rb\") as f:\n",
        "    uk_runtime_dict_columns_pattern = pickle.load(f)"
      ]
    },
    {
      "cell_type": "code",
      "execution_count": 235,
      "metadata": {},
      "outputs": [],
      "source": [
        "def visualize_pattern_runtime(name, runtime_dict_rows, runtime_dict_columns):\n",
        "    #visualize runtime_dict as line scatterplot for each bucket and logaritmic x-axis using runtime[0] and show runtime[1] as bars behind the lineplot\n",
        "    fig = go.Figure()\n",
        "    fig.add_trace(go.Scatter(x=[i[5] for i in runtime_dict_rows.values()], y=[i[0] for i in runtime_dict_rows.values()], mode='lines+markers', name='Runtime (Rowbased CMS)', line=dict(color='red')))\n",
        "    #visualize runtime_dict_columns as line scatterplot\n",
        "    fig.add_trace(go.Scatter(x=[i[5] for i in runtime_dict_columns.values()], y=[i[0] for i in runtime_dict_columns.values()], mode='lines+markers', name='Runtime (Columnbased CMS)', line=dict(color='grey')))\n",
        "    #visualize runtime_dict_exact as line scatterplot\n",
        "    # fig.add_trace(go.Scatter(x=[i for i in runtime_dict_exact.keys()], y=[i for i in runtime_dict_exact.values()], mode='lines+markers', name='Runtime (DataCube)', line=dict(color='black')))\n",
        "    # cut off y axis at max runtime of runtime_dict_columns or min of runtime_dict_exact, whichever is higher\n",
        "    # max_value = max([max([i for i in runtime_dict_columns.values()]), min(runtime_dict_exact.values())])\n",
        "    # fig.update_yaxes(range=[0, 1.1*max_value])\n",
        "    fig.update_layout(title=f'Runtime of Proposed Approach for {name}', xaxis_title='Number of Patterns', yaxis_title='Runtime (s)')\n",
        "    fig.show()"
      ]
    },
    {
      "cell_type": "code",
      "execution_count": 236,
      "metadata": {},
      "outputs": [
        {
          "data": {
            "application/vnd.plotly.v1+json": {
              "config": {
                "plotlyServerURL": "https://plot.ly"
              },
              "data": [
                {
                  "line": {
                    "color": "red"
                  },
                  "mode": "lines+markers",
                  "name": "Runtime (Rowbased CMS)",
                  "type": "scatter",
                  "x": [
                    2,
                    3,
                    4,
                    5,
                    6,
                    7,
                    8,
                    9
                  ],
                  "y": [
                    0.2613692283630371,
                    0.3493938446044922,
                    0.5035927295684814,
                    1.178410530090332,
                    3.792604684829712,
                    12.489306211471558,
                    37.236555099487305,
                    112.57445883750916
                  ]
                },
                {
                  "line": {
                    "color": "grey"
                  },
                  "mode": "lines+markers",
                  "name": "Runtime (Columnbased CMS)",
                  "type": "scatter",
                  "x": [
                    2,
                    3,
                    4,
                    5,
                    6,
                    7,
                    8,
                    9
                  ],
                  "y": [
                    0.6560008525848389,
                    1.6113111972808838,
                    3.9000840187072754,
                    9.28112006187439,
                    21.775065422058105,
                    50.760629177093506,
                    115.7346031665802,
                    270.5235414505005
                  ]
                }
              ],
              "layout": {
                "template": {
                  "data": {
                    "candlestick": [
                      {
                        "decreasing": {
                          "line": {
                            "color": "#000033"
                          }
                        },
                        "increasing": {
                          "line": {
                            "color": "#000032"
                          }
                        },
                        "type": "candlestick"
                      }
                    ],
                    "contour": [
                      {
                        "colorscale": [
                          [
                            0,
                            "#000011"
                          ],
                          [
                            0.1111111111111111,
                            "#000012"
                          ],
                          [
                            0.2222222222222222,
                            "#000013"
                          ],
                          [
                            0.3333333333333333,
                            "#000014"
                          ],
                          [
                            0.4444444444444444,
                            "#000015"
                          ],
                          [
                            0.5555555555555556,
                            "#000016"
                          ],
                          [
                            0.6666666666666666,
                            "#000017"
                          ],
                          [
                            0.7777777777777778,
                            "#000018"
                          ],
                          [
                            0.8888888888888888,
                            "#000019"
                          ],
                          [
                            1,
                            "#000020"
                          ]
                        ],
                        "type": "contour"
                      }
                    ],
                    "contourcarpet": [
                      {
                        "colorscale": [
                          [
                            0,
                            "#000011"
                          ],
                          [
                            0.1111111111111111,
                            "#000012"
                          ],
                          [
                            0.2222222222222222,
                            "#000013"
                          ],
                          [
                            0.3333333333333333,
                            "#000014"
                          ],
                          [
                            0.4444444444444444,
                            "#000015"
                          ],
                          [
                            0.5555555555555556,
                            "#000016"
                          ],
                          [
                            0.6666666666666666,
                            "#000017"
                          ],
                          [
                            0.7777777777777778,
                            "#000018"
                          ],
                          [
                            0.8888888888888888,
                            "#000019"
                          ],
                          [
                            1,
                            "#000020"
                          ]
                        ],
                        "type": "contourcarpet"
                      }
                    ],
                    "heatmap": [
                      {
                        "colorscale": [
                          [
                            0,
                            "#000011"
                          ],
                          [
                            0.1111111111111111,
                            "#000012"
                          ],
                          [
                            0.2222222222222222,
                            "#000013"
                          ],
                          [
                            0.3333333333333333,
                            "#000014"
                          ],
                          [
                            0.4444444444444444,
                            "#000015"
                          ],
                          [
                            0.5555555555555556,
                            "#000016"
                          ],
                          [
                            0.6666666666666666,
                            "#000017"
                          ],
                          [
                            0.7777777777777778,
                            "#000018"
                          ],
                          [
                            0.8888888888888888,
                            "#000019"
                          ],
                          [
                            1,
                            "#000020"
                          ]
                        ],
                        "type": "heatmap"
                      }
                    ],
                    "histogram2d": [
                      {
                        "colorscale": [
                          [
                            0,
                            "#000011"
                          ],
                          [
                            0.1111111111111111,
                            "#000012"
                          ],
                          [
                            0.2222222222222222,
                            "#000013"
                          ],
                          [
                            0.3333333333333333,
                            "#000014"
                          ],
                          [
                            0.4444444444444444,
                            "#000015"
                          ],
                          [
                            0.5555555555555556,
                            "#000016"
                          ],
                          [
                            0.6666666666666666,
                            "#000017"
                          ],
                          [
                            0.7777777777777778,
                            "#000018"
                          ],
                          [
                            0.8888888888888888,
                            "#000019"
                          ],
                          [
                            1,
                            "#000020"
                          ]
                        ],
                        "type": "histogram2d"
                      }
                    ],
                    "icicle": [
                      {
                        "textfont": {
                          "color": "white"
                        },
                        "type": "icicle"
                      }
                    ],
                    "sankey": [
                      {
                        "textfont": {
                          "color": "#000036"
                        },
                        "type": "sankey"
                      }
                    ],
                    "scatter": [
                      {
                        "marker": {
                          "line": {
                            "width": 0
                          }
                        },
                        "type": "scatter"
                      }
                    ],
                    "table": [
                      {
                        "cells": {
                          "fill": {
                            "color": "#000038"
                          },
                          "font": {
                            "color": "#000037"
                          },
                          "line": {
                            "color": "#000039"
                          }
                        },
                        "header": {
                          "fill": {
                            "color": "#000040"
                          },
                          "font": {
                            "color": "#000036"
                          },
                          "line": {
                            "color": "#000039"
                          }
                        },
                        "type": "table"
                      }
                    ],
                    "waterfall": [
                      {
                        "connector": {
                          "line": {
                            "color": "#000036",
                            "width": 2
                          }
                        },
                        "decreasing": {
                          "marker": {
                            "color": "#000033"
                          }
                        },
                        "increasing": {
                          "marker": {
                            "color": "#000032"
                          }
                        },
                        "totals": {
                          "marker": {
                            "color": "#000034"
                          }
                        },
                        "type": "waterfall"
                      }
                    ]
                  },
                  "layout": {
                    "coloraxis": {
                      "colorscale": [
                        [
                          0,
                          "#000011"
                        ],
                        [
                          0.1111111111111111,
                          "#000012"
                        ],
                        [
                          0.2222222222222222,
                          "#000013"
                        ],
                        [
                          0.3333333333333333,
                          "#000014"
                        ],
                        [
                          0.4444444444444444,
                          "#000015"
                        ],
                        [
                          0.5555555555555556,
                          "#000016"
                        ],
                        [
                          0.6666666666666666,
                          "#000017"
                        ],
                        [
                          0.7777777777777778,
                          "#000018"
                        ],
                        [
                          0.8888888888888888,
                          "#000019"
                        ],
                        [
                          1,
                          "#000020"
                        ]
                      ]
                    },
                    "colorscale": {
                      "diverging": [
                        [
                          0,
                          "#000021"
                        ],
                        [
                          0.1,
                          "#000022"
                        ],
                        [
                          0.2,
                          "#000023"
                        ],
                        [
                          0.3,
                          "#000024"
                        ],
                        [
                          0.4,
                          "#000025"
                        ],
                        [
                          0.5,
                          "#000026"
                        ],
                        [
                          0.6,
                          "#000027"
                        ],
                        [
                          0.7,
                          "#000028"
                        ],
                        [
                          0.8,
                          "#000029"
                        ],
                        [
                          0.9,
                          "#000030"
                        ],
                        [
                          1,
                          "#000031"
                        ]
                      ],
                      "sequential": [
                        [
                          0,
                          "#000011"
                        ],
                        [
                          0.1111111111111111,
                          "#000012"
                        ],
                        [
                          0.2222222222222222,
                          "#000013"
                        ],
                        [
                          0.3333333333333333,
                          "#000014"
                        ],
                        [
                          0.4444444444444444,
                          "#000015"
                        ],
                        [
                          0.5555555555555556,
                          "#000016"
                        ],
                        [
                          0.6666666666666666,
                          "#000017"
                        ],
                        [
                          0.7777777777777778,
                          "#000018"
                        ],
                        [
                          0.8888888888888888,
                          "#000019"
                        ],
                        [
                          1,
                          "#000020"
                        ]
                      ],
                      "sequentialminus": [
                        [
                          0,
                          "#000011"
                        ],
                        [
                          0.1111111111111111,
                          "#000012"
                        ],
                        [
                          0.2222222222222222,
                          "#000013"
                        ],
                        [
                          0.3333333333333333,
                          "#000014"
                        ],
                        [
                          0.4444444444444444,
                          "#000015"
                        ],
                        [
                          0.5555555555555556,
                          "#000016"
                        ],
                        [
                          0.6666666666666666,
                          "#000017"
                        ],
                        [
                          0.7777777777777778,
                          "#000018"
                        ],
                        [
                          0.8888888888888888,
                          "#000019"
                        ],
                        [
                          1,
                          "#000020"
                        ]
                      ]
                    },
                    "colorway": [
                      "#000001",
                      "#000002",
                      "#000003",
                      "#000004",
                      "#000005",
                      "#000006",
                      "#000007",
                      "#000008",
                      "#000009",
                      "#000010"
                    ]
                  }
                },
                "title": {
                  "text": "Runtime of Proposed Approach for UK RoadSafety"
                },
                "xaxis": {
                  "title": {
                    "text": "Number of Patterns"
                  }
                },
                "yaxis": {
                  "title": {
                    "text": "Runtime (s)"
                  }
                }
              }
            }
          },
          "metadata": {},
          "output_type": "display_data"
        }
      ],
      "source": [
        "visualize_pattern_runtime(\"UK RoadSafety\", uk_runtime_dict_rows_pattern, uk_runtime_dict_columns_pattern)"
      ]
    },
    {
      "cell_type": "code",
      "execution_count": 259,
      "metadata": {},
      "outputs": [
        {
          "name": "stdout",
          "output_type": "stream",
          "text": [
            "(2, 1.8)\n",
            "(3, 4.1)\n",
            "(4, 9.3)\n",
            "(5, 26.0)\n",
            "(6, 87.0)\n",
            "(7, 240.0)\n",
            "(8, 599.0)\n",
            "(9, 1288.0)\n"
          ]
        }
      ],
      "source": [
        "dc_uk = pd.read_csv(\"results/data_cube_pattern_runtime_results.csv\", dtype={'dataset': str, 'no_attr': int}, delimiter=\";\", thousands=\",\", converters={'cols': ast.literal_eval})\n",
        "dc_uk = dc_uk[dc_uk['dataset'] == \"UKRoadSafety\"]\n",
        "dc_uk['pattern_length'] = dc_uk['cols'].apply(lambda x: len(x))\n",
        "dc_uk['pattern_length'] = dc_uk['pattern_length'].astype('category')\n",
        "dc_uk_dict = dc_uk.groupby('pattern_length')['runtime'].max().to_dict()\n",
        "for k,v in dc_uk_dict.items():\n",
        "    print(f\"({k}, {v})\")"
      ]
    },
    {
      "cell_type": "code",
      "execution_count": 243,
      "metadata": {},
      "outputs": [
        {
          "name": "stdout",
          "output_type": "stream",
          "text": [
            "(2, 0.2613692283630371)\n",
            "(3, 0.3493938446044922)\n",
            "(4, 0.5035927295684814)\n",
            "(5, 1.178410530090332)\n",
            "(6, 3.792604684829712)\n",
            "(7, 12.489306211471558)\n",
            "(8, 37.236555099487305)\n",
            "(9, 112.57445883750916)\n"
          ]
        }
      ],
      "source": [
        "for k, v in uk_runtime_dict_rows_pattern.items():\n",
        "    print(f\"({v[5]}, {v[0]})\")"
      ]
    },
    {
      "cell_type": "code",
      "execution_count": 244,
      "metadata": {},
      "outputs": [
        {
          "name": "stdout",
          "output_type": "stream",
          "text": [
            "(2, 0.6560008525848389)\n",
            "(3, 1.6113111972808838)\n",
            "(4, 3.9000840187072754)\n",
            "(5, 9.28112006187439)\n",
            "(6, 21.775065422058105)\n",
            "(7, 50.760629177093506)\n",
            "(8, 115.7346031665802)\n",
            "(9, 270.5235414505005)\n"
          ]
        }
      ],
      "source": [
        "for k, v in uk_runtime_dict_columns_pattern.items():\n",
        "    print(f\"({v[5]}, {v[0]})\")"
      ]
    },
    {
      "cell_type": "code",
      "execution_count": 247,
      "metadata": {},
      "outputs": [
        {
          "name": "stdout",
          "output_type": "stream",
          "text": [
            "(2, 147)\n",
            "(3, 1061)\n",
            "(4, 6005)\n",
            "(5, 39712)\n",
            "(6, 161973)\n",
            "(7, 543677)\n",
            "(8, 1383556)\n",
            "(9, 3723646)\n"
          ]
        }
      ],
      "source": [
        "for k, v in uk_runtime_dict_rows_pattern.items():\n",
        "    print(f\"({v[5]}, {k})\")"
      ]
    },
    {
      "cell_type": "markdown",
      "metadata": {},
      "source": [
        "BlueNile Data"
      ]
    },
    {
      "cell_type": "code",
      "execution_count": 238,
      "metadata": {},
      "outputs": [],
      "source": [
        "with open(\"results_server/BlueNile_rowbased_runtime_freq_output_pattern_2023-10-17.pkl\", \"rb\") as f:\n",
        "    bn_runtime_dict_rows_pattern = pickle.load(f)\n",
        "with open(\"results_server/BlueNile_columnbased_runtime_freq_output_pattern_2023-10-17.pkl\", \"rb\") as f:\n",
        "    bn_runtime_dict_columns_pattern = pickle.load(f)"
      ]
    },
    {
      "cell_type": "code",
      "execution_count": 239,
      "metadata": {},
      "outputs": [
        {
          "data": {
            "application/vnd.plotly.v1+json": {
              "config": {
                "plotlyServerURL": "https://plot.ly"
              },
              "data": [
                {
                  "line": {
                    "color": "red"
                  },
                  "mode": "lines+markers",
                  "name": "Runtime (Rowbased CMS)",
                  "type": "scatter",
                  "x": [
                    2,
                    3,
                    4,
                    5,
                    6,
                    7
                  ],
                  "y": [
                    0.017343521118164062,
                    0.021414995193481445,
                    0.06624794006347656,
                    0.1814861297607422,
                    0.5705170631408691,
                    1.9160737991333008
                  ]
                },
                {
                  "line": {
                    "color": "grey"
                  },
                  "mode": "lines+markers",
                  "name": "Runtime (Columnbased CMS)",
                  "type": "scatter",
                  "x": [
                    2,
                    3,
                    4,
                    5,
                    6,
                    7
                  ],
                  "y": [
                    0.031088590621948242,
                    0.0706183910369873,
                    0.17522835731506348,
                    0.41147828102111816,
                    0.9748408794403076,
                    2.3847076892852783
                  ]
                }
              ],
              "layout": {
                "template": {
                  "data": {
                    "candlestick": [
                      {
                        "decreasing": {
                          "line": {
                            "color": "#000033"
                          }
                        },
                        "increasing": {
                          "line": {
                            "color": "#000032"
                          }
                        },
                        "type": "candlestick"
                      }
                    ],
                    "contour": [
                      {
                        "colorscale": [
                          [
                            0,
                            "#000011"
                          ],
                          [
                            0.1111111111111111,
                            "#000012"
                          ],
                          [
                            0.2222222222222222,
                            "#000013"
                          ],
                          [
                            0.3333333333333333,
                            "#000014"
                          ],
                          [
                            0.4444444444444444,
                            "#000015"
                          ],
                          [
                            0.5555555555555556,
                            "#000016"
                          ],
                          [
                            0.6666666666666666,
                            "#000017"
                          ],
                          [
                            0.7777777777777778,
                            "#000018"
                          ],
                          [
                            0.8888888888888888,
                            "#000019"
                          ],
                          [
                            1,
                            "#000020"
                          ]
                        ],
                        "type": "contour"
                      }
                    ],
                    "contourcarpet": [
                      {
                        "colorscale": [
                          [
                            0,
                            "#000011"
                          ],
                          [
                            0.1111111111111111,
                            "#000012"
                          ],
                          [
                            0.2222222222222222,
                            "#000013"
                          ],
                          [
                            0.3333333333333333,
                            "#000014"
                          ],
                          [
                            0.4444444444444444,
                            "#000015"
                          ],
                          [
                            0.5555555555555556,
                            "#000016"
                          ],
                          [
                            0.6666666666666666,
                            "#000017"
                          ],
                          [
                            0.7777777777777778,
                            "#000018"
                          ],
                          [
                            0.8888888888888888,
                            "#000019"
                          ],
                          [
                            1,
                            "#000020"
                          ]
                        ],
                        "type": "contourcarpet"
                      }
                    ],
                    "heatmap": [
                      {
                        "colorscale": [
                          [
                            0,
                            "#000011"
                          ],
                          [
                            0.1111111111111111,
                            "#000012"
                          ],
                          [
                            0.2222222222222222,
                            "#000013"
                          ],
                          [
                            0.3333333333333333,
                            "#000014"
                          ],
                          [
                            0.4444444444444444,
                            "#000015"
                          ],
                          [
                            0.5555555555555556,
                            "#000016"
                          ],
                          [
                            0.6666666666666666,
                            "#000017"
                          ],
                          [
                            0.7777777777777778,
                            "#000018"
                          ],
                          [
                            0.8888888888888888,
                            "#000019"
                          ],
                          [
                            1,
                            "#000020"
                          ]
                        ],
                        "type": "heatmap"
                      }
                    ],
                    "histogram2d": [
                      {
                        "colorscale": [
                          [
                            0,
                            "#000011"
                          ],
                          [
                            0.1111111111111111,
                            "#000012"
                          ],
                          [
                            0.2222222222222222,
                            "#000013"
                          ],
                          [
                            0.3333333333333333,
                            "#000014"
                          ],
                          [
                            0.4444444444444444,
                            "#000015"
                          ],
                          [
                            0.5555555555555556,
                            "#000016"
                          ],
                          [
                            0.6666666666666666,
                            "#000017"
                          ],
                          [
                            0.7777777777777778,
                            "#000018"
                          ],
                          [
                            0.8888888888888888,
                            "#000019"
                          ],
                          [
                            1,
                            "#000020"
                          ]
                        ],
                        "type": "histogram2d"
                      }
                    ],
                    "icicle": [
                      {
                        "textfont": {
                          "color": "white"
                        },
                        "type": "icicle"
                      }
                    ],
                    "sankey": [
                      {
                        "textfont": {
                          "color": "#000036"
                        },
                        "type": "sankey"
                      }
                    ],
                    "scatter": [
                      {
                        "marker": {
                          "line": {
                            "width": 0
                          }
                        },
                        "type": "scatter"
                      }
                    ],
                    "table": [
                      {
                        "cells": {
                          "fill": {
                            "color": "#000038"
                          },
                          "font": {
                            "color": "#000037"
                          },
                          "line": {
                            "color": "#000039"
                          }
                        },
                        "header": {
                          "fill": {
                            "color": "#000040"
                          },
                          "font": {
                            "color": "#000036"
                          },
                          "line": {
                            "color": "#000039"
                          }
                        },
                        "type": "table"
                      }
                    ],
                    "waterfall": [
                      {
                        "connector": {
                          "line": {
                            "color": "#000036",
                            "width": 2
                          }
                        },
                        "decreasing": {
                          "marker": {
                            "color": "#000033"
                          }
                        },
                        "increasing": {
                          "marker": {
                            "color": "#000032"
                          }
                        },
                        "totals": {
                          "marker": {
                            "color": "#000034"
                          }
                        },
                        "type": "waterfall"
                      }
                    ]
                  },
                  "layout": {
                    "coloraxis": {
                      "colorscale": [
                        [
                          0,
                          "#000011"
                        ],
                        [
                          0.1111111111111111,
                          "#000012"
                        ],
                        [
                          0.2222222222222222,
                          "#000013"
                        ],
                        [
                          0.3333333333333333,
                          "#000014"
                        ],
                        [
                          0.4444444444444444,
                          "#000015"
                        ],
                        [
                          0.5555555555555556,
                          "#000016"
                        ],
                        [
                          0.6666666666666666,
                          "#000017"
                        ],
                        [
                          0.7777777777777778,
                          "#000018"
                        ],
                        [
                          0.8888888888888888,
                          "#000019"
                        ],
                        [
                          1,
                          "#000020"
                        ]
                      ]
                    },
                    "colorscale": {
                      "diverging": [
                        [
                          0,
                          "#000021"
                        ],
                        [
                          0.1,
                          "#000022"
                        ],
                        [
                          0.2,
                          "#000023"
                        ],
                        [
                          0.3,
                          "#000024"
                        ],
                        [
                          0.4,
                          "#000025"
                        ],
                        [
                          0.5,
                          "#000026"
                        ],
                        [
                          0.6,
                          "#000027"
                        ],
                        [
                          0.7,
                          "#000028"
                        ],
                        [
                          0.8,
                          "#000029"
                        ],
                        [
                          0.9,
                          "#000030"
                        ],
                        [
                          1,
                          "#000031"
                        ]
                      ],
                      "sequential": [
                        [
                          0,
                          "#000011"
                        ],
                        [
                          0.1111111111111111,
                          "#000012"
                        ],
                        [
                          0.2222222222222222,
                          "#000013"
                        ],
                        [
                          0.3333333333333333,
                          "#000014"
                        ],
                        [
                          0.4444444444444444,
                          "#000015"
                        ],
                        [
                          0.5555555555555556,
                          "#000016"
                        ],
                        [
                          0.6666666666666666,
                          "#000017"
                        ],
                        [
                          0.7777777777777778,
                          "#000018"
                        ],
                        [
                          0.8888888888888888,
                          "#000019"
                        ],
                        [
                          1,
                          "#000020"
                        ]
                      ],
                      "sequentialminus": [
                        [
                          0,
                          "#000011"
                        ],
                        [
                          0.1111111111111111,
                          "#000012"
                        ],
                        [
                          0.2222222222222222,
                          "#000013"
                        ],
                        [
                          0.3333333333333333,
                          "#000014"
                        ],
                        [
                          0.4444444444444444,
                          "#000015"
                        ],
                        [
                          0.5555555555555556,
                          "#000016"
                        ],
                        [
                          0.6666666666666666,
                          "#000017"
                        ],
                        [
                          0.7777777777777778,
                          "#000018"
                        ],
                        [
                          0.8888888888888888,
                          "#000019"
                        ],
                        [
                          1,
                          "#000020"
                        ]
                      ]
                    },
                    "colorway": [
                      "#000001",
                      "#000002",
                      "#000003",
                      "#000004",
                      "#000005",
                      "#000006",
                      "#000007",
                      "#000008",
                      "#000009",
                      "#000010"
                    ]
                  }
                },
                "title": {
                  "text": "Runtime of Proposed Approach for Blue Nile"
                },
                "xaxis": {
                  "title": {
                    "text": "Number of Patterns"
                  }
                },
                "yaxis": {
                  "title": {
                    "text": "Runtime (s)"
                  }
                }
              }
            }
          },
          "metadata": {},
          "output_type": "display_data"
        }
      ],
      "source": [
        "visualize_pattern_runtime(\"Blue Nile\", bn_runtime_dict_rows_pattern, bn_runtime_dict_columns_pattern)"
      ]
    },
    {
      "cell_type": "code",
      "execution_count": 248,
      "metadata": {},
      "outputs": [
        {
          "name": "stdout",
          "output_type": "stream",
          "text": [
            "(2, 0.017343521118164062)\n",
            "(3, 0.021414995193481445)\n",
            "(4, 0.06624794006347656)\n",
            "(5, 0.1814861297607422)\n",
            "(6, 0.5705170631408691)\n",
            "(7, 1.9160737991333008)\n"
          ]
        }
      ],
      "source": [
        "for k, v in bn_runtime_dict_rows_pattern.items():\n",
        "    print(f\"({v[5]}, {v[0]})\")"
      ]
    },
    {
      "cell_type": "code",
      "execution_count": 250,
      "metadata": {},
      "outputs": [
        {
          "name": "stdout",
          "output_type": "stream",
          "text": [
            "(2, 0.031088590621948242)\n",
            "(3, 0.0706183910369873)\n",
            "(4, 0.17522835731506348)\n",
            "(5, 0.41147828102111816)\n",
            "(6, 0.9748408794403076)\n",
            "(7, 2.3847076892852783)\n"
          ]
        }
      ],
      "source": [
        "for k, v in bn_runtime_dict_columns_pattern.items():\n",
        "    print(f\"({v[5]}, {v[0]})\")"
      ]
    },
    {
      "cell_type": "code",
      "execution_count": 251,
      "metadata": {},
      "outputs": [
        {
          "name": "stdout",
          "output_type": "stream",
          "text": [
            "(2, 112)\n",
            "(3, 792)\n",
            "(4, 4817)\n",
            "(5, 14535)\n",
            "(6, 43089)\n",
            "(7, 129194)\n"
          ]
        }
      ],
      "source": [
        "for k, v in bn_runtime_dict_rows_pattern.items():\n",
        "    print(f\"({v[5]}, {k})\")"
      ]
    },
    {
      "cell_type": "markdown",
      "metadata": {},
      "source": [
        "ACSIncome"
      ]
    },
    {
      "cell_type": "code",
      "execution_count": 240,
      "metadata": {},
      "outputs": [],
      "source": [
        "with open(\"results_server/ACSIncome_rowbased_runtime_freq_output_pattern_2023-10-17.pkl\", \"rb\") as f:\n",
        "    acs_runtime_dict_rows_pattern = pickle.load(f)\n",
        "with open(\"results_server/ACSIncome_columnbased_runtime_freq_output_pattern_2023-10-17.pkl\", \"rb\") as f:\n",
        "    acs_runtime_dict_columns_pattern = pickle.load(f)"
      ]
    },
    {
      "cell_type": "code",
      "execution_count": 241,
      "metadata": {},
      "outputs": [
        {
          "data": {
            "application/vnd.plotly.v1+json": {
              "config": {
                "plotlyServerURL": "https://plot.ly"
              },
              "data": [
                {
                  "line": {
                    "color": "red"
                  },
                  "mode": "lines+markers",
                  "name": "Runtime (Rowbased CMS)",
                  "type": "scatter",
                  "x": [
                    2,
                    3,
                    4,
                    5,
                    6,
                    7,
                    8,
                    9
                  ],
                  "y": [
                    0.234544038772583,
                    0.44391298294067383,
                    0.8890981674194336,
                    2.536705732345581,
                    8.241523027420044,
                    24.016265869140625,
                    70.01660227775574,
                    196.24791169166565
                  ]
                },
                {
                  "line": {
                    "color": "grey"
                  },
                  "mode": "lines+markers",
                  "name": "Runtime (Columnbased CMS)",
                  "type": "scatter",
                  "x": [
                    2,
                    3,
                    4,
                    5,
                    6,
                    7,
                    8,
                    9
                  ],
                  "y": [
                    0.5493929386138916,
                    1.3513646125793457,
                    3.1251931190490723,
                    7.724844694137573,
                    20.108131885528564,
                    48.380892276763916,
                    123.26879978179932,
                    358.2201929092407
                  ]
                }
              ],
              "layout": {
                "template": {
                  "data": {
                    "candlestick": [
                      {
                        "decreasing": {
                          "line": {
                            "color": "#000033"
                          }
                        },
                        "increasing": {
                          "line": {
                            "color": "#000032"
                          }
                        },
                        "type": "candlestick"
                      }
                    ],
                    "contour": [
                      {
                        "colorscale": [
                          [
                            0,
                            "#000011"
                          ],
                          [
                            0.1111111111111111,
                            "#000012"
                          ],
                          [
                            0.2222222222222222,
                            "#000013"
                          ],
                          [
                            0.3333333333333333,
                            "#000014"
                          ],
                          [
                            0.4444444444444444,
                            "#000015"
                          ],
                          [
                            0.5555555555555556,
                            "#000016"
                          ],
                          [
                            0.6666666666666666,
                            "#000017"
                          ],
                          [
                            0.7777777777777778,
                            "#000018"
                          ],
                          [
                            0.8888888888888888,
                            "#000019"
                          ],
                          [
                            1,
                            "#000020"
                          ]
                        ],
                        "type": "contour"
                      }
                    ],
                    "contourcarpet": [
                      {
                        "colorscale": [
                          [
                            0,
                            "#000011"
                          ],
                          [
                            0.1111111111111111,
                            "#000012"
                          ],
                          [
                            0.2222222222222222,
                            "#000013"
                          ],
                          [
                            0.3333333333333333,
                            "#000014"
                          ],
                          [
                            0.4444444444444444,
                            "#000015"
                          ],
                          [
                            0.5555555555555556,
                            "#000016"
                          ],
                          [
                            0.6666666666666666,
                            "#000017"
                          ],
                          [
                            0.7777777777777778,
                            "#000018"
                          ],
                          [
                            0.8888888888888888,
                            "#000019"
                          ],
                          [
                            1,
                            "#000020"
                          ]
                        ],
                        "type": "contourcarpet"
                      }
                    ],
                    "heatmap": [
                      {
                        "colorscale": [
                          [
                            0,
                            "#000011"
                          ],
                          [
                            0.1111111111111111,
                            "#000012"
                          ],
                          [
                            0.2222222222222222,
                            "#000013"
                          ],
                          [
                            0.3333333333333333,
                            "#000014"
                          ],
                          [
                            0.4444444444444444,
                            "#000015"
                          ],
                          [
                            0.5555555555555556,
                            "#000016"
                          ],
                          [
                            0.6666666666666666,
                            "#000017"
                          ],
                          [
                            0.7777777777777778,
                            "#000018"
                          ],
                          [
                            0.8888888888888888,
                            "#000019"
                          ],
                          [
                            1,
                            "#000020"
                          ]
                        ],
                        "type": "heatmap"
                      }
                    ],
                    "histogram2d": [
                      {
                        "colorscale": [
                          [
                            0,
                            "#000011"
                          ],
                          [
                            0.1111111111111111,
                            "#000012"
                          ],
                          [
                            0.2222222222222222,
                            "#000013"
                          ],
                          [
                            0.3333333333333333,
                            "#000014"
                          ],
                          [
                            0.4444444444444444,
                            "#000015"
                          ],
                          [
                            0.5555555555555556,
                            "#000016"
                          ],
                          [
                            0.6666666666666666,
                            "#000017"
                          ],
                          [
                            0.7777777777777778,
                            "#000018"
                          ],
                          [
                            0.8888888888888888,
                            "#000019"
                          ],
                          [
                            1,
                            "#000020"
                          ]
                        ],
                        "type": "histogram2d"
                      }
                    ],
                    "icicle": [
                      {
                        "textfont": {
                          "color": "white"
                        },
                        "type": "icicle"
                      }
                    ],
                    "sankey": [
                      {
                        "textfont": {
                          "color": "#000036"
                        },
                        "type": "sankey"
                      }
                    ],
                    "scatter": [
                      {
                        "marker": {
                          "line": {
                            "width": 0
                          }
                        },
                        "type": "scatter"
                      }
                    ],
                    "table": [
                      {
                        "cells": {
                          "fill": {
                            "color": "#000038"
                          },
                          "font": {
                            "color": "#000037"
                          },
                          "line": {
                            "color": "#000039"
                          }
                        },
                        "header": {
                          "fill": {
                            "color": "#000040"
                          },
                          "font": {
                            "color": "#000036"
                          },
                          "line": {
                            "color": "#000039"
                          }
                        },
                        "type": "table"
                      }
                    ],
                    "waterfall": [
                      {
                        "connector": {
                          "line": {
                            "color": "#000036",
                            "width": 2
                          }
                        },
                        "decreasing": {
                          "marker": {
                            "color": "#000033"
                          }
                        },
                        "increasing": {
                          "marker": {
                            "color": "#000032"
                          }
                        },
                        "totals": {
                          "marker": {
                            "color": "#000034"
                          }
                        },
                        "type": "waterfall"
                      }
                    ]
                  },
                  "layout": {
                    "coloraxis": {
                      "colorscale": [
                        [
                          0,
                          "#000011"
                        ],
                        [
                          0.1111111111111111,
                          "#000012"
                        ],
                        [
                          0.2222222222222222,
                          "#000013"
                        ],
                        [
                          0.3333333333333333,
                          "#000014"
                        ],
                        [
                          0.4444444444444444,
                          "#000015"
                        ],
                        [
                          0.5555555555555556,
                          "#000016"
                        ],
                        [
                          0.6666666666666666,
                          "#000017"
                        ],
                        [
                          0.7777777777777778,
                          "#000018"
                        ],
                        [
                          0.8888888888888888,
                          "#000019"
                        ],
                        [
                          1,
                          "#000020"
                        ]
                      ]
                    },
                    "colorscale": {
                      "diverging": [
                        [
                          0,
                          "#000021"
                        ],
                        [
                          0.1,
                          "#000022"
                        ],
                        [
                          0.2,
                          "#000023"
                        ],
                        [
                          0.3,
                          "#000024"
                        ],
                        [
                          0.4,
                          "#000025"
                        ],
                        [
                          0.5,
                          "#000026"
                        ],
                        [
                          0.6,
                          "#000027"
                        ],
                        [
                          0.7,
                          "#000028"
                        ],
                        [
                          0.8,
                          "#000029"
                        ],
                        [
                          0.9,
                          "#000030"
                        ],
                        [
                          1,
                          "#000031"
                        ]
                      ],
                      "sequential": [
                        [
                          0,
                          "#000011"
                        ],
                        [
                          0.1111111111111111,
                          "#000012"
                        ],
                        [
                          0.2222222222222222,
                          "#000013"
                        ],
                        [
                          0.3333333333333333,
                          "#000014"
                        ],
                        [
                          0.4444444444444444,
                          "#000015"
                        ],
                        [
                          0.5555555555555556,
                          "#000016"
                        ],
                        [
                          0.6666666666666666,
                          "#000017"
                        ],
                        [
                          0.7777777777777778,
                          "#000018"
                        ],
                        [
                          0.8888888888888888,
                          "#000019"
                        ],
                        [
                          1,
                          "#000020"
                        ]
                      ],
                      "sequentialminus": [
                        [
                          0,
                          "#000011"
                        ],
                        [
                          0.1111111111111111,
                          "#000012"
                        ],
                        [
                          0.2222222222222222,
                          "#000013"
                        ],
                        [
                          0.3333333333333333,
                          "#000014"
                        ],
                        [
                          0.4444444444444444,
                          "#000015"
                        ],
                        [
                          0.5555555555555556,
                          "#000016"
                        ],
                        [
                          0.6666666666666666,
                          "#000017"
                        ],
                        [
                          0.7777777777777778,
                          "#000018"
                        ],
                        [
                          0.8888888888888888,
                          "#000019"
                        ],
                        [
                          1,
                          "#000020"
                        ]
                      ]
                    },
                    "colorway": [
                      "#000001",
                      "#000002",
                      "#000003",
                      "#000004",
                      "#000005",
                      "#000006",
                      "#000007",
                      "#000008",
                      "#000009",
                      "#000010"
                    ]
                  }
                },
                "title": {
                  "text": "Runtime of Proposed Approach for ACSIncome"
                },
                "xaxis": {
                  "title": {
                    "text": "Number of Patterns"
                  }
                },
                "yaxis": {
                  "title": {
                    "text": "Runtime (s)"
                  }
                }
              }
            }
          },
          "metadata": {},
          "output_type": "display_data"
        }
      ],
      "source": [
        "visualize_pattern_runtime(\"ACSIncome\", acs_runtime_dict_rows_pattern, acs_runtime_dict_columns_pattern)"
      ]
    },
    {
      "cell_type": "code",
      "execution_count": 252,
      "metadata": {},
      "outputs": [
        {
          "name": "stdout",
          "output_type": "stream",
          "text": [
            "(2, 0.234544038772583)\n",
            "(3, 0.44391298294067383)\n",
            "(4, 0.8890981674194336)\n",
            "(5, 2.536705732345581)\n",
            "(6, 8.241523027420044)\n",
            "(7, 24.016265869140625)\n",
            "(8, 70.01660227775574)\n",
            "(9, 196.24791169166565)\n"
          ]
        }
      ],
      "source": [
        "for k, v in acs_runtime_dict_rows_pattern.items():\n",
        "    print(f\"({v[5]}, {v[0]})\")"
      ]
    },
    {
      "cell_type": "code",
      "execution_count": 253,
      "metadata": {},
      "outputs": [
        {
          "name": "stdout",
          "output_type": "stream",
          "text": [
            "(2, 0.5493929386138916)\n",
            "(3, 1.3513646125793457)\n",
            "(4, 3.1251931190490723)\n",
            "(5, 7.724844694137573)\n",
            "(6, 20.108131885528564)\n",
            "(7, 48.380892276763916)\n",
            "(8, 123.26879978179932)\n",
            "(9, 358.2201929092407)\n"
          ]
        }
      ],
      "source": [
        "for k, v in acs_runtime_dict_columns_pattern.items():\n",
        "    print(f\"({v[5]}, {v[0]})\")"
      ]
    },
    {
      "cell_type": "code",
      "execution_count": 254,
      "metadata": {},
      "outputs": [
        {
          "name": "stdout",
          "output_type": "stream",
          "text": [
            "(2, 2182)\n",
            "(3, 16049)\n",
            "(4, 51150)\n",
            "(5, 185276)\n",
            "(6, 576907)\n",
            "(7, 1490915)\n",
            "(8, 3830436)\n",
            "(9, 9339813)\n"
          ]
        }
      ],
      "source": [
        "for k, v in acs_runtime_dict_rows_pattern.items():\n",
        "    print(f\"({v[5]}, {k})\")"
      ]
    },
    {
      "cell_type": "markdown",
      "metadata": {},
      "source": [
        "### Examine CMS Approach\n"
      ]
    },
    {
      "cell_type": "code",
      "execution_count": null,
      "metadata": {},
      "outputs": [],
      "source": [
        "d = acs_income[[\"gender\", \"education\", \"income\", \"race\", \"age\", \"workclass\"]]"
      ]
    },
    {
      "cell_type": "code",
      "execution_count": null,
      "metadata": {},
      "outputs": [],
      "source": [
        "w_ = len(d.value_counts().to_dict()) * len(list(occ.powerset(d.columns))) / 10\n",
        "2**int(np.log2(w_))"
      ]
    },
    {
      "cell_type": "code",
      "execution_count": null,
      "metadata": {},
      "outputs": [],
      "source": [
        "w_ = cov.combinatorial_sum([len(d[col].unique()) for col in d.columns]) / 10\n",
        "w_ = 2**int(np.log2(w_))\n",
        "w_"
      ]
    },
    {
      "cell_type": "code",
      "execution_count": null,
      "metadata": {},
      "outputs": [],
      "source": [
        "w_ = len(d.drop_duplicates()) * len(list(occ.powerset(d.columns))) / 10\n"
      ]
    },
    {
      "cell_type": "code",
      "execution_count": null,
      "metadata": {},
      "outputs": [],
      "source": [
        "w__ = len(d.value_counts()) * len(list(occ.powerset(d.columns))) / 10\n",
        "2**int(np.log2(w__))"
      ]
    },
    {
      "cell_type": "code",
      "execution_count": null,
      "metadata": {},
      "outputs": [],
      "source": [
        "m = (w_ * 12 * 4) + 64000\n",
        "m // (1024*1024)"
      ]
    },
    {
      "cell_type": "code",
      "execution_count": null,
      "metadata": {},
      "outputs": [],
      "source": [
        "#one order of magnitude of max. expected number of keys\n",
        "w = len(d.value_counts().to_dict()) * len(list(occ.powerset(d.columns)))/ 10\n",
        "#closest number that is power of 2 to w\n",
        "w = 2**int(np.log2(w))\n",
        "if w < 32768:\n",
        "    w = 32768\n",
        "if w > 8388608:\n",
        "    w = 8388608"
      ]
    },
    {
      "cell_type": "code",
      "execution_count": null,
      "metadata": {},
      "outputs": [],
      "source": [
        "test_freq, test_keys = occ.calc_occurences_countmin_rowbased_traversal(d, max_level=None, width=True)"
      ]
    },
    {
      "cell_type": "code",
      "execution_count": null,
      "metadata": {},
      "outputs": [],
      "source": [
        "test_freq.size() // (1024*1024)"
      ]
    },
    {
      "cell_type": "code",
      "execution_count": null,
      "metadata": {},
      "outputs": [],
      "source": [
        "test_freq.quality()"
      ]
    },
    {
      "cell_type": "code",
      "execution_count": null,
      "metadata": {},
      "outputs": [],
      "source": [
        "base_dict = acs_income.value_counts().to_dict()\n",
        "key_dict = {}\n",
        "for k, v in tqdm(base_dict.items()):\n",
        "    # create dict of all combinations of k as keys and v as value\n",
        "    p_i = occ.powerset(k)\n",
        "    for j in p_i:\n",
        "        j = str(j)\n",
        "        key_dict.setdefault(j, 0)\n",
        "        key_dict[j] += v"
      ]
    },
    {
      "cell_type": "code",
      "execution_count": null,
      "metadata": {},
      "outputs": [],
      "source": [
        "from bounter import CountMinSketch\n",
        "groupby_col_combs = CountMinSketch(128)"
      ]
    },
    {
      "cell_type": "code",
      "execution_count": null,
      "metadata": {},
      "outputs": [],
      "source": [
        "groupby_col_combs.update(key_dict)"
      ]
    },
    {
      "cell_type": "code",
      "execution_count": null,
      "metadata": {},
      "outputs": [],
      "source": [
        "groupby_col_combs.cardinality()"
      ]
    },
    {
      "cell_type": "code",
      "execution_count": null,
      "metadata": {},
      "outputs": [],
      "source": [
        "groupby_col_combs.quality()"
      ]
    },
    {
      "cell_type": "code",
      "execution_count": null,
      "metadata": {},
      "outputs": [],
      "source": [
        "len(key_dict)"
      ]
    },
    {
      "cell_type": "code",
      "execution_count": null,
      "metadata": {},
      "outputs": [],
      "source": [
        "groupby_col_combs.size() // (1024*1024)"
      ]
    },
    {
      "cell_type": "code",
      "execution_count": null,
      "metadata": {},
      "outputs": [],
      "source": [
        "#get size in MB of key_dict\n",
        "sum([sys.getsizeof(v) for v in key_dict.values()]) / (1024*1024)"
      ]
    },
    {
      "cell_type": "code",
      "execution_count": null,
      "metadata": {},
      "outputs": [],
      "source": [
        "differences = {}\n",
        "for k,v in key_dict.items():\n",
        "    if v != groupby_col_combs[k]:\n",
        "        differences[k] = [v, groupby_col_combs[k]]\n",
        "\n",
        "pd.DataFrame(differences).T"
      ]
    },
    {
      "cell_type": "code",
      "execution_count": null,
      "metadata": {},
      "outputs": [],
      "source": [
        "# error = 2 * n / w\n",
        "n = len(key_dict)\n",
        "error = 0.1\n",
        "w = 2 * n / error\n",
        "w = 2**int(np.log2(w))\n",
        "w"
      ]
    },
    {
      "cell_type": "code",
      "execution_count": null,
      "metadata": {},
      "outputs": [],
      "source": [
        "len(key_dict)"
      ]
    },
    {
      "cell_type": "code",
      "execution_count": null,
      "metadata": {},
      "outputs": [],
      "source": [
        "((w * 8 * 4) + 64000) / (1024*1024)"
      ]
    }
  ],
  "metadata": {
    "kernelspec": {
      "display_name": "diversity",
      "language": "python",
      "name": "python3"
    },
    "language_info": {
      "codemirror_mode": {
        "name": "ipython",
        "version": 3
      },
      "file_extension": ".py",
      "mimetype": "text/x-python",
      "name": "python",
      "nbconvert_exporter": "python",
      "pygments_lexer": "ipython3",
      "version": "3.10.0"
    },
    "orig_nbformat": 4
  },
  "nbformat": 4,
  "nbformat_minor": 2
}
