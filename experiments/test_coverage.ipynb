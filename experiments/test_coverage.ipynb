{
  "cells": [
    {
      "cell_type": "code",
      "execution_count": 98,
      "metadata": {},
      "outputs": [],
      "source": [
        "import pandas as pd\n",
        "import numpy as np\n",
        "import matplotlib.pyplot as plt\n",
        "import plotly.express as px\n",
        "import plotly.graph_objects as go\n",
        "import plotly.subplots as sp\n",
        "\n",
        "import timeit\n",
        "import pickle\n",
        "from tqdm import tqdm\n",
        "\n",
        "import src.coverage as cov\n",
        "import src.occurence_estimation as occ"
      ]
    },
    {
      "cell_type": "code",
      "execution_count": null,
      "metadata": {},
      "outputs": [],
      "source": [
        "from importlib import reload\n",
        "reload(cov)"
      ]
    },
    {
      "cell_type": "code",
      "execution_count": null,
      "metadata": {},
      "outputs": [],
      "source": [
        "acs_income = pd.read_csv(\"data/df_ACSIncome_enc.csv\")\n",
        "acs_income, mapping = occ.factorize_data(acs_income)\n",
        "acs_income.to_csv(\"data/df_ACSIncome_enc_num.csv\", index=False)"
      ]
    },
    {
      "cell_type": "code",
      "execution_count": 18,
      "metadata": {},
      "outputs": [
        {
          "name": "stderr",
          "output_type": "stream",
          "text": [
            "100%|██████████| 7/7 [00:01<00:00,  6.61it/s]\n"
          ]
        }
      ],
      "source": [
        "bluenile = pd.read_csv(\"data/df_diamonds_enc.csv\")\n",
        "bluenile, mapping = occ.factorize_data(bluenile)\n",
        "bluenile.to_csv(\"data/df_diamonds_enc_num.csv\", index=False)"
      ]
    },
    {
      "cell_type": "code",
      "execution_count": 288,
      "metadata": {},
      "outputs": [
        {
          "data": {
            "text/plain": [
              "[6, 10, 7, 7, 10, 3, 3, 6, 13]"
            ]
          },
          "execution_count": 288,
          "metadata": {},
          "output_type": "execute_result"
        }
      ],
      "source": [
        "uk_roadsafety = pd.read_csv(\"data/df_uk_road_accident_enc_num.csv\")\n",
        "occ.get_cardinalities(uk_roadsafety)"
      ]
    },
    {
      "cell_type": "markdown",
      "metadata": {},
      "source": [
        "### Compare Coverage Algorithms"
      ]
    },
    {
      "cell_type": "markdown",
      "metadata": {},
      "source": [
        "Runtime Comparison"
      ]
    },
    {
      "cell_type": "code",
      "execution_count": null,
      "metadata": {},
      "outputs": [],
      "source": [
        "with(open(f\"results_server/UKRoadSafety_NUM_rowbased_results_freq_output.pkl\", \"rb\")) as f:\n",
        "        rowbased_output = pickle.load(f)\n",
        "freq_counts, keys = rowbased_output[list(rowbased_output.keys())[-1]]\n",
        "categories = occ.get_categories(uk_roadsafety)"
      ]
    },
    {
      "cell_type": "code",
      "execution_count": null,
      "metadata": {},
      "outputs": [],
      "source": [
        "mups_pwalk_runtime = timeit.repeat(lambda: cov.freqwalk_frequency_weight(categories, freq_counts, threshold=1), repeat=2, number=1)\n",
        "mups_pwalk_runtime_mean = np.mean(mups_pwalk_runtime)\n",
        "mups_pwalk_runtime_std = np.std(mups_pwalk_runtime)\n",
        "print(f\"Mean runtime: {mups_pwalk_runtime_mean} seconds with std: {mups_pwalk_runtime_std} seconds\")"
      ]
    },
    {
      "cell_type": "code",
      "execution_count": null,
      "metadata": {},
      "outputs": [],
      "source": [
        "reload(cov)"
      ]
    },
    {
      "cell_type": "code",
      "execution_count": 47,
      "metadata": {},
      "outputs": [],
      "source": [
        "from jpype import *\n",
        "import time\n",
        "def get_coverage_java(threshold, df):\n",
        "    dff = df.dtypes\n",
        "\n",
        "    print(getDefaultJVMPath())\n",
        "    # get classes\n",
        "    class_path = \"CoverageJava/target/classes/\"\n",
        "    print(class_path)\n",
        "    cpopt = \"-Djava.class.path=%s\" % (class_path)\n",
        "    if not isJVMStarted():\n",
        "        startJVM(getDefaultJVMPath(), \"-ea\", cpopt)\n",
        "\n",
        "    dataset = JClass(\"io.DataSet\")\n",
        "    hybrid = JClass(\"search.HybridSearch\")\n",
        "\n",
        "    valid_cols, valid_col_indices, cardinality, categories = [], [], [], []\n",
        "\n",
        "    # grouping numerical\n",
        "    for col in list(df):\n",
        "        if dff[col] != object:\n",
        "            cur_col = list(df[col])\n",
        "            dimension = len(set(cur_col))\n",
        "            if dimension <= 10:\n",
        "                df[col] = str(df[col])\n",
        "            else:\n",
        "                df[col] = [str(bucket) for bucket in pd.cut(cur_col, dimension)]\n",
        "\n",
        "    for i, col in enumerate(list(df)):\n",
        "        # restrict cardinality\n",
        "        temp_set = set(list(df[col]))  # unique values\n",
        "\n",
        "        if len(temp_set) <= 10 and len(temp_set) >= 2:\n",
        "            valid_cols.append(col)\n",
        "            valid_col_indices.append(i)\n",
        "            cardinality.append(len(temp_set))\n",
        "\n",
        "            # encoding valid categorical columns as numeric (one-hot encoding)\n",
        "            labels, uniques = pd.factorize(list(df[col]), sort=True)\n",
        "            df[col] = labels\n",
        "            categories.append([col + \":\" + str(unique) for unique in uniques])\n",
        "\n",
        "    temp = df[valid_cols].astype(str)\n",
        "    temp.to_csv(\"temp.csv\", index=False)\n",
        "\n",
        "    t_ = time.time()\n",
        "    dataset1 = dataset(\n",
        "        \"temp.csv\", cardinality, [i for i in range(len(valid_cols))], temp.shape[0]\n",
        "    )\n",
        "\n",
        "    hybrid1 = hybrid(dataset1)\n",
        "    a = hybrid1.findMaxUncoveredPatternSet(threshold)  # threshold, maxLevel\n",
        "\n",
        "    mups = [i.getStr() for i in a]\n",
        "    t = time.time() - t_\n",
        "    print(\"time: \", t)\n",
        "    print(\"mups: \", len(mups))\n",
        "\n",
        "    # get all children patterns of mups to get total amount of uncovered patterns\n",
        "    # fill in list of uncovered patterns with children patterns (max combination: 3 as three columns) -> add to list all patterns of only one or two elements with all other combinations of length 3\n",
        "    # for pattern in a:\n",
        "    #     children_pattern = dataset1.getAllChildren(pattern)\n",
        "    #     # print(\"children pattern: \", children_pattern)\n",
        "    #     mups.extend([i.getStr() for i in children_pattern])\n",
        "\n",
        "    return t, mups, valid_cols"
      ]
    },
    {
      "cell_type": "code",
      "execution_count": null,
      "metadata": {},
      "outputs": [],
      "source": [
        "test_datasets = [bluenile]\n",
        "test_names = [\"BlueNile\"]\n",
        "\n",
        "def cov_threshold_test(test_dataset, test_name):\n",
        "    repeat = 1\n",
        "    cov_runtime_dict = {}\n",
        "    for t_ in [1, 1e-6, 1e-5, 1e-4, 1e-3, 1e-2, 1e-1]:\n",
        "        if t_ == 1:\n",
        "            t_ = 0\n",
        "            t = 1\n",
        "        else:\n",
        "            t = int(t_ * test_dataset.shape[0])\n",
        "            if t < 2:\n",
        "                continue\n",
        "        print(f\"{test_name} - threshold:\", t)\n",
        "        # read pickle\n",
        "        with open(\n",
        "            f\"results/{test_name}_rowbased_results_freq_output_2023_10_17.pkl\", \"rb\"\n",
        "        ) as f:\n",
        "            rowbased_output = pickle.load(f)\n",
        "        k, v = list(rowbased_output.items())[-1]\n",
        "        cov_runtime_dict.setdefault(f\"{test_name}_{k}\", dict())\n",
        "        freq_counts, keys = v\n",
        "        categories = occ.get_categories(test_dataset)\n",
        "        # calculate coverage with CoverageJava (reduced cardinality)\n",
        "        df = test_dataset.copy()\n",
        "        cov_java_time, cov_java_mups = get_coverage_java(t, df)\n",
        "        cov_runtime_dict[f\"{test_name}_{k}\"].setdefault(\n",
        "            \"CoverageJava\", dict()\n",
        "        ).setdefault(t_, cov_java_time)\n",
        "        # calculate coverage baseline\n",
        "        ucov_baseline_runtime = timeit.repeat(\n",
        "            lambda: cov.baseline_coverage_with_keys_all_combs(\n",
        "                keys, categories, freq_counts, max_level=None, threshold=t\n",
        "            ),\n",
        "            repeat=repeat,\n",
        "            number=1,\n",
        "        )\n",
        "        ucov_baseline_runtime_mean = np.mean(ucov_baseline_runtime)\n",
        "        ucov_baseline_runtime_std = np.std(ucov_baseline_runtime)\n",
        "        cov_runtime_dict[f\"{test_name}_{k}\"].setdefault(\n",
        "            \"Baseline (All Combs)\", dict()\n",
        "        ).setdefault(t_, ucov_baseline_runtime_mean)\n",
        "        # calculate coverage with mups baseline\n",
        "        mups_baseline_runtime = timeit.repeat(\n",
        "            lambda: cov.baseline_coverage_with_keys_searchbased(\n",
        "                keys, categories, freq_counts, threshold=t\n",
        "            ),\n",
        "            repeat=repeat,\n",
        "            number=1,\n",
        "        )\n",
        "        mups_baseline_runtime_mean = np.mean(mups_baseline_runtime)\n",
        "        mups_baseline_runtime_std = np.std(mups_baseline_runtime)\n",
        "        cov_runtime_dict[f\"{test_name}_{k}\"].setdefault(\n",
        "            \"Baseline (MUPs)\", dict()\n",
        "        ).setdefault(t_, mups_baseline_runtime_mean)\n",
        "        # calculate coverage with mups pwalk frequencies\n",
        "        mups_pwalk_runtime = timeit.repeat(\n",
        "            lambda: cov.freqwalk_frequency_weight(\n",
        "                categories, freq_counts, threshold=t\n",
        "            ),\n",
        "            repeat=repeat,\n",
        "            number=1,\n",
        "        )\n",
        "        mups_pwalk_runtime_mean = np.mean(mups_pwalk_runtime)\n",
        "        mups_pwalk_runtime_std = np.std(mups_pwalk_runtime)\n",
        "        cov_runtime_dict[f\"{test_name}_{k}\"].setdefault(\n",
        "            \"MUPs pwalk\", dict()\n",
        "        ).setdefault(t_, mups_pwalk_runtime_mean)\n",
        "    return cov_runtime_dict"
      ]
    },
    {
      "cell_type": "code",
      "execution_count": null,
      "metadata": {},
      "outputs": [],
      "source": [
        "cov_runtime_dict = cov_threshold_test(bluenile, \"BlueNile\")"
      ]
    },
    {
      "cell_type": "code",
      "execution_count": 26,
      "metadata": {},
      "outputs": [
        {
          "data": {
            "text/plain": [
              "{'BlueNile_129194': {'CoverageJava': {0: 3.6072330474853516,\n",
              "   0.0001: 1.601257085800171,\n",
              "   0.001: 0.6001029014587402,\n",
              "   0.01: 0.11608290672302246,\n",
              "   0.1: 0.12131905555725098},\n",
              "  'Baseline (All Combs)': {0: 0.623004193068482,\n",
              "   0.0001: 7.3784675599308684,\n",
              "   0.001: 7.536592236952856,\n",
              "   0.01: 7.645518705016002,\n",
              "   0.1: 7.490900462958962},\n",
              "  'Baseline (MUPs)': {0: 6.055784592987038,\n",
              "   0.0001: 6.800910323043354,\n",
              "   0.001: 6.222628304036334,\n",
              "   0.01: 6.876512652030215,\n",
              "   0.1: 6.364523399039172},\n",
              "  'MUPs pwalk': {0: 0.002110998029820621,\n",
              "   0.0001: 0.0026702970499172807,\n",
              "   0.001: 0.002317264094017446,\n",
              "   0.01: 0.0015551440883427858,\n",
              "   0.1: 0.0016591920284554362}}}"
            ]
          },
          "execution_count": 26,
          "metadata": {},
          "output_type": "execute_result"
        }
      ],
      "source": [
        "cov_runtime_dict"
      ]
    },
    {
      "cell_type": "code",
      "execution_count": 29,
      "metadata": {},
      "outputs": [],
      "source": [
        "def cov_combsize_test(test_dataset, test_name):\n",
        "    cov_combsize_dict = {}\n",
        "    repeat = 1\n",
        "    t=1\n",
        "    with open(\n",
        "            f\"results_server/{test_name}_rowbased_results_freq_output.pkl\", \"rb\"\n",
        "        ) as f:\n",
        "            rowbased_output = pickle.load(f)\n",
        "    for k, v in rowbased_output.items():\n",
        "        cov_runtime_dict.setdefault(f\"{test_name}\", dict())\n",
        "        freq_counts, keys = v\n",
        "        categories = occ.get_categories(test_dataset)\n",
        "        # calculate coverage with CoverageJava (reduced cardinality)\n",
        "        df = test_dataset.copy()\n",
        "        cov_java_time, cov_java_mups = get_coverage_java(t, df)\n",
        "        cov_combsize_dict[f\"{test_name}\"].setdefault(\n",
        "            \"CoverageJava\", dict()\n",
        "        ).setdefault(k, cov_java_time)\n",
        "        # calculate coverage baseline\n",
        "        ucov_baseline_runtime = timeit.repeat(\n",
        "            lambda: cov.baseline_coverage_with_keys_all_combs(\n",
        "                keys, categories, freq_counts, max_level=None, threshold=t\n",
        "            ),\n",
        "            repeat=repeat,\n",
        "            number=1,\n",
        "        )\n",
        "        ucov_baseline_runtime_mean = np.mean(ucov_baseline_runtime)\n",
        "        ucov_baseline_runtime_std = np.std(ucov_baseline_runtime)\n",
        "        cov_combsize_dict[f\"{test_name}\"].setdefault(\n",
        "            \"Baseline (All Combs)\", dict()\n",
        "        ).setdefault(k, ucov_baseline_runtime_mean)\n",
        "        # calculate coverage with mups baseline\n",
        "        mups_baseline_runtime = timeit.repeat(\n",
        "            lambda: cov.baseline_coverage_with_keys_searchbased(\n",
        "                keys, categories, freq_counts, threshold=t\n",
        "            ),\n",
        "            repeat=repeat,\n",
        "            number=1,\n",
        "        )\n",
        "        mups_baseline_runtime_mean = np.mean(mups_baseline_runtime)\n",
        "        mups_baseline_runtime_std = np.std(mups_baseline_runtime)\n",
        "        cov_combsize_dict[f\"{test_name}\"].setdefault(\n",
        "            \"Baseline (MUPs)\", dict()\n",
        "        ).setdefault(k, mups_baseline_runtime_mean)\n",
        "        # calculate coverage with mups pwalk frequencies\n",
        "        mups_pwalk_runtime = timeit.repeat(\n",
        "            lambda: cov.freqwalk_frequency_weight(\n",
        "                categories, freq_counts, threshold=t\n",
        "            ),\n",
        "            repeat=repeat,\n",
        "            number=1,\n",
        "        )\n",
        "        mups_pwalk_runtime_mean = np.mean(mups_pwalk_runtime)\n",
        "        mups_pwalk_runtime_std = np.std(mups_pwalk_runtime)\n",
        "        cov_combsize_dict[f\"{test_name}\"].setdefault(\n",
        "            \"MUPs pwalk\", dict()\n",
        "        ).setdefault(k, mups_pwalk_runtime_mean)\n",
        "    return cov_combsize_dict"
      ]
    },
    {
      "cell_type": "code",
      "execution_count": null,
      "metadata": {},
      "outputs": [],
      "source": [
        "cov_combsize_test = cov_combsize_test(bluenile, \"BlueNile\")"
      ]
    },
    {
      "cell_type": "markdown",
      "metadata": {},
      "source": [
        "Load results"
      ]
    },
    {
      "cell_type": "code",
      "execution_count": null,
      "metadata": {},
      "outputs": [],
      "source": [
        "with open(\"results/UKRoadSafety_cov_threshold_runtime_dict_2023-10-17.pkl\", \"rb\") as f:\n",
        "    cov_runtime_dict_uk = pickle.load(f)"
      ]
    },
    {
      "cell_type": "code",
      "execution_count": null,
      "metadata": {},
      "outputs": [],
      "source": [
        "cov_runtime_uk_df = pd.DataFrame(cov_runtime_dict_uk)\n",
        "cov_runtime_uk_df"
      ]
    },
    {
      "cell_type": "code",
      "execution_count": null,
      "metadata": {},
      "outputs": [],
      "source": [
        "with open(f\"results_server/BlueNile_cov_threshold_runtime_dict_2023-10-17.pkl\", \"rb\") as f:\n",
        "    cov_runtime_dict_bn = pickle.load(f)"
      ]
    },
    {
      "cell_type": "code",
      "execution_count": null,
      "metadata": {},
      "outputs": [],
      "source": [
        "cov_runtime_bn_df = pd.DataFrame(cov_runtime_dict_bn)\n",
        "cov_runtime_bn_df"
      ]
    },
    {
      "cell_type": "code",
      "execution_count": null,
      "metadata": {},
      "outputs": [],
      "source": [
        "def visualize_cov_t(df, t):\n",
        "    cov_t_df = df.applymap(lambda x: x[t])\n",
        "    fig = px.line(cov_t_df, title=f\"Coverage runtime for threshold {t}\", labels={\"index\": \"Dataset\", \"value\": \"Runtime (s)\"})\n",
        "    fig.show()\n",
        "\n",
        "visualize_cov_t(pd.DataFrame(cov_runtime_dict), 1)"
      ]
    },
    {
      "cell_type": "code",
      "execution_count": null,
      "metadata": {},
      "outputs": [],
      "source": [
        "max_runtime = cov_runtime_dict[\"BlueNile_129194\"]"
      ]
    },
    {
      "cell_type": "code",
      "execution_count": null,
      "metadata": {},
      "outputs": [],
      "source": [
        "def visualize_cov_runtime_for_every_t(max_runtime):\n",
        "    fig = go.Figure()\n",
        "    i=0\n",
        "    for method in max_runtime.keys():\n",
        "        fig.add_trace(go.Scatter(x=[k*bluenile.shape[0] if not k==1 else k for k in list(max_runtime[method].keys())], y=list(max_runtime[method].values()), name=method, mode='lines+markers', line=dict(color=px.colors.qualitative.Plotly[i])))\n",
        "        i+=1\n",
        "    fig.update_layout(title=\"Coverage runtime for every threshold\", xaxis_title=\"Threshold\", yaxis_title=\"Runtime (s)\")\n",
        "    fig.show()"
      ]
    },
    {
      "cell_type": "code",
      "execution_count": null,
      "metadata": {},
      "outputs": [],
      "source": [
        "visualize_cov_runtime_for_every_t(max_runtime)"
      ]
    },
    {
      "cell_type": "code",
      "execution_count": null,
      "metadata": {},
      "outputs": [],
      "source": [
        "cov_max_t_dict = {}\n",
        "for size in cov_runtime_dict.keys():\n",
        "    s = size.split(\"_\")[1]\n",
        "    for method in cov_runtime_dict[size].keys():\n",
        "        cov_max_t_dict.setdefault(method, dict()).setdefault(int(s), cov_runtime_dict[size][method][1])\n",
        "    "
      ]
    },
    {
      "cell_type": "code",
      "execution_count": 59,
      "metadata": {},
      "outputs": [],
      "source": [
        "def visualize_cov_runtime_for_every_dimension(cov_max_t_dict):\n",
        "    fig = go.Figure()\n",
        "    i=0\n",
        "    for method in cov_max_t_dict.keys():\n",
        "        fig.add_trace(go.Scatter(x=list(cov_max_t_dict[method].keys()), y=list([c[0] for c in cov_max_t_dict[method].values()]), name=method, mode='lines+markers', line=dict(color=px.colors.qualitative.Plotly[i])))\n",
        "        i+=1\n",
        "    fig.update_layout(title=\"Coverage runtime for every combination size (t=1)\", xaxis_title=\"Dimension\", yaxis_title=\"Runtime (s)\")\n",
        "    fig.show()\n",
        "    "
      ]
    },
    {
      "cell_type": "code",
      "execution_count": null,
      "metadata": {},
      "outputs": [],
      "source": [
        "visualize_cov_runtime_for_every_dimension(cov_max_t_dict)"
      ]
    },
    {
      "cell_type": "markdown",
      "metadata": {},
      "source": [
        "#### Directly compare to CoverageJava for BlueNile data"
      ]
    },
    {
      "cell_type": "code",
      "execution_count": null,
      "metadata": {},
      "outputs": [],
      "source": [
        "# data = pd.read_csv('CoverageJava/data/BlueNile_categorical.csv')\n",
        "# data = data.drop(columns=['id'])\n",
        "data = pd.read_csv(\"temp_input.csv\")"
      ]
    },
    {
      "cell_type": "code",
      "execution_count": null,
      "metadata": {},
      "outputs": [],
      "source": [
        "def factorize_data(df_raw):\n",
        "    \"\"\"Factorizes the data in a dataframe. The factorization is done column-wise.\n",
        "    The factorization is done by using the pandas.factorize function doing the following:\n",
        "    For each column, the unique values are extracted and mapped to a unique integer.\n",
        "    The values of the column are then replaced by the mapped integer.\n",
        "\n",
        "    Example:\n",
        "    Input: 0 1 2 3 4 5 6 7 8 9\n",
        "           a a b c c b a b c a\n",
        "    Output: 0 1 2 3 3 2 0 2 3 0\n",
        "\n",
        "    Args:\n",
        "        df_raw (pd.DataFrame): The dataframe to factorize. Must contain only categorical data.\n",
        "\n",
        "    Returns:\n",
        "        df: The factorized dataframe.\n",
        "        mapping: The mapping from the original values to the factorized values.\n",
        "    \"\"\"\n",
        "    df = df_raw.copy()\n",
        "    mapping = {}\n",
        "    for i, col in tqdm(enumerate(df.columns)):\n",
        "        # labels, uniques = pd.factorize(df[col])\n",
        "        labels_ = [f\"{str(i)}:{str(l)}\" for l in df[col]]\n",
        "        # labels_unique = list(np.unique(labels))\n",
        "        # mapping[col] = dict(zip(uniques, labels_unique))\n",
        "        df[col] = labels_\n",
        "    # del labels, labels_, uniques\n",
        "    return df, mapping"
      ]
    },
    {
      "cell_type": "code",
      "execution_count": null,
      "metadata": {},
      "outputs": [],
      "source": [
        "data_, mapping = factorize_data(data)"
      ]
    },
    {
      "cell_type": "code",
      "execution_count": null,
      "metadata": {},
      "outputs": [],
      "source": [
        "display(data.head())\n",
        "display(data_.head())"
      ]
    },
    {
      "cell_type": "code",
      "execution_count": null,
      "metadata": {},
      "outputs": [],
      "source": [
        "data_.to_csv(\"temp_input_num.csv\", index=False)"
      ]
    },
    {
      "cell_type": "code",
      "execution_count": null,
      "metadata": {},
      "outputs": [],
      "source": [
        "categories = occ.get_categories(data_)"
      ]
    },
    {
      "cell_type": "code",
      "execution_count": null,
      "metadata": {},
      "outputs": [],
      "source": [
        "freq_counts, keys = occ.calc_occurences_countmin_rowbased_traversal(data_, None, True)\n",
        "t = 1"
      ]
    },
    {
      "cell_type": "code",
      "execution_count": null,
      "metadata": {},
      "outputs": [],
      "source": [
        "freq_counts.quality()"
      ]
    },
    {
      "cell_type": "code",
      "execution_count": null,
      "metadata": {},
      "outputs": [],
      "source": [
        "#calc mb size from bytes\n",
        "freq_counts.size() / 1024 / 1024"
      ]
    },
    {
      "cell_type": "code",
      "execution_count": null,
      "metadata": {},
      "outputs": [],
      "source": [
        "#display freq_count_cols dict as barplot\n",
        "fig = px.bar(x=list(freq_count_cols.keys()), y=list(freq_count_cols.values()), title=\"Frequency counts for each column\")\n",
        "#sort x axis by length of column name\n",
        "fig.update_xaxes(categoryorder=\"total descending\")\n",
        "fig.show()"
      ]
    },
    {
      "cell_type": "code",
      "execution_count": null,
      "metadata": {},
      "outputs": [],
      "source": [
        "mups = cov.freqwalk_frequency_weight(categories, freq_counts, threshold=t)"
      ]
    },
    {
      "cell_type": "code",
      "execution_count": null,
      "metadata": {},
      "outputs": [],
      "source": [
        "sum_mups = sum([len(mups[m]) for m in mups.keys()])\n",
        "sum_mups"
      ]
    },
    {
      "cell_type": "code",
      "execution_count": null,
      "metadata": {},
      "outputs": [],
      "source": [
        "#read mups.json\n",
        "import json\n",
        "with open('data/mups.json') as json_file:\n",
        "    mups_json = json.load(json_file)"
      ]
    },
    {
      "cell_type": "code",
      "execution_count": null,
      "metadata": {},
      "outputs": [],
      "source": [
        "mups_json = [tuple(mup) for mup in mups_json]"
      ]
    },
    {
      "cell_type": "code",
      "execution_count": null,
      "metadata": {},
      "outputs": [],
      "source": [
        "#sort mups_json\n",
        "mups_json.sort(key=lambda x: len(x))"
      ]
    },
    {
      "cell_type": "code",
      "execution_count": null,
      "metadata": {},
      "outputs": [],
      "source": [
        "mups_list = sum([list(v) for v in mups.values()], [])\n",
        "mups_list"
      ]
    },
    {
      "cell_type": "markdown",
      "metadata": {},
      "source": [
        "### Create Visualizations and Graphs"
      ]
    },
    {
      "cell_type": "code",
      "execution_count": 166,
      "metadata": {},
      "outputs": [],
      "source": [
        "def visualize_runtime_experiment_threshold(name, data):   \n",
        "    #visualize runtime_dict as line scatterplot for each bucket and logaritmic x-axis using runtime[0] and show runtime[1] as bars behind the lineplot\n",
        "    data = data[name]\n",
        "    fig = sp.make_subplots(specs=[[{\"secondary_y\": True}]])\n",
        "     #add bar plot of no. of keys, add second yaxis\n",
        "    # fig.add_trace(go.Bar(x=[len(i[1]) for i in data['MUPs pwalk'].values()], y=[i for i in data['MUPs pwalk'].keys()], name='No. of keys', marker_color='lightgrey'), secondary_y=True)\n",
        "    #add CoverageJava runtime scatter plot\n",
        "    data_coveragejava = data['CoverageJava']\n",
        "    fig.add_trace(go.Scatter(x=list(data_coveragejava.keys()), y=[i[0] for i in data_coveragejava.values()], mode='lines+markers', name='CoverageJava*', line=dict(color='blue')))\n",
        "    #add Baseline (All Combs) runtime scatter plot\n",
        "    data_baseline_allcombs = data['Baseline (All Combs)']\n",
        "    fig.add_trace(go.Scatter(x=list(data_baseline_allcombs.keys()), y=[i[0] for i in data_baseline_allcombs.values()], mode='lines+markers', name='Baseline (All Combs)', line=dict(color='red')), secondary_y=False)\n",
        "    #add Baseline (MUPs) runtime scatter plot\n",
        "    # data_baseline_mups = data['Baseline (MUPs)']\n",
        "    # fig.add_trace(go.Scatter(x=[i for i in data_baseline_mups.keys()], y=[i for i in data_baseline_mups.values()], mode='lines+markers', name='Baseline (MUPs)', line=dict(color='green')))\n",
        "    #add MUPs pwalk runtime scatter plot\n",
        "    data_mups_pwalk = data['MUPs pwalk']\n",
        "    fig.add_trace(go.Scatter(x=list(data_mups_pwalk.keys()), y=[i[0] for i in data_mups_pwalk.values()], mode='lines+markers', name='MUPs pwalk', line=dict(color='orange')), secondary_y=False)\n",
        "    #update layout\n",
        "    fig.update_layout(title=f\"Runtime of Coverage Detection for {name} dataset\", xaxis_title=\"No. of keys\")\n",
        "    fig.update_yaxes(title_text=\"Runtime (s)\", secondary_y=False)\n",
        "    fig.update_yaxes(title_text=\"total amount of patterns\", secondary_y=True)\n",
        "    return fig"
      ]
    },
    {
      "cell_type": "code",
      "execution_count": 154,
      "metadata": {},
      "outputs": [],
      "source": [
        "def visualize_runtime_experiment(name, data):   \n",
        "    #visualize runtime_dict as line scatterplot for each bucket and logaritmic x-axis using runtime[0] and show runtime[1] as bars behind the lineplot\n",
        "    data = data[name]\n",
        "    fig = sp.make_subplots(specs=[[{\"secondary_y\": True}]])\n",
        "     #add bar plot of no. of keys, add second yaxis\n",
        "    # fig.add_trace(go.Bar(x=[len(i[1]) for i in data['MUPs pwalk'].values()], y=[i for i in data['MUPs pwalk'].keys()], name='No. of keys', marker_color='lightgrey'), secondary_y=True)\n",
        "    #add CoverageJava runtime scatter plot\n",
        "    data_coveragejava = data['CoverageJava']\n",
        "    fig.add_trace(go.Scatter(x=[len(i[1]) for i in data['Baseline (All Combs)'].values()], y=[i[0] for i in data_coveragejava.values()], mode='lines+markers', name='CoverageJava*', line=dict(color='blue')))\n",
        "    #add Baseline (All Combs) runtime scatter plot\n",
        "    data_baseline_allcombs = data['Baseline (All Combs)']\n",
        "    fig.add_trace(go.Scatter(x=[len(i[1]) for i in data['Baseline (All Combs)'].values()], y=[i[0] for i in data_baseline_allcombs.values()], mode='lines+markers', name='Baseline (All Combs)', line=dict(color='red')), secondary_y=False)\n",
        "    #add Baseline (MUPs) runtime scatter plot\n",
        "    # data_baseline_mups = data['Baseline (MUPs)']\n",
        "    # fig.add_trace(go.Scatter(x=[i for i in data_baseline_mups.keys()], y=[i for i in data_baseline_mups.values()], mode='lines+markers', name='Baseline (MUPs)', line=dict(color='green')))\n",
        "    #add MUPs pwalk runtime scatter plot\n",
        "    data_mups_pwalk = data['MUPs pwalk']\n",
        "    fig.add_trace(go.Scatter(x=[len(i[1]) for i in data_mups_pwalk.values()], y=[i[0] for i in data_mups_pwalk.values()], mode='lines+markers', name='MUPs pwalk', line=dict(color='orange')), secondary_y=False)\n",
        "    #update layout\n",
        "    fig.update_layout(title=f\"Runtime of Coverage Detection for {name} dataset\", xaxis_title=\"No. of keys\")\n",
        "    fig.update_yaxes(title_text=\"Runtime (s)\", secondary_y=False)\n",
        "    fig.update_yaxes(title_text=\"total amount of patterns\", secondary_y=True)\n",
        "    return fig"
      ]
    },
    {
      "cell_type": "code",
      "execution_count": 247,
      "metadata": {},
      "outputs": [],
      "source": [
        "#create dict with length of i[1] of values as key and i[0] of values as value, if multiple same length of i[1] values exist, take the one with highest i[1] value\n",
        "def get_pattern_length_viz_data(dict_output):\n",
        "    cov_runtime_output_uk_viz = {}\n",
        "    combination_sizes = {}\n",
        "    for k, v in dict_output.items():\n",
        "        cov_runtime_output_uk_viz.setdefault(k, dict())\n",
        "        combination_sizes.setdefault(k, dict())\n",
        "        for _k, _v in v.items():\n",
        "            if len(_v[1]) in cov_runtime_output_uk_viz[k].keys():\n",
        "                if _v[0] > cov_runtime_output_uk_viz[k][len(_v[1])]:\n",
        "                    cov_runtime_output_uk_viz[k][len(_v[1])] = _v[0]\n",
        "                    combination_sizes[k][len(_v[1])] = _k\n",
        "            else:\n",
        "                cov_runtime_output_uk_viz[k].setdefault(len(_v[1]), _v[0])\n",
        "                combination_sizes[k].setdefault(len(_v[1]), _k)\n",
        "    print(combination_sizes)\n",
        "    return cov_runtime_output_uk_viz"
      ]
    },
    {
      "cell_type": "code",
      "execution_count": 208,
      "metadata": {},
      "outputs": [],
      "source": [
        "def get_combination_length_viz_data(dict_output):\n",
        "    cov_runtime_output_uk_viz = {}\n",
        "    for k, v in dict_output.items():\n",
        "        cov_runtime_output_uk_viz.setdefault(k, dict())\n",
        "        for _k, _v in v.items():\n",
        "            cov_runtime_output_uk_viz[k].setdefault(_k, _v[0])\n",
        "    return cov_runtime_output_uk_viz"
      ]
    },
    {
      "cell_type": "code",
      "execution_count": 241,
      "metadata": {},
      "outputs": [],
      "source": [
        "def visualize_runtime_experiment(name, data):   \n",
        "    #visualize runtime_dict as line scatterplot for each bucket and logaritmic x-axis using runtime[0] and show runtime[1] as bars behind the lineplot\n",
        "    data = data[name]\n",
        "    data = get_pattern_length_viz_data(data)\n",
        "    print(data)\n",
        "    fig = go.Figure()\n",
        "    #add Baseline (All Combs) runtime scatter plot\n",
        "    data_baseline_allcombs = data['Baseline (All Combs)']\n",
        "    fig.add_trace(go.Scatter(x=list(data_baseline_allcombs.keys()), y=list(data_baseline_allcombs.values()), mode='lines+markers', name='Baseline (All Combs)', line=dict(color='red')))\n",
        "    #add MUPs pwalk runtime scatter plot\n",
        "    data_mups_pwalk = data['MUPs pwalk']\n",
        "    fig.add_trace(go.Scatter(x=list(data_mups_pwalk.keys()), y=list(data_mups_pwalk.values()), mode='lines+markers', name='MUPs pwalk', line=dict(color='orange')))\n",
        "    #update layout\n",
        "    fig.update_layout(title=f\"Runtime of Coverage Detection for {name} dataset\", xaxis_title=\"No. of keys\")\n",
        "    return fig"
      ]
    },
    {
      "cell_type": "markdown",
      "metadata": {},
      "source": [
        "BlueNile"
      ]
    },
    {
      "cell_type": "code",
      "execution_count": 152,
      "metadata": {},
      "outputs": [],
      "source": [
        "with open(\"results/BlueNile_cov_combsize_runtime_dict_2023-10-17.pkl\", \"rb\") as f:\n",
        "    cov_runtime_output_bn = pickle.load(f)"
      ]
    },
    {
      "cell_type": "code",
      "execution_count": 224,
      "metadata": {},
      "outputs": [],
      "source": [
        "with open(\"results/BlueNile_cov_mups_size_dict_2023-10-17.pkl\", \"rb\") as f:\n",
        "    cov_mups_size_bn = pickle.load(f)"
      ]
    },
    {
      "cell_type": "code",
      "execution_count": 251,
      "metadata": {},
      "outputs": [
        {
          "data": {
            "text/plain": [
              "{15: [0, ['Polish', 'Symmetry'], 0.02826523780822754],\n",
              " 28: [1, ['Cut', 'Fluorescence'], 0.02918720245361328],\n",
              " 31: [0, ['Color', 'Polish'], 0.028392314910888672],\n",
              " 39: [0, ['Color', 'Cut'], 0.028886079788208008],\n",
              " 87: [0, ['Shape', 'Color'], 0.0290224552154541],\n",
              " 152: [11, ['Cut', 'Clarity', 'Polish'], 0.0379328727722168],\n",
              " 256: [4, ['Shape', 'Symmetry', 'Fluorescence'], 0.03967428207397461],\n",
              " 407: [13, ['Color', 'Clarity', 'Fluorescence'], 0.042226552963256836],\n",
              " 740: [39,\n",
              "  ['Clarity', 'Polish', 'Symmetry', 'Fluorescence'],\n",
              "  0.06398510932922363],\n",
              " 1316: [43, ['Shape', 'Color', 'Polish', 'Symmetry'], 0.062047719955444336],\n",
              " 1809: [150,\n",
              "  ['Shape', 'Color', 'Polish', 'Fluorescence'],\n",
              "  0.06966376304626465],\n",
              " 2475: [101, ['Shape', 'Color', 'Cut', 'Clarity'], 0.0788414478302002],\n",
              " 6155: [335,\n",
              "  ['Color', 'Cut', 'Clarity', 'Symmetry', 'Fluorescence'],\n",
              "  0.13981270790100098],\n",
              " 12541: [1569,\n",
              "  ['Shape', 'Color', 'Clarity', 'Symmetry', 'Fluorescence'],\n",
              "  0.2578554153442383],\n",
              " 35138: [3156,\n",
              "  ['Shape', 'Color', 'Cut', 'Clarity', 'Polish', 'Fluorescence'],\n",
              "  0.793515682220459],\n",
              " 109562: [8375,\n",
              "  ['Shape', 'Color', 'Cut', 'Clarity', 'Polish', 'Symmetry', 'Fluorescence'],\n",
              "  4.31085729598999]}"
            ]
          },
          "execution_count": 251,
          "metadata": {},
          "output_type": "execute_result"
        }
      ],
      "source": [
        "cov_mups_size_bn['BlueNile']['CoverageJava']"
      ]
    },
    {
      "cell_type": "code",
      "execution_count": null,
      "metadata": {},
      "outputs": [],
      "source": [
        "fig_run = visualize_runtime_experiment(\"BlueNile\", cov_runtime_output_bn)\n",
        "#add CoverageJava runtime scatter plot\n",
        "data_coveragejava_bn = cov_mups_size_bn['BlueNile']['CoverageJava']\n",
        "# fig_run.add_trace(go.Scatter(x=[i for i in data_coveragejava_bn.keys()], y=[i[-1] for i in data_coveragejava_bn.values()], mode='lines+markers', name='CoverageJava*', line=dict(color='blue')))\n",
        "fig_run.add_trace(go.Scatter(x=[len(i[1]) for i in data_coveragejava_bn.values()], y=list(data_coveragejava_bn.values()), mode='lines+markers', name='CoverageJava*', line=dict(color='blue')))\n",
        "fig_run.update_layout(yaxis_type=\"log\")\n",
        "# fig_run.update_layout(title=f'Runtime of Coverage Detection for BlueNile', xaxis_title='Pattern Level', yaxis_title='Runtime (s)')\n",
        "fig_run.show()"
      ]
    },
    {
      "cell_type": "code",
      "execution_count": 156,
      "metadata": {},
      "outputs": [],
      "source": [
        "with open(f\"results_server/BlueNile_cov_threshold_runtime_dict_2023-10-17.pkl\", \"rb\") as f:\n",
        "    cov_threshold_output_bn = pickle.load(f)"
      ]
    },
    {
      "cell_type": "code",
      "execution_count": 231,
      "metadata": {},
      "outputs": [
        {
          "data": {
            "application/vnd.plotly.v1+json": {
              "config": {
                "plotlyServerURL": "https://plot.ly"
              },
              "data": [
                {
                  "line": {
                    "color": "blue"
                  },
                  "mode": "lines+markers",
                  "name": "CoverageJava*",
                  "type": "scatter",
                  "x": [
                    0,
                    0.0001,
                    0.001,
                    0.01,
                    0.1
                  ],
                  "y": [
                    6.103571891784668,
                    2.2129416465759277,
                    0.5862870216369629,
                    0.21340036392211914,
                    0.10529685020446777
                  ]
                },
                {
                  "line": {
                    "color": "red"
                  },
                  "mode": "lines+markers",
                  "name": "Baseline (All Combs)",
                  "type": "scatter",
                  "x": [
                    0,
                    0.0001,
                    0.001,
                    0.01,
                    0.1
                  ],
                  "xaxis": "x",
                  "y": [
                    0.14394584205001593,
                    2.3183311000466347,
                    2.3689095308072865,
                    2.2507994689513,
                    2.2628896930254996
                  ],
                  "yaxis": "y"
                },
                {
                  "line": {
                    "color": "orange"
                  },
                  "mode": "lines+markers",
                  "name": "MUPs pwalk",
                  "type": "scatter",
                  "x": [
                    0,
                    0.0001,
                    0.001,
                    0.01,
                    0.1
                  ],
                  "xaxis": "x",
                  "y": [
                    1.1321082580834627,
                    0.6978476238436997,
                    0.2614886451046914,
                    0.06621296820230782,
                    0.00621185009367764
                  ],
                  "yaxis": "y"
                }
              ],
              "layout": {
                "template": {
                  "data": {
                    "candlestick": [
                      {
                        "decreasing": {
                          "line": {
                            "color": "#000033"
                          }
                        },
                        "increasing": {
                          "line": {
                            "color": "#000032"
                          }
                        },
                        "type": "candlestick"
                      }
                    ],
                    "contour": [
                      {
                        "colorscale": [
                          [
                            0,
                            "#000011"
                          ],
                          [
                            0.1111111111111111,
                            "#000012"
                          ],
                          [
                            0.2222222222222222,
                            "#000013"
                          ],
                          [
                            0.3333333333333333,
                            "#000014"
                          ],
                          [
                            0.4444444444444444,
                            "#000015"
                          ],
                          [
                            0.5555555555555556,
                            "#000016"
                          ],
                          [
                            0.6666666666666666,
                            "#000017"
                          ],
                          [
                            0.7777777777777778,
                            "#000018"
                          ],
                          [
                            0.8888888888888888,
                            "#000019"
                          ],
                          [
                            1,
                            "#000020"
                          ]
                        ],
                        "type": "contour"
                      }
                    ],
                    "contourcarpet": [
                      {
                        "colorscale": [
                          [
                            0,
                            "#000011"
                          ],
                          [
                            0.1111111111111111,
                            "#000012"
                          ],
                          [
                            0.2222222222222222,
                            "#000013"
                          ],
                          [
                            0.3333333333333333,
                            "#000014"
                          ],
                          [
                            0.4444444444444444,
                            "#000015"
                          ],
                          [
                            0.5555555555555556,
                            "#000016"
                          ],
                          [
                            0.6666666666666666,
                            "#000017"
                          ],
                          [
                            0.7777777777777778,
                            "#000018"
                          ],
                          [
                            0.8888888888888888,
                            "#000019"
                          ],
                          [
                            1,
                            "#000020"
                          ]
                        ],
                        "type": "contourcarpet"
                      }
                    ],
                    "heatmap": [
                      {
                        "colorscale": [
                          [
                            0,
                            "#000011"
                          ],
                          [
                            0.1111111111111111,
                            "#000012"
                          ],
                          [
                            0.2222222222222222,
                            "#000013"
                          ],
                          [
                            0.3333333333333333,
                            "#000014"
                          ],
                          [
                            0.4444444444444444,
                            "#000015"
                          ],
                          [
                            0.5555555555555556,
                            "#000016"
                          ],
                          [
                            0.6666666666666666,
                            "#000017"
                          ],
                          [
                            0.7777777777777778,
                            "#000018"
                          ],
                          [
                            0.8888888888888888,
                            "#000019"
                          ],
                          [
                            1,
                            "#000020"
                          ]
                        ],
                        "type": "heatmap"
                      }
                    ],
                    "histogram2d": [
                      {
                        "colorscale": [
                          [
                            0,
                            "#000011"
                          ],
                          [
                            0.1111111111111111,
                            "#000012"
                          ],
                          [
                            0.2222222222222222,
                            "#000013"
                          ],
                          [
                            0.3333333333333333,
                            "#000014"
                          ],
                          [
                            0.4444444444444444,
                            "#000015"
                          ],
                          [
                            0.5555555555555556,
                            "#000016"
                          ],
                          [
                            0.6666666666666666,
                            "#000017"
                          ],
                          [
                            0.7777777777777778,
                            "#000018"
                          ],
                          [
                            0.8888888888888888,
                            "#000019"
                          ],
                          [
                            1,
                            "#000020"
                          ]
                        ],
                        "type": "histogram2d"
                      }
                    ],
                    "icicle": [
                      {
                        "textfont": {
                          "color": "white"
                        },
                        "type": "icicle"
                      }
                    ],
                    "sankey": [
                      {
                        "textfont": {
                          "color": "#000036"
                        },
                        "type": "sankey"
                      }
                    ],
                    "scatter": [
                      {
                        "marker": {
                          "line": {
                            "width": 0
                          }
                        },
                        "type": "scatter"
                      }
                    ],
                    "table": [
                      {
                        "cells": {
                          "fill": {
                            "color": "#000038"
                          },
                          "font": {
                            "color": "#000037"
                          },
                          "line": {
                            "color": "#000039"
                          }
                        },
                        "header": {
                          "fill": {
                            "color": "#000040"
                          },
                          "font": {
                            "color": "#000036"
                          },
                          "line": {
                            "color": "#000039"
                          }
                        },
                        "type": "table"
                      }
                    ],
                    "waterfall": [
                      {
                        "connector": {
                          "line": {
                            "color": "#000036",
                            "width": 2
                          }
                        },
                        "decreasing": {
                          "marker": {
                            "color": "#000033"
                          }
                        },
                        "increasing": {
                          "marker": {
                            "color": "#000032"
                          }
                        },
                        "totals": {
                          "marker": {
                            "color": "#000034"
                          }
                        },
                        "type": "waterfall"
                      }
                    ]
                  },
                  "layout": {
                    "coloraxis": {
                      "colorscale": [
                        [
                          0,
                          "#000011"
                        ],
                        [
                          0.1111111111111111,
                          "#000012"
                        ],
                        [
                          0.2222222222222222,
                          "#000013"
                        ],
                        [
                          0.3333333333333333,
                          "#000014"
                        ],
                        [
                          0.4444444444444444,
                          "#000015"
                        ],
                        [
                          0.5555555555555556,
                          "#000016"
                        ],
                        [
                          0.6666666666666666,
                          "#000017"
                        ],
                        [
                          0.7777777777777778,
                          "#000018"
                        ],
                        [
                          0.8888888888888888,
                          "#000019"
                        ],
                        [
                          1,
                          "#000020"
                        ]
                      ]
                    },
                    "colorscale": {
                      "diverging": [
                        [
                          0,
                          "#000021"
                        ],
                        [
                          0.1,
                          "#000022"
                        ],
                        [
                          0.2,
                          "#000023"
                        ],
                        [
                          0.3,
                          "#000024"
                        ],
                        [
                          0.4,
                          "#000025"
                        ],
                        [
                          0.5,
                          "#000026"
                        ],
                        [
                          0.6,
                          "#000027"
                        ],
                        [
                          0.7,
                          "#000028"
                        ],
                        [
                          0.8,
                          "#000029"
                        ],
                        [
                          0.9,
                          "#000030"
                        ],
                        [
                          1,
                          "#000031"
                        ]
                      ],
                      "sequential": [
                        [
                          0,
                          "#000011"
                        ],
                        [
                          0.1111111111111111,
                          "#000012"
                        ],
                        [
                          0.2222222222222222,
                          "#000013"
                        ],
                        [
                          0.3333333333333333,
                          "#000014"
                        ],
                        [
                          0.4444444444444444,
                          "#000015"
                        ],
                        [
                          0.5555555555555556,
                          "#000016"
                        ],
                        [
                          0.6666666666666666,
                          "#000017"
                        ],
                        [
                          0.7777777777777778,
                          "#000018"
                        ],
                        [
                          0.8888888888888888,
                          "#000019"
                        ],
                        [
                          1,
                          "#000020"
                        ]
                      ],
                      "sequentialminus": [
                        [
                          0,
                          "#000011"
                        ],
                        [
                          0.1111111111111111,
                          "#000012"
                        ],
                        [
                          0.2222222222222222,
                          "#000013"
                        ],
                        [
                          0.3333333333333333,
                          "#000014"
                        ],
                        [
                          0.4444444444444444,
                          "#000015"
                        ],
                        [
                          0.5555555555555556,
                          "#000016"
                        ],
                        [
                          0.6666666666666666,
                          "#000017"
                        ],
                        [
                          0.7777777777777778,
                          "#000018"
                        ],
                        [
                          0.8888888888888888,
                          "#000019"
                        ],
                        [
                          1,
                          "#000020"
                        ]
                      ]
                    },
                    "colorway": [
                      "#000001",
                      "#000002",
                      "#000003",
                      "#000004",
                      "#000005",
                      "#000006",
                      "#000007",
                      "#000008",
                      "#000009",
                      "#000010"
                    ]
                  }
                },
                "title": {
                  "text": "Runtime of Coverage Detection for BlueNile by Threshold"
                },
                "xaxis": {
                  "anchor": "y",
                  "domain": [
                    0,
                    0.94
                  ],
                  "title": {
                    "text": "Threshold"
                  },
                  "type": "log"
                },
                "yaxis": {
                  "anchor": "x",
                  "domain": [
                    0,
                    1
                  ],
                  "title": {
                    "text": "Runtime (s)"
                  }
                },
                "yaxis2": {
                  "anchor": "x",
                  "overlaying": "y",
                  "side": "right",
                  "title": {
                    "text": "total amount of patterns"
                  }
                }
              }
            }
          },
          "metadata": {},
          "output_type": "display_data"
        }
      ],
      "source": [
        "fig_t = visualize_runtime_experiment_threshold('BlueNile_109562', cov_threshold_output_bn)\n",
        "fig_t.update_layout(title=f'Runtime of Coverage Detection for BlueNile by Threshold', xaxis_title='Threshold', yaxis_title='Runtime (s)', xaxis_type='log')"
      ]
    },
    {
      "cell_type": "markdown",
      "metadata": {},
      "source": [
        "UKRoadSafety"
      ]
    },
    {
      "cell_type": "code",
      "execution_count": null,
      "metadata": {},
      "outputs": [],
      "source": [
        "uk_roadsafety.nunique()"
      ]
    },
    {
      "cell_type": "code",
      "execution_count": 69,
      "metadata": {},
      "outputs": [],
      "source": [
        "with open(f\"results_server/UKRoadSafety_cov_combsize_runtime_dict_2023-10-16.pkl\", \"rb\") as f:\n",
        "    cov_runtime_output_uk = pickle.load(f)"
      ]
    },
    {
      "cell_type": "code",
      "execution_count": 221,
      "metadata": {},
      "outputs": [],
      "source": [
        "with open(f\"results_server/UKRoadSafety_cov_mups_size_dict_2023-10-17.pkl\", \"rb\") as f:\n",
        "    cov_runtime_covjava = pickle.load(f)"
      ]
    },
    {
      "cell_type": "code",
      "execution_count": 304,
      "metadata": {},
      "outputs": [
        {
          "name": "stdout",
          "output_type": "stream",
          "text": [
            "{'CoverageJava': {8: 31}, 'Baseline (All Combs)': {2: 29, 3: 722, 4: 7398, 5: 12343, 6: 114779, 8: 1383556, 9: 3723646}, 'MUPs pwalk': {2: 29, 3: 722, 4: 7398, 5: 12343, 6: 114779, 8: 1383556, 9: 3723646}}\n",
            "{'CoverageJava': {8: 23.9112811088562}, 'Baseline (All Combs)': {2: 0.0005079119000583887, 3: 0.00090568489395082, 4: 0.003931944957002997, 5: 0.010545777156949043, 6: 0.19801846100017428, 8: 13.145856244955212, 9: 63.110174955101684}, 'MUPs pwalk': {2: 0.00030912901274859905, 3: 0.005445211892947555, 4: 0.0475206000264734, 5: 0.1065364449750632, 6: 1.2611411870457232, 8: 22.20008739992045, 9: 67.88506794092245}}\n"
          ]
        },
        {
          "data": {
            "application/vnd.plotly.v1+json": {
              "config": {
                "plotlyServerURL": "https://plot.ly"
              },
              "data": [
                {
                  "line": {
                    "color": "red"
                  },
                  "mode": "lines+markers",
                  "name": "Baseline (All Combs)",
                  "type": "scatter",
                  "x": [
                    2,
                    3,
                    4,
                    5,
                    6,
                    8,
                    9
                  ],
                  "y": [
                    0.0005079119000583887,
                    0.00090568489395082,
                    0.003931944957002997,
                    0.010545777156949043,
                    0.19801846100017428,
                    13.145856244955212,
                    63.110174955101684
                  ]
                },
                {
                  "line": {
                    "color": "orange"
                  },
                  "mode": "lines+markers",
                  "name": "MUPs pwalk",
                  "type": "scatter",
                  "x": [
                    2,
                    3,
                    4,
                    5,
                    6,
                    8,
                    9
                  ],
                  "y": [
                    0.00030912901274859905,
                    0.005445211892947555,
                    0.0475206000264734,
                    0.1065364449750632,
                    1.2611411870457232,
                    22.20008739992045,
                    67.88506794092245
                  ]
                }
              ],
              "layout": {
                "template": {
                  "data": {
                    "candlestick": [
                      {
                        "decreasing": {
                          "line": {
                            "color": "#000033"
                          }
                        },
                        "increasing": {
                          "line": {
                            "color": "#000032"
                          }
                        },
                        "type": "candlestick"
                      }
                    ],
                    "contour": [
                      {
                        "colorscale": [
                          [
                            0,
                            "#000011"
                          ],
                          [
                            0.1111111111111111,
                            "#000012"
                          ],
                          [
                            0.2222222222222222,
                            "#000013"
                          ],
                          [
                            0.3333333333333333,
                            "#000014"
                          ],
                          [
                            0.4444444444444444,
                            "#000015"
                          ],
                          [
                            0.5555555555555556,
                            "#000016"
                          ],
                          [
                            0.6666666666666666,
                            "#000017"
                          ],
                          [
                            0.7777777777777778,
                            "#000018"
                          ],
                          [
                            0.8888888888888888,
                            "#000019"
                          ],
                          [
                            1,
                            "#000020"
                          ]
                        ],
                        "type": "contour"
                      }
                    ],
                    "contourcarpet": [
                      {
                        "colorscale": [
                          [
                            0,
                            "#000011"
                          ],
                          [
                            0.1111111111111111,
                            "#000012"
                          ],
                          [
                            0.2222222222222222,
                            "#000013"
                          ],
                          [
                            0.3333333333333333,
                            "#000014"
                          ],
                          [
                            0.4444444444444444,
                            "#000015"
                          ],
                          [
                            0.5555555555555556,
                            "#000016"
                          ],
                          [
                            0.6666666666666666,
                            "#000017"
                          ],
                          [
                            0.7777777777777778,
                            "#000018"
                          ],
                          [
                            0.8888888888888888,
                            "#000019"
                          ],
                          [
                            1,
                            "#000020"
                          ]
                        ],
                        "type": "contourcarpet"
                      }
                    ],
                    "heatmap": [
                      {
                        "colorscale": [
                          [
                            0,
                            "#000011"
                          ],
                          [
                            0.1111111111111111,
                            "#000012"
                          ],
                          [
                            0.2222222222222222,
                            "#000013"
                          ],
                          [
                            0.3333333333333333,
                            "#000014"
                          ],
                          [
                            0.4444444444444444,
                            "#000015"
                          ],
                          [
                            0.5555555555555556,
                            "#000016"
                          ],
                          [
                            0.6666666666666666,
                            "#000017"
                          ],
                          [
                            0.7777777777777778,
                            "#000018"
                          ],
                          [
                            0.8888888888888888,
                            "#000019"
                          ],
                          [
                            1,
                            "#000020"
                          ]
                        ],
                        "type": "heatmap"
                      }
                    ],
                    "histogram2d": [
                      {
                        "colorscale": [
                          [
                            0,
                            "#000011"
                          ],
                          [
                            0.1111111111111111,
                            "#000012"
                          ],
                          [
                            0.2222222222222222,
                            "#000013"
                          ],
                          [
                            0.3333333333333333,
                            "#000014"
                          ],
                          [
                            0.4444444444444444,
                            "#000015"
                          ],
                          [
                            0.5555555555555556,
                            "#000016"
                          ],
                          [
                            0.6666666666666666,
                            "#000017"
                          ],
                          [
                            0.7777777777777778,
                            "#000018"
                          ],
                          [
                            0.8888888888888888,
                            "#000019"
                          ],
                          [
                            1,
                            "#000020"
                          ]
                        ],
                        "type": "histogram2d"
                      }
                    ],
                    "icicle": [
                      {
                        "textfont": {
                          "color": "white"
                        },
                        "type": "icicle"
                      }
                    ],
                    "sankey": [
                      {
                        "textfont": {
                          "color": "#000036"
                        },
                        "type": "sankey"
                      }
                    ],
                    "scatter": [
                      {
                        "marker": {
                          "line": {
                            "width": 0
                          }
                        },
                        "type": "scatter"
                      }
                    ],
                    "table": [
                      {
                        "cells": {
                          "fill": {
                            "color": "#000038"
                          },
                          "font": {
                            "color": "#000037"
                          },
                          "line": {
                            "color": "#000039"
                          }
                        },
                        "header": {
                          "fill": {
                            "color": "#000040"
                          },
                          "font": {
                            "color": "#000036"
                          },
                          "line": {
                            "color": "#000039"
                          }
                        },
                        "type": "table"
                      }
                    ],
                    "waterfall": [
                      {
                        "connector": {
                          "line": {
                            "color": "#000036",
                            "width": 2
                          }
                        },
                        "decreasing": {
                          "marker": {
                            "color": "#000033"
                          }
                        },
                        "increasing": {
                          "marker": {
                            "color": "#000032"
                          }
                        },
                        "totals": {
                          "marker": {
                            "color": "#000034"
                          }
                        },
                        "type": "waterfall"
                      }
                    ]
                  },
                  "layout": {
                    "coloraxis": {
                      "colorscale": [
                        [
                          0,
                          "#000011"
                        ],
                        [
                          0.1111111111111111,
                          "#000012"
                        ],
                        [
                          0.2222222222222222,
                          "#000013"
                        ],
                        [
                          0.3333333333333333,
                          "#000014"
                        ],
                        [
                          0.4444444444444444,
                          "#000015"
                        ],
                        [
                          0.5555555555555556,
                          "#000016"
                        ],
                        [
                          0.6666666666666666,
                          "#000017"
                        ],
                        [
                          0.7777777777777778,
                          "#000018"
                        ],
                        [
                          0.8888888888888888,
                          "#000019"
                        ],
                        [
                          1,
                          "#000020"
                        ]
                      ]
                    },
                    "colorscale": {
                      "diverging": [
                        [
                          0,
                          "#000021"
                        ],
                        [
                          0.1,
                          "#000022"
                        ],
                        [
                          0.2,
                          "#000023"
                        ],
                        [
                          0.3,
                          "#000024"
                        ],
                        [
                          0.4,
                          "#000025"
                        ],
                        [
                          0.5,
                          "#000026"
                        ],
                        [
                          0.6,
                          "#000027"
                        ],
                        [
                          0.7,
                          "#000028"
                        ],
                        [
                          0.8,
                          "#000029"
                        ],
                        [
                          0.9,
                          "#000030"
                        ],
                        [
                          1,
                          "#000031"
                        ]
                      ],
                      "sequential": [
                        [
                          0,
                          "#000011"
                        ],
                        [
                          0.1111111111111111,
                          "#000012"
                        ],
                        [
                          0.2222222222222222,
                          "#000013"
                        ],
                        [
                          0.3333333333333333,
                          "#000014"
                        ],
                        [
                          0.4444444444444444,
                          "#000015"
                        ],
                        [
                          0.5555555555555556,
                          "#000016"
                        ],
                        [
                          0.6666666666666666,
                          "#000017"
                        ],
                        [
                          0.7777777777777778,
                          "#000018"
                        ],
                        [
                          0.8888888888888888,
                          "#000019"
                        ],
                        [
                          1,
                          "#000020"
                        ]
                      ],
                      "sequentialminus": [
                        [
                          0,
                          "#000011"
                        ],
                        [
                          0.1111111111111111,
                          "#000012"
                        ],
                        [
                          0.2222222222222222,
                          "#000013"
                        ],
                        [
                          0.3333333333333333,
                          "#000014"
                        ],
                        [
                          0.4444444444444444,
                          "#000015"
                        ],
                        [
                          0.5555555555555556,
                          "#000016"
                        ],
                        [
                          0.6666666666666666,
                          "#000017"
                        ],
                        [
                          0.7777777777777778,
                          "#000018"
                        ],
                        [
                          0.8888888888888888,
                          "#000019"
                        ],
                        [
                          1,
                          "#000020"
                        ]
                      ]
                    },
                    "colorway": [
                      "#000001",
                      "#000002",
                      "#000003",
                      "#000004",
                      "#000005",
                      "#000006",
                      "#000007",
                      "#000008",
                      "#000009",
                      "#000010"
                    ]
                  }
                },
                "title": {
                  "text": "Runtime of Coverage Detection for UKRoadSafety"
                },
                "xaxis": {
                  "title": {
                    "text": "Number of Patterns"
                  }
                },
                "yaxis": {
                  "title": {
                    "text": "Runtime (s)"
                  },
                  "type": "log"
                }
              }
            }
          },
          "metadata": {},
          "output_type": "display_data"
        }
      ],
      "source": [
        "fig_run = visualize_runtime_experiment(\"UKRoadSafety\", cov_runtime_output_uk)\n",
        "fig_run.update_layout(title=f'Runtime of Coverage Detection for UKRoadSafety', xaxis_title='Number of Patterns', yaxis_title='Runtime (s)', yaxis_type='log')\n",
        "#add CoverageJava runtime scatter plot\n",
        "# data_coveragejava_uk = cov_runtime_covjava['UKRoadSafety']['CoverageJava']\n",
        "# fig_run.add_trace(go.Scatter(x=[i for i in data_coveragejava_uk.keys()], y=[i[-1] for i in data_coveragejava_uk.values()], mode='lines+markers', name='CoverageJava*', line=dict(color='blue')))\n",
        "fig_run.show()"
      ]
    },
    {
      "cell_type": "code",
      "execution_count": 72,
      "metadata": {},
      "outputs": [],
      "source": [
        "with open(\"results_server/UKRoadSafety_cov_threshold_runtime_dict_2023-10-16.pkl\", \"rb\") as f:\n",
        "    cov_threshold_output_uk = pickle.load(f)"
      ]
    },
    {
      "cell_type": "code",
      "execution_count": 236,
      "metadata": {},
      "outputs": [
        {
          "data": {
            "application/vnd.plotly.v1+json": {
              "config": {
                "plotlyServerURL": "https://plot.ly"
              },
              "data": [
                {
                  "line": {
                    "color": "blue"
                  },
                  "mode": "lines+markers",
                  "name": "CoverageJava*",
                  "type": "scatter",
                  "x": [
                    0,
                    0.000001,
                    0.00001,
                    0.0001,
                    0.001,
                    0.01,
                    0.1
                  ],
                  "y": [
                    17.701472997665405,
                    19.31731653213501,
                    9.501226425170898,
                    4.682766437530518,
                    2.614168643951416,
                    1.8636114597320557,
                    1.9137601852416992
                  ]
                },
                {
                  "line": {
                    "color": "red"
                  },
                  "mode": "lines+markers",
                  "name": "Baseline (All Combs)",
                  "type": "scatter",
                  "x": [
                    0,
                    0.000001,
                    0.00001,
                    0.0001,
                    0.001,
                    0.01,
                    0.1
                  ],
                  "xaxis": "x",
                  "y": [
                    62.332846184959635,
                    523.9529086891562,
                    479.7836777952034,
                    468.55692202597857,
                    466.7037546047941,
                    474.57978957984596,
                    472.8293238049373
                  ],
                  "yaxis": "y"
                },
                {
                  "line": {
                    "color": "orange"
                  },
                  "mode": "lines+markers",
                  "name": "MUPs pwalk",
                  "type": "scatter",
                  "x": [
                    0,
                    0.000001,
                    0.00001,
                    0.0001,
                    0.001,
                    0.01,
                    0.1
                  ],
                  "xaxis": "x",
                  "y": [
                    67.68661378906108,
                    51.446185308974236,
                    22.17857335601002,
                    8.1564327259548,
                    2.339694440132007,
                    0.4629539188463241,
                    0.04310760018415749
                  ],
                  "yaxis": "y"
                }
              ],
              "layout": {
                "template": {
                  "data": {
                    "candlestick": [
                      {
                        "decreasing": {
                          "line": {
                            "color": "#000033"
                          }
                        },
                        "increasing": {
                          "line": {
                            "color": "#000032"
                          }
                        },
                        "type": "candlestick"
                      }
                    ],
                    "contour": [
                      {
                        "colorscale": [
                          [
                            0,
                            "#000011"
                          ],
                          [
                            0.1111111111111111,
                            "#000012"
                          ],
                          [
                            0.2222222222222222,
                            "#000013"
                          ],
                          [
                            0.3333333333333333,
                            "#000014"
                          ],
                          [
                            0.4444444444444444,
                            "#000015"
                          ],
                          [
                            0.5555555555555556,
                            "#000016"
                          ],
                          [
                            0.6666666666666666,
                            "#000017"
                          ],
                          [
                            0.7777777777777778,
                            "#000018"
                          ],
                          [
                            0.8888888888888888,
                            "#000019"
                          ],
                          [
                            1,
                            "#000020"
                          ]
                        ],
                        "type": "contour"
                      }
                    ],
                    "contourcarpet": [
                      {
                        "colorscale": [
                          [
                            0,
                            "#000011"
                          ],
                          [
                            0.1111111111111111,
                            "#000012"
                          ],
                          [
                            0.2222222222222222,
                            "#000013"
                          ],
                          [
                            0.3333333333333333,
                            "#000014"
                          ],
                          [
                            0.4444444444444444,
                            "#000015"
                          ],
                          [
                            0.5555555555555556,
                            "#000016"
                          ],
                          [
                            0.6666666666666666,
                            "#000017"
                          ],
                          [
                            0.7777777777777778,
                            "#000018"
                          ],
                          [
                            0.8888888888888888,
                            "#000019"
                          ],
                          [
                            1,
                            "#000020"
                          ]
                        ],
                        "type": "contourcarpet"
                      }
                    ],
                    "heatmap": [
                      {
                        "colorscale": [
                          [
                            0,
                            "#000011"
                          ],
                          [
                            0.1111111111111111,
                            "#000012"
                          ],
                          [
                            0.2222222222222222,
                            "#000013"
                          ],
                          [
                            0.3333333333333333,
                            "#000014"
                          ],
                          [
                            0.4444444444444444,
                            "#000015"
                          ],
                          [
                            0.5555555555555556,
                            "#000016"
                          ],
                          [
                            0.6666666666666666,
                            "#000017"
                          ],
                          [
                            0.7777777777777778,
                            "#000018"
                          ],
                          [
                            0.8888888888888888,
                            "#000019"
                          ],
                          [
                            1,
                            "#000020"
                          ]
                        ],
                        "type": "heatmap"
                      }
                    ],
                    "histogram2d": [
                      {
                        "colorscale": [
                          [
                            0,
                            "#000011"
                          ],
                          [
                            0.1111111111111111,
                            "#000012"
                          ],
                          [
                            0.2222222222222222,
                            "#000013"
                          ],
                          [
                            0.3333333333333333,
                            "#000014"
                          ],
                          [
                            0.4444444444444444,
                            "#000015"
                          ],
                          [
                            0.5555555555555556,
                            "#000016"
                          ],
                          [
                            0.6666666666666666,
                            "#000017"
                          ],
                          [
                            0.7777777777777778,
                            "#000018"
                          ],
                          [
                            0.8888888888888888,
                            "#000019"
                          ],
                          [
                            1,
                            "#000020"
                          ]
                        ],
                        "type": "histogram2d"
                      }
                    ],
                    "icicle": [
                      {
                        "textfont": {
                          "color": "white"
                        },
                        "type": "icicle"
                      }
                    ],
                    "sankey": [
                      {
                        "textfont": {
                          "color": "#000036"
                        },
                        "type": "sankey"
                      }
                    ],
                    "scatter": [
                      {
                        "marker": {
                          "line": {
                            "width": 0
                          }
                        },
                        "type": "scatter"
                      }
                    ],
                    "table": [
                      {
                        "cells": {
                          "fill": {
                            "color": "#000038"
                          },
                          "font": {
                            "color": "#000037"
                          },
                          "line": {
                            "color": "#000039"
                          }
                        },
                        "header": {
                          "fill": {
                            "color": "#000040"
                          },
                          "font": {
                            "color": "#000036"
                          },
                          "line": {
                            "color": "#000039"
                          }
                        },
                        "type": "table"
                      }
                    ],
                    "waterfall": [
                      {
                        "connector": {
                          "line": {
                            "color": "#000036",
                            "width": 2
                          }
                        },
                        "decreasing": {
                          "marker": {
                            "color": "#000033"
                          }
                        },
                        "increasing": {
                          "marker": {
                            "color": "#000032"
                          }
                        },
                        "totals": {
                          "marker": {
                            "color": "#000034"
                          }
                        },
                        "type": "waterfall"
                      }
                    ]
                  },
                  "layout": {
                    "coloraxis": {
                      "colorscale": [
                        [
                          0,
                          "#000011"
                        ],
                        [
                          0.1111111111111111,
                          "#000012"
                        ],
                        [
                          0.2222222222222222,
                          "#000013"
                        ],
                        [
                          0.3333333333333333,
                          "#000014"
                        ],
                        [
                          0.4444444444444444,
                          "#000015"
                        ],
                        [
                          0.5555555555555556,
                          "#000016"
                        ],
                        [
                          0.6666666666666666,
                          "#000017"
                        ],
                        [
                          0.7777777777777778,
                          "#000018"
                        ],
                        [
                          0.8888888888888888,
                          "#000019"
                        ],
                        [
                          1,
                          "#000020"
                        ]
                      ]
                    },
                    "colorscale": {
                      "diverging": [
                        [
                          0,
                          "#000021"
                        ],
                        [
                          0.1,
                          "#000022"
                        ],
                        [
                          0.2,
                          "#000023"
                        ],
                        [
                          0.3,
                          "#000024"
                        ],
                        [
                          0.4,
                          "#000025"
                        ],
                        [
                          0.5,
                          "#000026"
                        ],
                        [
                          0.6,
                          "#000027"
                        ],
                        [
                          0.7,
                          "#000028"
                        ],
                        [
                          0.8,
                          "#000029"
                        ],
                        [
                          0.9,
                          "#000030"
                        ],
                        [
                          1,
                          "#000031"
                        ]
                      ],
                      "sequential": [
                        [
                          0,
                          "#000011"
                        ],
                        [
                          0.1111111111111111,
                          "#000012"
                        ],
                        [
                          0.2222222222222222,
                          "#000013"
                        ],
                        [
                          0.3333333333333333,
                          "#000014"
                        ],
                        [
                          0.4444444444444444,
                          "#000015"
                        ],
                        [
                          0.5555555555555556,
                          "#000016"
                        ],
                        [
                          0.6666666666666666,
                          "#000017"
                        ],
                        [
                          0.7777777777777778,
                          "#000018"
                        ],
                        [
                          0.8888888888888888,
                          "#000019"
                        ],
                        [
                          1,
                          "#000020"
                        ]
                      ],
                      "sequentialminus": [
                        [
                          0,
                          "#000011"
                        ],
                        [
                          0.1111111111111111,
                          "#000012"
                        ],
                        [
                          0.2222222222222222,
                          "#000013"
                        ],
                        [
                          0.3333333333333333,
                          "#000014"
                        ],
                        [
                          0.4444444444444444,
                          "#000015"
                        ],
                        [
                          0.5555555555555556,
                          "#000016"
                        ],
                        [
                          0.6666666666666666,
                          "#000017"
                        ],
                        [
                          0.7777777777777778,
                          "#000018"
                        ],
                        [
                          0.8888888888888888,
                          "#000019"
                        ],
                        [
                          1,
                          "#000020"
                        ]
                      ]
                    },
                    "colorway": [
                      "#000001",
                      "#000002",
                      "#000003",
                      "#000004",
                      "#000005",
                      "#000006",
                      "#000007",
                      "#000008",
                      "#000009",
                      "#000010"
                    ]
                  }
                },
                "title": {
                  "text": "Runtime of Coverage Detection for UKRoadSafety"
                },
                "xaxis": {
                  "anchor": "y",
                  "domain": [
                    0,
                    0.94
                  ],
                  "title": {
                    "text": "Threshold"
                  }
                },
                "yaxis": {
                  "anchor": "x",
                  "domain": [
                    0,
                    1
                  ],
                  "title": {
                    "text": "Runtime (s)"
                  },
                  "type": "log"
                },
                "yaxis2": {
                  "anchor": "x",
                  "overlaying": "y",
                  "side": "right",
                  "title": {
                    "text": "total amount of patterns"
                  }
                }
              }
            }
          },
          "metadata": {},
          "output_type": "display_data"
        }
      ],
      "source": [
        "fig_t = visualize_runtime_experiment_threshold('UKRoadSafety_3723646', cov_threshold_output_uk)\n",
        "fig_t.update_layout(title=f'Runtime of Coverage Detection for UKRoadSafety', xaxis_title='Threshold', yaxis_title='Runtime (s)', yaxis_type='log')"
      ]
    },
    {
      "cell_type": "code",
      "execution_count": 43,
      "metadata": {},
      "outputs": [
        {
          "data": {
            "text/plain": [
              "145"
            ]
          },
          "execution_count": 43,
          "metadata": {},
          "output_type": "execute_result"
        }
      ],
      "source": [
        "acs_income = pd.read_csv(\"data/df_ACSIncome_enc_num.csv\")\n",
        "sum(occ.get_cardinalities(acs_income))"
      ]
    },
    {
      "cell_type": "code",
      "execution_count": 79,
      "metadata": {},
      "outputs": [],
      "source": [
        "with open(f\"results_server/ACSIncome_cov_combsize_runtime_dict_2023-10-16.pkl\", \"rb\") as f:\n",
        "    cov_runtime_output_acs = pickle.load(f)"
      ]
    },
    {
      "cell_type": "code",
      "execution_count": 303,
      "metadata": {},
      "outputs": [
        {
          "name": "stdout",
          "output_type": "stream",
          "text": [
            "{'CoverageJava': {6: 4522}, 'Baseline (All Combs)': {2: 795, 3: 203, 4: 4522, 5: 72501, 7: 1428222, 8: 3830436, 9: 9339813}, 'MUPs pwalk': {2: 795, 3: 203, 4: 4522, 5: 72501, 7: 1428222, 8: 3830436, 9: 9339813}}\n",
            "{'CoverageJava': {6: 8.960147142410278}, 'Baseline (All Combs)': {2: 0.0008603830356150866, 3: 0.0007304551545530558, 4: 0.003704494098201394, 5: 0.16112011088989675, 7: 50.45904640899971, 8: 287.1465045711957, 9: 1120.6086388651747}, 'MUPs pwalk': {2: 0.0060557888355106115, 3: 0.0012337020598351955, 4: 0.03592499205842614, 5: 2.1189936969894916, 7: 93.52500780206174, 8: 237.03961986489594, 9: 403.7739740598481}}\n"
          ]
        },
        {
          "data": {
            "application/vnd.plotly.v1+json": {
              "config": {
                "plotlyServerURL": "https://plot.ly"
              },
              "data": [
                {
                  "line": {
                    "color": "red"
                  },
                  "mode": "lines+markers",
                  "name": "Baseline (All Combs)",
                  "type": "scatter",
                  "x": [
                    2,
                    3,
                    4,
                    5,
                    7,
                    8,
                    9
                  ],
                  "y": [
                    0.0008603830356150866,
                    0.0007304551545530558,
                    0.003704494098201394,
                    0.16112011088989675,
                    50.45904640899971,
                    287.1465045711957,
                    1120.6086388651747
                  ]
                },
                {
                  "line": {
                    "color": "orange"
                  },
                  "mode": "lines+markers",
                  "name": "MUPs pwalk",
                  "type": "scatter",
                  "x": [
                    2,
                    3,
                    4,
                    5,
                    7,
                    8,
                    9
                  ],
                  "y": [
                    0.0060557888355106115,
                    0.0012337020598351955,
                    0.03592499205842614,
                    2.1189936969894916,
                    93.52500780206174,
                    237.03961986489594,
                    403.7739740598481
                  ]
                }
              ],
              "layout": {
                "template": {
                  "data": {
                    "candlestick": [
                      {
                        "decreasing": {
                          "line": {
                            "color": "#000033"
                          }
                        },
                        "increasing": {
                          "line": {
                            "color": "#000032"
                          }
                        },
                        "type": "candlestick"
                      }
                    ],
                    "contour": [
                      {
                        "colorscale": [
                          [
                            0,
                            "#000011"
                          ],
                          [
                            0.1111111111111111,
                            "#000012"
                          ],
                          [
                            0.2222222222222222,
                            "#000013"
                          ],
                          [
                            0.3333333333333333,
                            "#000014"
                          ],
                          [
                            0.4444444444444444,
                            "#000015"
                          ],
                          [
                            0.5555555555555556,
                            "#000016"
                          ],
                          [
                            0.6666666666666666,
                            "#000017"
                          ],
                          [
                            0.7777777777777778,
                            "#000018"
                          ],
                          [
                            0.8888888888888888,
                            "#000019"
                          ],
                          [
                            1,
                            "#000020"
                          ]
                        ],
                        "type": "contour"
                      }
                    ],
                    "contourcarpet": [
                      {
                        "colorscale": [
                          [
                            0,
                            "#000011"
                          ],
                          [
                            0.1111111111111111,
                            "#000012"
                          ],
                          [
                            0.2222222222222222,
                            "#000013"
                          ],
                          [
                            0.3333333333333333,
                            "#000014"
                          ],
                          [
                            0.4444444444444444,
                            "#000015"
                          ],
                          [
                            0.5555555555555556,
                            "#000016"
                          ],
                          [
                            0.6666666666666666,
                            "#000017"
                          ],
                          [
                            0.7777777777777778,
                            "#000018"
                          ],
                          [
                            0.8888888888888888,
                            "#000019"
                          ],
                          [
                            1,
                            "#000020"
                          ]
                        ],
                        "type": "contourcarpet"
                      }
                    ],
                    "heatmap": [
                      {
                        "colorscale": [
                          [
                            0,
                            "#000011"
                          ],
                          [
                            0.1111111111111111,
                            "#000012"
                          ],
                          [
                            0.2222222222222222,
                            "#000013"
                          ],
                          [
                            0.3333333333333333,
                            "#000014"
                          ],
                          [
                            0.4444444444444444,
                            "#000015"
                          ],
                          [
                            0.5555555555555556,
                            "#000016"
                          ],
                          [
                            0.6666666666666666,
                            "#000017"
                          ],
                          [
                            0.7777777777777778,
                            "#000018"
                          ],
                          [
                            0.8888888888888888,
                            "#000019"
                          ],
                          [
                            1,
                            "#000020"
                          ]
                        ],
                        "type": "heatmap"
                      }
                    ],
                    "histogram2d": [
                      {
                        "colorscale": [
                          [
                            0,
                            "#000011"
                          ],
                          [
                            0.1111111111111111,
                            "#000012"
                          ],
                          [
                            0.2222222222222222,
                            "#000013"
                          ],
                          [
                            0.3333333333333333,
                            "#000014"
                          ],
                          [
                            0.4444444444444444,
                            "#000015"
                          ],
                          [
                            0.5555555555555556,
                            "#000016"
                          ],
                          [
                            0.6666666666666666,
                            "#000017"
                          ],
                          [
                            0.7777777777777778,
                            "#000018"
                          ],
                          [
                            0.8888888888888888,
                            "#000019"
                          ],
                          [
                            1,
                            "#000020"
                          ]
                        ],
                        "type": "histogram2d"
                      }
                    ],
                    "icicle": [
                      {
                        "textfont": {
                          "color": "white"
                        },
                        "type": "icicle"
                      }
                    ],
                    "sankey": [
                      {
                        "textfont": {
                          "color": "#000036"
                        },
                        "type": "sankey"
                      }
                    ],
                    "scatter": [
                      {
                        "marker": {
                          "line": {
                            "width": 0
                          }
                        },
                        "type": "scatter"
                      }
                    ],
                    "table": [
                      {
                        "cells": {
                          "fill": {
                            "color": "#000038"
                          },
                          "font": {
                            "color": "#000037"
                          },
                          "line": {
                            "color": "#000039"
                          }
                        },
                        "header": {
                          "fill": {
                            "color": "#000040"
                          },
                          "font": {
                            "color": "#000036"
                          },
                          "line": {
                            "color": "#000039"
                          }
                        },
                        "type": "table"
                      }
                    ],
                    "waterfall": [
                      {
                        "connector": {
                          "line": {
                            "color": "#000036",
                            "width": 2
                          }
                        },
                        "decreasing": {
                          "marker": {
                            "color": "#000033"
                          }
                        },
                        "increasing": {
                          "marker": {
                            "color": "#000032"
                          }
                        },
                        "totals": {
                          "marker": {
                            "color": "#000034"
                          }
                        },
                        "type": "waterfall"
                      }
                    ]
                  },
                  "layout": {
                    "coloraxis": {
                      "colorscale": [
                        [
                          0,
                          "#000011"
                        ],
                        [
                          0.1111111111111111,
                          "#000012"
                        ],
                        [
                          0.2222222222222222,
                          "#000013"
                        ],
                        [
                          0.3333333333333333,
                          "#000014"
                        ],
                        [
                          0.4444444444444444,
                          "#000015"
                        ],
                        [
                          0.5555555555555556,
                          "#000016"
                        ],
                        [
                          0.6666666666666666,
                          "#000017"
                        ],
                        [
                          0.7777777777777778,
                          "#000018"
                        ],
                        [
                          0.8888888888888888,
                          "#000019"
                        ],
                        [
                          1,
                          "#000020"
                        ]
                      ]
                    },
                    "colorscale": {
                      "diverging": [
                        [
                          0,
                          "#000021"
                        ],
                        [
                          0.1,
                          "#000022"
                        ],
                        [
                          0.2,
                          "#000023"
                        ],
                        [
                          0.3,
                          "#000024"
                        ],
                        [
                          0.4,
                          "#000025"
                        ],
                        [
                          0.5,
                          "#000026"
                        ],
                        [
                          0.6,
                          "#000027"
                        ],
                        [
                          0.7,
                          "#000028"
                        ],
                        [
                          0.8,
                          "#000029"
                        ],
                        [
                          0.9,
                          "#000030"
                        ],
                        [
                          1,
                          "#000031"
                        ]
                      ],
                      "sequential": [
                        [
                          0,
                          "#000011"
                        ],
                        [
                          0.1111111111111111,
                          "#000012"
                        ],
                        [
                          0.2222222222222222,
                          "#000013"
                        ],
                        [
                          0.3333333333333333,
                          "#000014"
                        ],
                        [
                          0.4444444444444444,
                          "#000015"
                        ],
                        [
                          0.5555555555555556,
                          "#000016"
                        ],
                        [
                          0.6666666666666666,
                          "#000017"
                        ],
                        [
                          0.7777777777777778,
                          "#000018"
                        ],
                        [
                          0.8888888888888888,
                          "#000019"
                        ],
                        [
                          1,
                          "#000020"
                        ]
                      ],
                      "sequentialminus": [
                        [
                          0,
                          "#000011"
                        ],
                        [
                          0.1111111111111111,
                          "#000012"
                        ],
                        [
                          0.2222222222222222,
                          "#000013"
                        ],
                        [
                          0.3333333333333333,
                          "#000014"
                        ],
                        [
                          0.4444444444444444,
                          "#000015"
                        ],
                        [
                          0.5555555555555556,
                          "#000016"
                        ],
                        [
                          0.6666666666666666,
                          "#000017"
                        ],
                        [
                          0.7777777777777778,
                          "#000018"
                        ],
                        [
                          0.8888888888888888,
                          "#000019"
                        ],
                        [
                          1,
                          "#000020"
                        ]
                      ]
                    },
                    "colorway": [
                      "#000001",
                      "#000002",
                      "#000003",
                      "#000004",
                      "#000005",
                      "#000006",
                      "#000007",
                      "#000008",
                      "#000009",
                      "#000010"
                    ]
                  }
                },
                "title": {
                  "text": "Runtime of Coverage Detection for ACSIncome (Threshold=1)"
                },
                "xaxis": {
                  "title": {
                    "text": "Number of Patterns"
                  }
                },
                "yaxis": {
                  "title": {
                    "text": "Runtime (s)"
                  },
                  "type": "log"
                }
              }
            }
          },
          "metadata": {},
          "output_type": "display_data"
        }
      ],
      "source": [
        "fig_acs = visualize_runtime_experiment(\"ACSIncome\", cov_runtime_output_acs)\n",
        "fig_acs.update_layout(title=f'Runtime of Coverage Detection for ACSIncome (Threshold=1)', xaxis_title='Number of Patterns', yaxis_title='Runtime (s)', yaxis_type='log')"
      ]
    },
    {
      "cell_type": "code",
      "execution_count": 76,
      "metadata": {},
      "outputs": [],
      "source": [
        "with open(\"results_server/ACSIncome_cov_threshold_runtime_dict_2023-10-16.pkl\", \"rb\") as f:\n",
        "    cov_threshold_output_acs = pickle.load(f)"
      ]
    },
    {
      "cell_type": "code",
      "execution_count": 301,
      "metadata": {},
      "outputs": [
        {
          "data": {
            "application/vnd.plotly.v1+json": {
              "config": {
                "plotlyServerURL": "https://plot.ly"
              },
              "data": [
                {
                  "line": {
                    "color": "blue"
                  },
                  "mode": "lines+markers",
                  "name": "CoverageJava*",
                  "type": "scatter",
                  "x": [
                    0,
                    0.00001,
                    0.0001,
                    0.001,
                    0.01,
                    0.1
                  ],
                  "y": [
                    3.1447842121124268,
                    2.8527426719665527,
                    3.2254018783569336,
                    3.3372204303741455,
                    3.4799282550811768,
                    4.072035312652588
                  ]
                },
                {
                  "line": {
                    "color": "red"
                  },
                  "mode": "lines+markers",
                  "name": "Baseline (All Combs)",
                  "type": "scatter",
                  "x": [
                    0,
                    0.00001,
                    0.0001,
                    0.001,
                    0.01,
                    0.1
                  ],
                  "xaxis": "x",
                  "y": [
                    1166.4680726369843,
                    2605.2458965280093,
                    2535.79141544085,
                    2542.312558803009,
                    2614.4251585111488,
                    2621.115926363971
                  ],
                  "yaxis": "y"
                },
                {
                  "line": {
                    "color": "orange"
                  },
                  "mode": "lines+markers",
                  "name": "MUPs pwalk",
                  "type": "scatter",
                  "x": [
                    0,
                    0.00001,
                    0.0001,
                    0.001,
                    0.01,
                    0.1
                  ],
                  "xaxis": "x",
                  "y": [
                    402.8077102659736,
                    85.36723248683847,
                    23.29169873218052,
                    5.797709348844364,
                    1.238539369078353,
                    0.2013553879223764
                  ],
                  "yaxis": "y"
                }
              ],
              "layout": {
                "template": {
                  "data": {
                    "candlestick": [
                      {
                        "decreasing": {
                          "line": {
                            "color": "#000033"
                          }
                        },
                        "increasing": {
                          "line": {
                            "color": "#000032"
                          }
                        },
                        "type": "candlestick"
                      }
                    ],
                    "contour": [
                      {
                        "colorscale": [
                          [
                            0,
                            "#000011"
                          ],
                          [
                            0.1111111111111111,
                            "#000012"
                          ],
                          [
                            0.2222222222222222,
                            "#000013"
                          ],
                          [
                            0.3333333333333333,
                            "#000014"
                          ],
                          [
                            0.4444444444444444,
                            "#000015"
                          ],
                          [
                            0.5555555555555556,
                            "#000016"
                          ],
                          [
                            0.6666666666666666,
                            "#000017"
                          ],
                          [
                            0.7777777777777778,
                            "#000018"
                          ],
                          [
                            0.8888888888888888,
                            "#000019"
                          ],
                          [
                            1,
                            "#000020"
                          ]
                        ],
                        "type": "contour"
                      }
                    ],
                    "contourcarpet": [
                      {
                        "colorscale": [
                          [
                            0,
                            "#000011"
                          ],
                          [
                            0.1111111111111111,
                            "#000012"
                          ],
                          [
                            0.2222222222222222,
                            "#000013"
                          ],
                          [
                            0.3333333333333333,
                            "#000014"
                          ],
                          [
                            0.4444444444444444,
                            "#000015"
                          ],
                          [
                            0.5555555555555556,
                            "#000016"
                          ],
                          [
                            0.6666666666666666,
                            "#000017"
                          ],
                          [
                            0.7777777777777778,
                            "#000018"
                          ],
                          [
                            0.8888888888888888,
                            "#000019"
                          ],
                          [
                            1,
                            "#000020"
                          ]
                        ],
                        "type": "contourcarpet"
                      }
                    ],
                    "heatmap": [
                      {
                        "colorscale": [
                          [
                            0,
                            "#000011"
                          ],
                          [
                            0.1111111111111111,
                            "#000012"
                          ],
                          [
                            0.2222222222222222,
                            "#000013"
                          ],
                          [
                            0.3333333333333333,
                            "#000014"
                          ],
                          [
                            0.4444444444444444,
                            "#000015"
                          ],
                          [
                            0.5555555555555556,
                            "#000016"
                          ],
                          [
                            0.6666666666666666,
                            "#000017"
                          ],
                          [
                            0.7777777777777778,
                            "#000018"
                          ],
                          [
                            0.8888888888888888,
                            "#000019"
                          ],
                          [
                            1,
                            "#000020"
                          ]
                        ],
                        "type": "heatmap"
                      }
                    ],
                    "histogram2d": [
                      {
                        "colorscale": [
                          [
                            0,
                            "#000011"
                          ],
                          [
                            0.1111111111111111,
                            "#000012"
                          ],
                          [
                            0.2222222222222222,
                            "#000013"
                          ],
                          [
                            0.3333333333333333,
                            "#000014"
                          ],
                          [
                            0.4444444444444444,
                            "#000015"
                          ],
                          [
                            0.5555555555555556,
                            "#000016"
                          ],
                          [
                            0.6666666666666666,
                            "#000017"
                          ],
                          [
                            0.7777777777777778,
                            "#000018"
                          ],
                          [
                            0.8888888888888888,
                            "#000019"
                          ],
                          [
                            1,
                            "#000020"
                          ]
                        ],
                        "type": "histogram2d"
                      }
                    ],
                    "icicle": [
                      {
                        "textfont": {
                          "color": "white"
                        },
                        "type": "icicle"
                      }
                    ],
                    "sankey": [
                      {
                        "textfont": {
                          "color": "#000036"
                        },
                        "type": "sankey"
                      }
                    ],
                    "scatter": [
                      {
                        "marker": {
                          "line": {
                            "width": 0
                          }
                        },
                        "type": "scatter"
                      }
                    ],
                    "table": [
                      {
                        "cells": {
                          "fill": {
                            "color": "#000038"
                          },
                          "font": {
                            "color": "#000037"
                          },
                          "line": {
                            "color": "#000039"
                          }
                        },
                        "header": {
                          "fill": {
                            "color": "#000040"
                          },
                          "font": {
                            "color": "#000036"
                          },
                          "line": {
                            "color": "#000039"
                          }
                        },
                        "type": "table"
                      }
                    ],
                    "waterfall": [
                      {
                        "connector": {
                          "line": {
                            "color": "#000036",
                            "width": 2
                          }
                        },
                        "decreasing": {
                          "marker": {
                            "color": "#000033"
                          }
                        },
                        "increasing": {
                          "marker": {
                            "color": "#000032"
                          }
                        },
                        "totals": {
                          "marker": {
                            "color": "#000034"
                          }
                        },
                        "type": "waterfall"
                      }
                    ]
                  },
                  "layout": {
                    "coloraxis": {
                      "colorscale": [
                        [
                          0,
                          "#000011"
                        ],
                        [
                          0.1111111111111111,
                          "#000012"
                        ],
                        [
                          0.2222222222222222,
                          "#000013"
                        ],
                        [
                          0.3333333333333333,
                          "#000014"
                        ],
                        [
                          0.4444444444444444,
                          "#000015"
                        ],
                        [
                          0.5555555555555556,
                          "#000016"
                        ],
                        [
                          0.6666666666666666,
                          "#000017"
                        ],
                        [
                          0.7777777777777778,
                          "#000018"
                        ],
                        [
                          0.8888888888888888,
                          "#000019"
                        ],
                        [
                          1,
                          "#000020"
                        ]
                      ]
                    },
                    "colorscale": {
                      "diverging": [
                        [
                          0,
                          "#000021"
                        ],
                        [
                          0.1,
                          "#000022"
                        ],
                        [
                          0.2,
                          "#000023"
                        ],
                        [
                          0.3,
                          "#000024"
                        ],
                        [
                          0.4,
                          "#000025"
                        ],
                        [
                          0.5,
                          "#000026"
                        ],
                        [
                          0.6,
                          "#000027"
                        ],
                        [
                          0.7,
                          "#000028"
                        ],
                        [
                          0.8,
                          "#000029"
                        ],
                        [
                          0.9,
                          "#000030"
                        ],
                        [
                          1,
                          "#000031"
                        ]
                      ],
                      "sequential": [
                        [
                          0,
                          "#000011"
                        ],
                        [
                          0.1111111111111111,
                          "#000012"
                        ],
                        [
                          0.2222222222222222,
                          "#000013"
                        ],
                        [
                          0.3333333333333333,
                          "#000014"
                        ],
                        [
                          0.4444444444444444,
                          "#000015"
                        ],
                        [
                          0.5555555555555556,
                          "#000016"
                        ],
                        [
                          0.6666666666666666,
                          "#000017"
                        ],
                        [
                          0.7777777777777778,
                          "#000018"
                        ],
                        [
                          0.8888888888888888,
                          "#000019"
                        ],
                        [
                          1,
                          "#000020"
                        ]
                      ],
                      "sequentialminus": [
                        [
                          0,
                          "#000011"
                        ],
                        [
                          0.1111111111111111,
                          "#000012"
                        ],
                        [
                          0.2222222222222222,
                          "#000013"
                        ],
                        [
                          0.3333333333333333,
                          "#000014"
                        ],
                        [
                          0.4444444444444444,
                          "#000015"
                        ],
                        [
                          0.5555555555555556,
                          "#000016"
                        ],
                        [
                          0.6666666666666666,
                          "#000017"
                        ],
                        [
                          0.7777777777777778,
                          "#000018"
                        ],
                        [
                          0.8888888888888888,
                          "#000019"
                        ],
                        [
                          1,
                          "#000020"
                        ]
                      ]
                    },
                    "colorway": [
                      "#000001",
                      "#000002",
                      "#000003",
                      "#000004",
                      "#000005",
                      "#000006",
                      "#000007",
                      "#000008",
                      "#000009",
                      "#000010"
                    ]
                  }
                },
                "title": {
                  "text": "Runtime of Coverage Detection for ACSIncome"
                },
                "xaxis": {
                  "anchor": "y",
                  "domain": [
                    0,
                    0.94
                  ],
                  "title": {
                    "text": "Threshold"
                  },
                  "type": "log"
                },
                "yaxis": {
                  "anchor": "x",
                  "domain": [
                    0,
                    1
                  ],
                  "title": {
                    "text": "Runtime (s)"
                  }
                },
                "yaxis2": {
                  "anchor": "x",
                  "overlaying": "y",
                  "side": "right",
                  "title": {
                    "text": "total amount of patterns"
                  }
                }
              }
            }
          },
          "metadata": {},
          "output_type": "display_data"
        }
      ],
      "source": [
        "fig_acs_t = visualize_runtime_experiment_threshold('ACSIncome_9339813', cov_threshold_output_acs)\n",
        "fig_acs_t.update_layout(title=f'Runtime of Coverage Detection for ACSIncome', xaxis_title='Threshold', yaxis_title='Runtime (s)', xaxis_type='log')\n",
        "# fig_acs_t.update_xaxes(range=[0, 0.1])"
      ]
    },
    {
      "cell_type": "markdown",
      "metadata": {},
      "source": [
        "#### Number of MUPS"
      ]
    },
    {
      "cell_type": "code",
      "execution_count": 283,
      "metadata": {},
      "outputs": [],
      "source": [
        "with open(\"results_server/UKRoadSafety_cov_mups_size_dict_2023-10-17.pkl\", \"rb\") as f:\n",
        "    cov_mups_size_bn = pickle.load(f)"
      ]
    },
    {
      "cell_type": "code",
      "execution_count": 284,
      "metadata": {},
      "outputs": [],
      "source": [
        "cov_java = pd.DataFrame(cov_mups_size_bn['UKRoadSafety']['CoverageJava']).T\n",
        "cov_java = cov_java.rename(columns={0: \"MUPs_Java\", 1: \"Attributes_Java\"})"
      ]
    },
    {
      "cell_type": "code",
      "execution_count": 285,
      "metadata": {},
      "outputs": [],
      "source": [
        "pwalk = pd.DataFrame(cov_mups_size_bn['UKRoadSafety']['MUPs pwalk']).T\n",
        "pwalk = pwalk.rename(columns={0: \"MUPs\", 1: \"Attributes\"})\n",
        "pwalk[\"MUPs\"] = pwalk[\"MUPs\"].apply(lambda x: sum(len(v) for v in x.values()))\n",
        "mups = pwalk.join(cov_java)"
      ]
    },
    {
      "cell_type": "code",
      "execution_count": 286,
      "metadata": {},
      "outputs": [
        {
          "data": {
            "text/html": [
              "<div>\n",
              "<style scoped>\n",
              "    .dataframe tbody tr th:only-of-type {\n",
              "        vertical-align: middle;\n",
              "    }\n",
              "\n",
              "    .dataframe tbody tr th {\n",
              "        vertical-align: top;\n",
              "    }\n",
              "\n",
              "    .dataframe thead th {\n",
              "        text-align: right;\n",
              "    }\n",
              "</style>\n",
              "<table border=\"1\" class=\"dataframe\">\n",
              "  <thead>\n",
              "    <tr style=\"text-align: right;\">\n",
              "      <th></th>\n",
              "      <th>MUPs</th>\n",
              "      <th>Attributes</th>\n",
              "      <th>MUPs_Java</th>\n",
              "      <th>Attributes_Java</th>\n",
              "      <th>2</th>\n",
              "    </tr>\n",
              "  </thead>\n",
              "  <tbody>\n",
              "    <tr>\n",
              "      <th>14</th>\n",
              "      <td>1</td>\n",
              "      <td>(Urban_or_Rural_Area, Accident_Severity)</td>\n",
              "      <td>1</td>\n",
              "      <td>[Urban_or_Rural_Area, Accident_Severity]</td>\n",
              "      <td>0.860978</td>\n",
              "    </tr>\n",
              "    <tr>\n",
              "      <th>29</th>\n",
              "      <td>2</td>\n",
              "      <td>(Road_Type, Accident_Severity)</td>\n",
              "      <td>2</td>\n",
              "      <td>[Road_Type, Accident_Severity]</td>\n",
              "      <td>1.149429</td>\n",
              "    </tr>\n",
              "    <tr>\n",
              "      <th>31</th>\n",
              "      <td>0</td>\n",
              "      <td>(Day_of_Week, Accident_Severity)</td>\n",
              "      <td>0</td>\n",
              "      <td>[Day_of_Week, Accident_Severity]</td>\n",
              "      <td>0.88232</td>\n",
              "    </tr>\n",
              "    <tr>\n",
              "      <th>129</th>\n",
              "      <td>15</td>\n",
              "      <td>(Speed_limit, Urban_or_Rural_Area, Accident_Se...</td>\n",
              "      <td>15</td>\n",
              "      <td>[Speed_limit, Urban_or_Rural_Area, Accident_Se...</td>\n",
              "      <td>1.485255</td>\n",
              "    </tr>\n",
              "    <tr>\n",
              "      <th>447</th>\n",
              "      <td>0</td>\n",
              "      <td>(Day_of_Week, Accident_Severity, Year)</td>\n",
              "      <td>0</td>\n",
              "      <td>[Day_of_Week, Accident_Severity]</td>\n",
              "      <td>1.014553</td>\n",
              "    </tr>\n",
              "    <tr>\n",
              "      <th>722</th>\n",
              "      <td>110</td>\n",
              "      <td>(Road_Type, Speed_limit, Year)</td>\n",
              "      <td>21</td>\n",
              "      <td>[Road_Type, Speed_limit]</td>\n",
              "      <td>0.821445</td>\n",
              "    </tr>\n",
              "    <tr>\n",
              "      <th>1157</th>\n",
              "      <td>158</td>\n",
              "      <td>(Road_Type, Speed_limit, Urban_or_Rural_Area, ...</td>\n",
              "      <td>158</td>\n",
              "      <td>[Road_Type, Speed_limit, Urban_or_Rural_Area, ...</td>\n",
              "      <td>1.381274</td>\n",
              "    </tr>\n",
              "    <tr>\n",
              "      <th>2601</th>\n",
              "      <td>259</td>\n",
              "      <td>(Speed_limit, Accident_Severity, Road_Surface_...</td>\n",
              "      <td>26</td>\n",
              "      <td>[Speed_limit, Accident_Severity, Road_Surface_...</td>\n",
              "      <td>1.306149</td>\n",
              "    </tr>\n",
              "    <tr>\n",
              "      <th>7398</th>\n",
              "      <td>594</td>\n",
              "      <td>(Weather_Conditions, Road_Type, Day_of_Week, Y...</td>\n",
              "      <td>29</td>\n",
              "      <td>[Weather_Conditions, Road_Type, Day_of_Week]</td>\n",
              "      <td>1.468484</td>\n",
              "    </tr>\n",
              "    <tr>\n",
              "      <th>10677</th>\n",
              "      <td>1023</td>\n",
              "      <td>(Light_Conditions, Weather_Conditions, Road_Ty...</td>\n",
              "      <td>1024</td>\n",
              "      <td>[Light_Conditions, Weather_Conditions, Road_Ty...</td>\n",
              "      <td>1.341898</td>\n",
              "    </tr>\n",
              "    <tr>\n",
              "      <th>12343</th>\n",
              "      <td>1542</td>\n",
              "      <td>(Light_Conditions, Road_Type, Day_of_Week, Spe...</td>\n",
              "      <td>1542</td>\n",
              "      <td>[Light_Conditions, Road_Type, Day_of_Week, Spe...</td>\n",
              "      <td>1.58703</td>\n",
              "    </tr>\n",
              "    <tr>\n",
              "      <th>17346</th>\n",
              "      <td>1394</td>\n",
              "      <td>(Light_Conditions, Road_Type, Speed_limit, Urb...</td>\n",
              "      <td>1372</td>\n",
              "      <td>[Light_Conditions, Road_Type, Speed_limit, Urb...</td>\n",
              "      <td>1.56687</td>\n",
              "    </tr>\n",
              "    <tr>\n",
              "      <th>35607</th>\n",
              "      <td>4403</td>\n",
              "      <td>(Light_Conditions, Weather_Conditions, Road_Ty...</td>\n",
              "      <td>4298</td>\n",
              "      <td>[Light_Conditions, Weather_Conditions, Road_Ty...</td>\n",
              "      <td>2.061175</td>\n",
              "    </tr>\n",
              "    <tr>\n",
              "      <th>114779</th>\n",
              "      <td>15552</td>\n",
              "      <td>(Light_Conditions, Road_Type, Day_of_Week, Spe...</td>\n",
              "      <td>1542</td>\n",
              "      <td>[Light_Conditions, Road_Type, Day_of_Week, Spe...</td>\n",
              "      <td>1.787609</td>\n",
              "    </tr>\n",
              "    <tr>\n",
              "      <th>522774</th>\n",
              "      <td>33688</td>\n",
              "      <td>(Light_Conditions, Weather_Conditions, Road_Ty...</td>\n",
              "      <td>33172</td>\n",
              "      <td>[Light_Conditions, Weather_Conditions, Road_Ty...</td>\n",
              "      <td>20.596111</td>\n",
              "    </tr>\n",
              "    <tr>\n",
              "      <th>1383556</th>\n",
              "      <td>124545</td>\n",
              "      <td>(Light_Conditions, Weather_Conditions, Road_Ty...</td>\n",
              "      <td>17602</td>\n",
              "      <td>[Light_Conditions, Weather_Conditions, Road_Ty...</td>\n",
              "      <td>10.538427</td>\n",
              "    </tr>\n",
              "    <tr>\n",
              "      <th>3723646</th>\n",
              "      <td>220746</td>\n",
              "      <td>(Light_Conditions, Weather_Conditions, Road_Ty...</td>\n",
              "      <td>33172</td>\n",
              "      <td>[Light_Conditions, Weather_Conditions, Road_Ty...</td>\n",
              "      <td>36.646597</td>\n",
              "    </tr>\n",
              "  </tbody>\n",
              "</table>\n",
              "</div>"
            ],
            "text/plain": [
              "           MUPs                                         Attributes MUPs_Java  \\\n",
              "14            1           (Urban_or_Rural_Area, Accident_Severity)         1   \n",
              "29            2                     (Road_Type, Accident_Severity)         2   \n",
              "31            0                   (Day_of_Week, Accident_Severity)         0   \n",
              "129          15  (Speed_limit, Urban_or_Rural_Area, Accident_Se...        15   \n",
              "447           0             (Day_of_Week, Accident_Severity, Year)         0   \n",
              "722         110                     (Road_Type, Speed_limit, Year)        21   \n",
              "1157        158  (Road_Type, Speed_limit, Urban_or_Rural_Area, ...       158   \n",
              "2601        259  (Speed_limit, Accident_Severity, Road_Surface_...        26   \n",
              "7398        594  (Weather_Conditions, Road_Type, Day_of_Week, Y...        29   \n",
              "10677      1023  (Light_Conditions, Weather_Conditions, Road_Ty...      1024   \n",
              "12343      1542  (Light_Conditions, Road_Type, Day_of_Week, Spe...      1542   \n",
              "17346      1394  (Light_Conditions, Road_Type, Speed_limit, Urb...      1372   \n",
              "35607      4403  (Light_Conditions, Weather_Conditions, Road_Ty...      4298   \n",
              "114779    15552  (Light_Conditions, Road_Type, Day_of_Week, Spe...      1542   \n",
              "522774    33688  (Light_Conditions, Weather_Conditions, Road_Ty...     33172   \n",
              "1383556  124545  (Light_Conditions, Weather_Conditions, Road_Ty...     17602   \n",
              "3723646  220746  (Light_Conditions, Weather_Conditions, Road_Ty...     33172   \n",
              "\n",
              "                                           Attributes_Java          2  \n",
              "14                [Urban_or_Rural_Area, Accident_Severity]   0.860978  \n",
              "29                          [Road_Type, Accident_Severity]   1.149429  \n",
              "31                        [Day_of_Week, Accident_Severity]    0.88232  \n",
              "129      [Speed_limit, Urban_or_Rural_Area, Accident_Se...   1.485255  \n",
              "447                       [Day_of_Week, Accident_Severity]   1.014553  \n",
              "722                               [Road_Type, Speed_limit]   0.821445  \n",
              "1157     [Road_Type, Speed_limit, Urban_or_Rural_Area, ...   1.381274  \n",
              "2601     [Speed_limit, Accident_Severity, Road_Surface_...   1.306149  \n",
              "7398          [Weather_Conditions, Road_Type, Day_of_Week]   1.468484  \n",
              "10677    [Light_Conditions, Weather_Conditions, Road_Ty...   1.341898  \n",
              "12343    [Light_Conditions, Road_Type, Day_of_Week, Spe...    1.58703  \n",
              "17346    [Light_Conditions, Road_Type, Speed_limit, Urb...    1.56687  \n",
              "35607    [Light_Conditions, Weather_Conditions, Road_Ty...   2.061175  \n",
              "114779   [Light_Conditions, Road_Type, Day_of_Week, Spe...   1.787609  \n",
              "522774   [Light_Conditions, Weather_Conditions, Road_Ty...  20.596111  \n",
              "1383556  [Light_Conditions, Weather_Conditions, Road_Ty...  10.538427  \n",
              "3723646  [Light_Conditions, Weather_Conditions, Road_Ty...  36.646597  "
            ]
          },
          "execution_count": 286,
          "metadata": {},
          "output_type": "execute_result"
        }
      ],
      "source": [
        "mups"
      ]
    },
    {
      "cell_type": "markdown",
      "metadata": {},
      "source": [
        "----"
      ]
    },
    {
      "cell_type": "markdown",
      "metadata": {},
      "source": [
        "### Coverage based on No. of Attributes of Interest & Mean of 3x Repeat"
      ]
    },
    {
      "cell_type": "markdown",
      "metadata": {},
      "source": [
        "Input files can be produced based on test_coverage.py"
      ]
    },
    {
      "cell_type": "markdown",
      "metadata": {},
      "source": [
        "BlueNile"
      ]
    },
    {
      "cell_type": "code",
      "execution_count": 306,
      "metadata": {},
      "outputs": [],
      "source": [
        "pd.DataFrame(acs_income.nunique()).to_clipboard()"
      ]
    },
    {
      "cell_type": "code",
      "execution_count": 316,
      "metadata": {},
      "outputs": [],
      "source": [
        "with open(\"results_server/BlueNile_cov_combsize_runtime_dict_mean_2023-10-20.pkl\", \"rb\") as f:\n",
        "    cov_runtime_output_bn_mean = pickle.load(f)\n",
        "with open(\"results_server/BlueNile_cov_threshold_runtime_dict_mean_2023-10-20.pkl\", \"rb\") as f:\n",
        "    cov_runtime_output_bn_t = pickle.load(f)"
      ]
    },
    {
      "cell_type": "code",
      "execution_count": 317,
      "metadata": {},
      "outputs": [
        {
          "name": "stdout",
          "output_type": "stream",
          "text": [
            "CoverageJava\n",
            "(2: 0.20654773712158203)\n",
            "(3: 0.14939355850219727)\n",
            "(4: 0.18068146705627441)\n",
            "(5: 0.31819605827331543)\n",
            "(6: 0.7756261825561523)\n",
            "(7: 2.3958311080932617)\n",
            "Baseline (All Combs)\n",
            "(2: 0.001599363051354885)\n",
            "(3: 0.00045726137856642407)\n",
            "(4: 0.0014645533325771491)\n",
            "(5: 0.005763036043693622)\n",
            "(6: 0.022834554004172485)\n",
            "(7: 0.1407714964201053)\n",
            "MUPs pwalk\n",
            "(2: 0.0002704731499155362)\n",
            "(3: 0.0027824616990983486)\n",
            "(4: 0.025114494531104963)\n",
            "(5: 0.08577689295634627)\n",
            "(6: 0.31781935039907694)\n",
            "(7: 1.1251168426436682)\n"
          ]
        }
      ],
      "source": [
        "for method,result in cov_runtime_output_bn_mean[\"BlueNile\"].items():\n",
        "    print(f\"{method}\")\n",
        "    for k,v in result.items():\n",
        "        print(f\"({len(v[-1])}: {v[0]})\")"
      ]
    },
    {
      "cell_type": "code",
      "execution_count": 264,
      "metadata": {},
      "outputs": [
        {
          "name": "stdout",
          "output_type": "stream",
          "text": [
            "CoverageJava\n",
            "(0: 2.7561709880828857)\n",
            "(0.0001: 1.3967676162719727)\n",
            "(0.001: 0.5792684555053711)\n",
            "(0.01: 0.23100996017456055)\n",
            "(0.1: 0.132094144821167)\n",
            "Baseline (All Combs)\n",
            "(0: 0.12561611109413207)\n",
            "(0.0001: 2.8880874668247998)\n",
            "(0.001: 2.8161951198708266)\n",
            "(0.01: 2.7628919379785657)\n",
            "(0.1: 2.7380496819969267)\n",
            "MUPs pwalk\n",
            "(0: 1.1281105759553611)\n",
            "(0.0001: 0.6890750308521092)\n",
            "(0.001: 0.24902757909148932)\n",
            "(0.01: 0.06202251394279301)\n",
            "(0.1: 0.006471215048804879)\n"
          ]
        }
      ],
      "source": [
        "for method,result in cov_runtime_output_bn_t[\"BlueNile_129194\"].items():\n",
        "    print(f\"{method}\")\n",
        "    for k,v in result.items():\n",
        "        print(f\"({k}: {v[0]})\")"
      ]
    },
    {
      "cell_type": "code",
      "execution_count": 318,
      "metadata": {},
      "outputs": [
        {
          "name": "stdout",
          "output_type": "stream",
          "text": [
            "CoverageJava\n",
            "(0: 2.2461795806884766)\n",
            "(0.0001: 1.2817492485046387)\n",
            "(0.001: 0.5677435398101807)\n",
            "(0.01: 0.2361433506011963)\n",
            "(0.1: 0.12356281280517578)\n",
            "Baseline (All Combs)\n",
            "(0: 0.14090658367301026)\n",
            "(0.0001: 2.786594835886111)\n",
            "(0.001: 2.7307901840346553)\n",
            "(0.01: 2.7183195897378027)\n",
            "(0.1: 2.6788418628275394)\n",
            "MUPs pwalk\n",
            "(0: 1.1219812120931845)\n",
            "(0.0001: 0.6887152420046428)\n",
            "(0.001: 0.25066059657062095)\n",
            "(0.01: 0.06028954063852628)\n",
            "(0.1: 0.006060697603970766)\n"
          ]
        }
      ],
      "source": [
        "for method,result in cov_runtime_output_bn_t[\"BlueNile_129194\"].items():\n",
        "    print(f\"{method}\")\n",
        "    for k,v in result.items():\n",
        "        print(f\"({k}: {v[0]})\")"
      ]
    },
    {
      "cell_type": "markdown",
      "metadata": {},
      "source": [
        "UK Road Safety"
      ]
    },
    {
      "cell_type": "code",
      "execution_count": 265,
      "metadata": {},
      "outputs": [],
      "source": [
        "with open(\"results_server/UKRoadSafety_cov_combsize_runtime_dict_mean_2023-10-17.pkl\", \"rb\") as f:\n",
        "    cov_runtime_output_uk_mean = pickle.load(f)\n",
        "with open(\"results_server/UKRoadSafety_cov_threshold_runtime_dict_mean_2023-10-17.pkl\", \"rb\") as f:\n",
        "    cov_runtime_output_uk_t = pickle.load(f)"
      ]
    },
    {
      "cell_type": "code",
      "execution_count": 267,
      "metadata": {},
      "outputs": [
        {
          "name": "stdout",
          "output_type": "stream",
          "text": [
            "CoverageJava\n",
            "(1, 0.8207216262817383)\n",
            "(2, 1.0374367237091064)\n",
            "(3, 2.1196517944335938)\n",
            "(4, 1.8341691493988037)\n",
            "(5, 2.7312991619110107)\n",
            "(6, 3.8924992084503174)\n",
            "(7, 6.846422910690308)\n",
            "(8, 16.3694486618042)\n",
            "Baseline (All Combs)\n",
            "(2, 0.0004771933890879154)\n",
            "(3, 0.0007373583503067493)\n",
            "(4, 0.0038990166503936052)\n",
            "(5, 0.02577376862366994)\n",
            "(6, 0.2869309502808998)\n",
            "(7, 2.677912824321538)\n",
            "(8, 12.43063148126627)\n",
            "(9, 61.21041132897759)\n",
            "MUPs pwalk\n",
            "(2, 0.0009316693370540937)\n",
            "(3, 0.006826431102429827)\n",
            "(4, 0.05023986132194599)\n",
            "(5, 0.38891160433801514)\n",
            "(6, 1.9636025559157133)\n",
            "(7, 7.8727918806641055)\n",
            "(8, 22.07932007832763)\n",
            "(9, 67.03065078534807)\n"
          ]
        }
      ],
      "source": [
        "for method,result in cov_runtime_output_uk_mean[\"UKRoadSafety\"].items():\n",
        "    print(f\"{method}\")\n",
        "    for k,v in result.items():\n",
        "        print(f\"({len(v[-1])}, {v[0]})\")"
      ]
    },
    {
      "cell_type": "code",
      "execution_count": 272,
      "metadata": {},
      "outputs": [
        {
          "name": "stdout",
          "output_type": "stream",
          "text": [
            "CoverageJava\n",
            "(0, 17.26330852508545)\n",
            "(1e-06, 13.969251871109009)\n",
            "(1e-05, 8.13606595993042)\n",
            "(0.0001, 4.697667360305786)\n",
            "(0.001, 2.776423215866089)\n",
            "(0.01, 1.8614158630371094)\n",
            "(0.1, 1.8880629539489746)\n",
            "Baseline (All Combs)\n",
            "(0, 62.02678593387827)\n",
            "(1e-06, 545.9503073061351)\n",
            "(1e-05, 493.0468776091002)\n",
            "(0.0001, 476.02420189999975)\n",
            "(0.001, 472.31484121782705)\n",
            "(0.01, 474.21298974286765)\n",
            "(0.1, 467.6620404231362)\n",
            "MUPs pwalk\n",
            "(0, 66.80094218417071)\n",
            "(1e-06, 51.47853068308905)\n",
            "(1e-05, 21.916362643940374)\n",
            "(0.0001, 8.054226189153269)\n",
            "(0.001, 2.3131300089880824)\n",
            "(0.01, 0.46334648900665343)\n",
            "(0.1, 0.035612029023468494)\n"
          ]
        }
      ],
      "source": [
        "for method,result in cov_runtime_output_uk_t[\"UKRoadSafety_3723646\"].items():\n",
        "    print(f\"{method}\")\n",
        "    for k,v in result.items():\n",
        "        print(f\"({k}, {v[0]})\")"
      ]
    },
    {
      "cell_type": "markdown",
      "metadata": {},
      "source": [
        "ACSIncome"
      ]
    },
    {
      "cell_type": "code",
      "execution_count": 274,
      "metadata": {},
      "outputs": [],
      "source": [
        "with open(\"results_server/ACSIncome_cov_combsize_runtime_dict_mean_2023-10-18.pkl\", \"rb\") as f:\n",
        "    cov_runtime_output_acs_mean = pickle.load(f)\n",
        "with open(\"results_server/ACSIncome_cov_threshold_runtime_dict_mean_2023-10-18.pkl\", \"rb\") as f:    \n",
        "    cov_runtime_output_acs_t = pickle.load(f)       "
      ]
    },
    {
      "cell_type": "code",
      "execution_count": 275,
      "metadata": {},
      "outputs": [
        {
          "name": "stdout",
          "output_type": "stream",
          "text": [
            "Baseline (All Combs)\n",
            "(2, 0.003249630914069712)\n",
            "(3, 0.011317450436763465)\n",
            "(4, 0.16660850250627846)\n",
            "(5, 1.9309262784663588)\n",
            "(6, 13.144666976993904)\n",
            "(7, 59.51114845147822)\n",
            "(8, 285.46504188352264)\n",
            "(9, 1289.883854711079)\n",
            "MUPs pwalk\n",
            "(2, 0.02126442512962967)\n",
            "(3, 0.4579013620968908)\n",
            "(4, 2.2529745020437986)\n",
            "(5, 9.84007430949714)\n",
            "(6, 34.19822951592505)\n",
            "(7, 106.48765819892287)\n",
            "(8, 241.23116014548577)\n",
            "(9, 404.9731708118925)\n"
          ]
        }
      ],
      "source": [
        "for method,result in cov_runtime_output_acs_mean[\"ACSIncome\"].items():\n",
        "    print(f\"{method}\")\n",
        "    for k,v in result.items():\n",
        "        print(f\"({len(v[-1])}, {v[0]})\")"
      ]
    },
    {
      "cell_type": "code",
      "execution_count": 281,
      "metadata": {},
      "outputs": [
        {
          "name": "stdout",
          "output_type": "stream",
          "text": [
            "Baseline (All Combs)\n",
            "(0, 1294.5326224539895)\n",
            "(1e-05, 2653.121801445959)\n",
            "(0.0001, 2638.2896890139673)\n",
            "(0.001, 2635.378029016778)\n",
            "(0.01, 2606.4885705111083)\n",
            "(0.1, 2626.2586118630134)\n",
            "MUPs pwalk\n",
            "(0, 407.00151078915223)\n",
            "(1e-05, 86.39760038605891)\n",
            "(0.0001, 25.134359463118017)\n",
            "(0.001, 6.200797878904268)\n",
            "(0.01, 1.235835409956053)\n",
            "(0.1, 0.20219181990250945)\n"
          ]
        }
      ],
      "source": [
        "for method,result in cov_runtime_output_acs_t[\"ACSIncome_9339813\"].items():\n",
        "    print(f\"{method}\")\n",
        "    for k,v in result.items():\n",
        "        print(f\"({k}, {v[0]})\")"
      ]
    }
  ],
  "metadata": {
    "kernelspec": {
      "display_name": "diversity",
      "language": "python",
      "name": "python3"
    },
    "language_info": {
      "codemirror_mode": {
        "name": "ipython",
        "version": 3
      },
      "file_extension": ".py",
      "mimetype": "text/x-python",
      "name": "python",
      "nbconvert_exporter": "python",
      "pygments_lexer": "ipython3",
      "version": "3.10.0"
    },
    "orig_nbformat": 4
  },
  "nbformat": 4,
  "nbformat_minor": 2
}
